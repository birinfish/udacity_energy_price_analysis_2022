{
 "cells": [
  {
   "attachments": {},
   "cell_type": "markdown",
   "metadata": {},
   "source": [
    "### Project 1: Energy commodity prices analysis 2022\n",
    "\n",
    "The world has faced an unprecedented energy crisis this year. </br>\n",
    "The increasing cost of electricity and gas is stressing household bills. threatening business productivity.\n",
    "\n",
    "In this project, I would like to observe the energy commodity price changes through the last two years, </br>\n",
    "think about the possible influcencing factors, and check if the two different energy commodities (electricity and gas) are dependant on each each other.\n"
   ]
  },
  {
   "attachments": {},
   "cell_type": "markdown",
   "metadata": {},
   "source": [
    "**Here are the questions:**</br>\n",
    "Q 1: How much have the prices of energy commodities increased compared to 2021? </br>\n",
    "Q 2: What could have been influencing factors for price changes? </br>\n",
    "Q 3: Are the two different energy commoditiy prices(Electricity, Gas) correlated?"
   ]
  },
  {
   "cell_type": "code",
   "execution_count": 1,
   "metadata": {},
   "outputs": [],
   "source": [
    "#Import required modules and library package\n",
    "import pandas as pd\n",
    "import numpy as np\n",
    "import datetime as dt\n",
    "\n",
    "import plotly.express as px\n",
    "import plotly.offline as pyo\n",
    "import plotly.graph_objects as go\n",
    "from plotly.subplots import make_subplots"
   ]
  },
  {
   "attachments": {},
   "cell_type": "markdown",
   "metadata": {},
   "source": [
    "##### 1. Data understanding and preparation"
   ]
  },
  {
   "attachments": {},
   "cell_type": "markdown",
   "metadata": {},
   "source": [
    "- To see the price development for the last two years, the most liquid markets for each commodity were selected </br>\n",
    "  - Power: German Power market</br>\n",
    "  - Gas: The Netherlands TTF natural gas market\n",
    "\n",
    "The products I selected for this price anaylsis are day-ahead spot products for both markets.\n",
    "\n",
    "1-1 Read datasets</br>\n",
    "1-2 Explore the datasets </br>\n",
    "1-3 Handle missing values </br>\n",
    "1-4 Re-format datasets"
   ]
  },
  {
   "cell_type": "code",
   "execution_count": 2,
   "metadata": {},
   "outputs": [],
   "source": [
    "# 1-1 read datasets for power and gas spot prices of 2022\n",
    "pw_de_spot_2122_df = pd.read_csv(\"dataset/power_spot_2122\", index_col=0)\n",
    "gas_ttf_spot_2122_df = pd.read_csv(\"dataset/gas_spot_2122\", index_col=0)"
   ]
  },
  {
   "attachments": {},
   "cell_type": "markdown",
   "metadata": {},
   "source": [
    "1-2 Explore the dataset"
   ]
  },
  {
   "cell_type": "code",
   "execution_count": 3,
   "metadata": {},
   "outputs": [
    {
     "data": {
      "text/html": [
       "<div>\n",
       "<style scoped>\n",
       "    .dataframe tbody tr th:only-of-type {\n",
       "        vertical-align: middle;\n",
       "    }\n",
       "\n",
       "    .dataframe tbody tr th {\n",
       "        vertical-align: top;\n",
       "    }\n",
       "\n",
       "    .dataframe thead th {\n",
       "        text-align: right;\n",
       "    }\n",
       "</style>\n",
       "<table border=\"1\" class=\"dataframe\">\n",
       "  <thead>\n",
       "    <tr style=\"text-align: right;\">\n",
       "      <th></th>\n",
       "      <th>time</th>\n",
       "      <th>value</th>\n",
       "    </tr>\n",
       "  </thead>\n",
       "  <tbody>\n",
       "    <tr>\n",
       "      <th>0</th>\n",
       "      <td>2020-01-01</td>\n",
       "      <td>40.14</td>\n",
       "    </tr>\n",
       "    <tr>\n",
       "      <th>1</th>\n",
       "      <td>2020-01-02</td>\n",
       "      <td>38.11</td>\n",
       "    </tr>\n",
       "    <tr>\n",
       "      <th>2</th>\n",
       "      <td>2020-01-03</td>\n",
       "      <td>33.27</td>\n",
       "    </tr>\n",
       "    <tr>\n",
       "      <th>3</th>\n",
       "      <td>2020-01-04</td>\n",
       "      <td>35.70</td>\n",
       "    </tr>\n",
       "    <tr>\n",
       "      <th>4</th>\n",
       "      <td>2020-01-05</td>\n",
       "      <td>38.38</td>\n",
       "    </tr>\n",
       "  </tbody>\n",
       "</table>\n",
       "</div>"
      ],
      "text/plain": [
       "         time  value\n",
       "0  2020-01-01  40.14\n",
       "1  2020-01-02  38.11\n",
       "2  2020-01-03  33.27\n",
       "3  2020-01-04  35.70\n",
       "4  2020-01-05  38.38"
      ]
     },
     "execution_count": 3,
     "metadata": {},
     "output_type": "execute_result"
    }
   ],
   "source": [
    "pw_de_spot_2122_df.head()"
   ]
  },
  {
   "cell_type": "code",
   "execution_count": 4,
   "metadata": {},
   "outputs": [
    {
     "data": {
      "text/plain": [
       "time      object\n",
       "value    float64\n",
       "dtype: object"
      ]
     },
     "execution_count": 4,
     "metadata": {},
     "output_type": "execute_result"
    }
   ],
   "source": [
    "# check the dtypes of the df\n",
    "pw_de_spot_2122_df.dtypes"
   ]
  },
  {
   "cell_type": "code",
   "execution_count": 5,
   "metadata": {},
   "outputs": [
    {
     "data": {
      "text/html": [
       "<div>\n",
       "<style scoped>\n",
       "    .dataframe tbody tr th:only-of-type {\n",
       "        vertical-align: middle;\n",
       "    }\n",
       "\n",
       "    .dataframe tbody tr th {\n",
       "        vertical-align: top;\n",
       "    }\n",
       "\n",
       "    .dataframe thead th {\n",
       "        text-align: right;\n",
       "    }\n",
       "</style>\n",
       "<table border=\"1\" class=\"dataframe\">\n",
       "  <thead>\n",
       "    <tr style=\"text-align: right;\">\n",
       "      <th></th>\n",
       "      <th>time</th>\n",
       "      <th>value</th>\n",
       "    </tr>\n",
       "  </thead>\n",
       "  <tbody>\n",
       "    <tr>\n",
       "      <th>0</th>\n",
       "      <td>2020-01-01</td>\n",
       "      <td>NaN</td>\n",
       "    </tr>\n",
       "    <tr>\n",
       "      <th>1</th>\n",
       "      <td>2020-01-02</td>\n",
       "      <td>11.775</td>\n",
       "    </tr>\n",
       "    <tr>\n",
       "      <th>2</th>\n",
       "      <td>2020-01-03</td>\n",
       "      <td>12.562</td>\n",
       "    </tr>\n",
       "    <tr>\n",
       "      <th>3</th>\n",
       "      <td>2020-01-06</td>\n",
       "      <td>12.075</td>\n",
       "    </tr>\n",
       "    <tr>\n",
       "      <th>4</th>\n",
       "      <td>2020-01-07</td>\n",
       "      <td>11.538</td>\n",
       "    </tr>\n",
       "  </tbody>\n",
       "</table>\n",
       "</div>"
      ],
      "text/plain": [
       "         time   value\n",
       "0  2020-01-01     NaN\n",
       "1  2020-01-02  11.775\n",
       "2  2020-01-03  12.562\n",
       "3  2020-01-06  12.075\n",
       "4  2020-01-07  11.538"
      ]
     },
     "execution_count": 5,
     "metadata": {},
     "output_type": "execute_result"
    }
   ],
   "source": [
    "gas_ttf_spot_2122_df.head()"
   ]
  },
  {
   "cell_type": "code",
   "execution_count": 6,
   "metadata": {},
   "outputs": [
    {
     "data": {
      "text/plain": [
       "time      object\n",
       "value    float64\n",
       "dtype: object"
      ]
     },
     "execution_count": 6,
     "metadata": {},
     "output_type": "execute_result"
    }
   ],
   "source": [
    "# check the dtypes of the df\n",
    "gas_ttf_spot_2122_df.dtypes"
   ]
  },
  {
   "cell_type": "code",
   "execution_count": 7,
   "metadata": {},
   "outputs": [
    {
     "name": "stdout",
     "output_type": "stream",
     "text": [
      "The size of the power spot prices df for 2021-2022 is  (1088, 2)\n",
      "The size of the gas spot prices df for 2021-2022 is  (774, 2)\n"
     ]
    }
   ],
   "source": [
    "# check the size of datasets\n",
    "print(\"The size of the power spot prices df for 2021-2022 is \", pw_de_spot_2122_df.shape)\n",
    "print(\"The size of the gas spot prices df for 2021-2022 is \", gas_ttf_spot_2122_df.shape)"
   ]
  },
  {
   "attachments": {},
   "cell_type": "markdown",
   "metadata": {},
   "source": [
    "1-3 Handle missing values"
   ]
  },
  {
   "cell_type": "code",
   "execution_count": 8,
   "metadata": {},
   "outputs": [
    {
     "data": {
      "text/plain": [
       "time     0\n",
       "value    7\n",
       "dtype: int64"
      ]
     },
     "execution_count": 8,
     "metadata": {},
     "output_type": "execute_result"
    }
   ],
   "source": [
    "# explore missing values\n",
    "pw_de_spot_2122_df.isnull().sum()"
   ]
  },
  {
   "cell_type": "code",
   "execution_count": 9,
   "metadata": {},
   "outputs": [
    {
     "data": {
      "text/plain": [
       "time      0\n",
       "value    12\n",
       "dtype: int64"
      ]
     },
     "execution_count": 9,
     "metadata": {},
     "output_type": "execute_result"
    }
   ],
   "source": [
    "gas_ttf_spot_2122_df.isnull().sum()"
   ]
  },
  {
   "cell_type": "code",
   "execution_count": 10,
   "metadata": {},
   "outputs": [
    {
     "data": {
      "text/html": [
       "<div>\n",
       "<style scoped>\n",
       "    .dataframe tbody tr th:only-of-type {\n",
       "        vertical-align: middle;\n",
       "    }\n",
       "\n",
       "    .dataframe tbody tr th {\n",
       "        vertical-align: top;\n",
       "    }\n",
       "\n",
       "    .dataframe thead th {\n",
       "        text-align: right;\n",
       "    }\n",
       "</style>\n",
       "<table border=\"1\" class=\"dataframe\">\n",
       "  <thead>\n",
       "    <tr style=\"text-align: right;\">\n",
       "      <th></th>\n",
       "      <th>time</th>\n",
       "      <th>value</th>\n",
       "    </tr>\n",
       "  </thead>\n",
       "  <tbody>\n",
       "    <tr>\n",
       "      <th>102</th>\n",
       "      <td>2020-04-12</td>\n",
       "      <td>NaN</td>\n",
       "    </tr>\n",
       "    <tr>\n",
       "      <th>143</th>\n",
       "      <td>2020-05-23</td>\n",
       "      <td>NaN</td>\n",
       "    </tr>\n",
       "    <tr>\n",
       "      <th>358</th>\n",
       "      <td>2020-12-24</td>\n",
       "      <td>NaN</td>\n",
       "    </tr>\n",
       "    <tr>\n",
       "      <th>365</th>\n",
       "      <td>2020-12-31</td>\n",
       "      <td>NaN</td>\n",
       "    </tr>\n",
       "    <tr>\n",
       "      <th>456</th>\n",
       "      <td>2021-04-01</td>\n",
       "      <td>NaN</td>\n",
       "    </tr>\n",
       "    <tr>\n",
       "      <th>723</th>\n",
       "      <td>2021-12-24</td>\n",
       "      <td>NaN</td>\n",
       "    </tr>\n",
       "    <tr>\n",
       "      <th>730</th>\n",
       "      <td>2021-12-31</td>\n",
       "      <td>NaN</td>\n",
       "    </tr>\n",
       "  </tbody>\n",
       "</table>\n",
       "</div>"
      ],
      "text/plain": [
       "           time  value\n",
       "102  2020-04-12    NaN\n",
       "143  2020-05-23    NaN\n",
       "358  2020-12-24    NaN\n",
       "365  2020-12-31    NaN\n",
       "456  2021-04-01    NaN\n",
       "723  2021-12-24    NaN\n",
       "730  2021-12-31    NaN"
      ]
     },
     "execution_count": 10,
     "metadata": {},
     "output_type": "execute_result"
    }
   ],
   "source": [
    "# check the rows having nan\n",
    "pw_de_spot_2122_df[pw_de_spot_2122_df[\"value\"].isnull()]"
   ]
  },
  {
   "cell_type": "code",
   "execution_count": 11,
   "metadata": {},
   "outputs": [
    {
     "data": {
      "text/html": [
       "<div>\n",
       "<style scoped>\n",
       "    .dataframe tbody tr th:only-of-type {\n",
       "        vertical-align: middle;\n",
       "    }\n",
       "\n",
       "    .dataframe tbody tr th {\n",
       "        vertical-align: top;\n",
       "    }\n",
       "\n",
       "    .dataframe thead th {\n",
       "        text-align: right;\n",
       "    }\n",
       "</style>\n",
       "<table border=\"1\" class=\"dataframe\">\n",
       "  <thead>\n",
       "    <tr style=\"text-align: right;\">\n",
       "      <th></th>\n",
       "      <th>time</th>\n",
       "      <th>value</th>\n",
       "    </tr>\n",
       "  </thead>\n",
       "  <tbody>\n",
       "    <tr>\n",
       "      <th>0</th>\n",
       "      <td>2020-01-01</td>\n",
       "      <td>NaN</td>\n",
       "    </tr>\n",
       "    <tr>\n",
       "      <th>72</th>\n",
       "      <td>2020-04-10</td>\n",
       "      <td>NaN</td>\n",
       "    </tr>\n",
       "    <tr>\n",
       "      <th>73</th>\n",
       "      <td>2020-04-13</td>\n",
       "      <td>NaN</td>\n",
       "    </tr>\n",
       "    <tr>\n",
       "      <th>257</th>\n",
       "      <td>2020-12-25</td>\n",
       "      <td>NaN</td>\n",
       "    </tr>\n",
       "    <tr>\n",
       "      <th>262</th>\n",
       "      <td>2021-01-01</td>\n",
       "      <td>NaN</td>\n",
       "    </tr>\n",
       "    <tr>\n",
       "      <th>327</th>\n",
       "      <td>2021-04-02</td>\n",
       "      <td>NaN</td>\n",
       "    </tr>\n",
       "    <tr>\n",
       "      <th>328</th>\n",
       "      <td>2021-04-05</td>\n",
       "      <td>NaN</td>\n",
       "    </tr>\n",
       "    <tr>\n",
       "      <th>517</th>\n",
       "      <td>2021-12-27</td>\n",
       "      <td>NaN</td>\n",
       "    </tr>\n",
       "    <tr>\n",
       "      <th>518</th>\n",
       "      <td>2021-12-28</td>\n",
       "      <td>NaN</td>\n",
       "    </tr>\n",
       "    <tr>\n",
       "      <th>596</th>\n",
       "      <td>2022-04-15</td>\n",
       "      <td>NaN</td>\n",
       "    </tr>\n",
       "    <tr>\n",
       "      <th>597</th>\n",
       "      <td>2022-04-18</td>\n",
       "      <td>NaN</td>\n",
       "    </tr>\n",
       "    <tr>\n",
       "      <th>719</th>\n",
       "      <td>2022-10-10</td>\n",
       "      <td>NaN</td>\n",
       "    </tr>\n",
       "  </tbody>\n",
       "</table>\n",
       "</div>"
      ],
      "text/plain": [
       "           time  value\n",
       "0    2020-01-01    NaN\n",
       "72   2020-04-10    NaN\n",
       "73   2020-04-13    NaN\n",
       "257  2020-12-25    NaN\n",
       "262  2021-01-01    NaN\n",
       "327  2021-04-02    NaN\n",
       "328  2021-04-05    NaN\n",
       "517  2021-12-27    NaN\n",
       "518  2021-12-28    NaN\n",
       "596  2022-04-15    NaN\n",
       "597  2022-04-18    NaN\n",
       "719  2022-10-10    NaN"
      ]
     },
     "execution_count": 11,
     "metadata": {},
     "output_type": "execute_result"
    }
   ],
   "source": [
    "# check the rows having nan\n",
    "gas_ttf_spot_2122_df[gas_ttf_spot_2122_df[\"value\"].isnull()]"
   ]
  },
  {
   "attachments": {},
   "cell_type": "markdown",
   "metadata": {},
   "source": [
    "Here, I used forward and backward fill methods as the prices recorded for consecutive days. It would be more accurate than replacing NaN by mean/median."
   ]
  },
  {
   "cell_type": "code",
   "execution_count": 12,
   "metadata": {},
   "outputs": [],
   "source": [
    "# fill the NaN values with forward, backward filling\n",
    "pw_de_spot_2122_df = pw_de_spot_2122_df.ffill().bfill()\n",
    "gas_ttf_spot_2122_df = gas_ttf_spot_2122_df.ffill().bfill()"
   ]
  },
  {
   "cell_type": "code",
   "execution_count": 13,
   "metadata": {},
   "outputs": [
    {
     "data": {
      "text/plain": [
       "time     0\n",
       "value    0\n",
       "dtype: int64"
      ]
     },
     "execution_count": 13,
     "metadata": {},
     "output_type": "execute_result"
    }
   ],
   "source": [
    "# check the result of fillna\n",
    "gas_ttf_spot_2122_df.isnull().sum()"
   ]
  },
  {
   "cell_type": "code",
   "execution_count": 14,
   "metadata": {},
   "outputs": [
    {
     "data": {
      "text/plain": [
       "time     0\n",
       "value    0\n",
       "dtype: int64"
      ]
     },
     "execution_count": 14,
     "metadata": {},
     "output_type": "execute_result"
    }
   ],
   "source": [
    "pw_de_spot_2122_df.isnull().sum()"
   ]
  },
  {
   "attachments": {},
   "cell_type": "markdown",
   "metadata": {},
   "source": [
    "1-4 Reformat datasets"
   ]
  },
  {
   "cell_type": "code",
   "execution_count": 15,
   "metadata": {},
   "outputs": [],
   "source": [
    "# before merging the two dataframe, change the data type of the column \"time\" into datetype\n",
    "pw_de_spot_2122_df[\"time\"] = pd.to_datetime(pw_de_spot_2122_df[\"time\"])\n",
    "gas_ttf_spot_2122_df[\"time\"] = pd.to_datetime(gas_ttf_spot_2122_df[\"time\"])"
   ]
  },
  {
   "cell_type": "code",
   "execution_count": 16,
   "metadata": {},
   "outputs": [],
   "source": [
    "# merge the two data frames into one\n",
    "energy_spot_2122_df = pd.merge(left = gas_ttf_spot_2122_df, right = pw_de_spot_2122_df, on =\"time\", how = \"left\", suffixes=(\"_gas\", \"_power\"))"
   ]
  },
  {
   "cell_type": "code",
   "execution_count": 17,
   "metadata": {},
   "outputs": [
    {
     "data": {
      "text/plain": [
       "(774, 3)"
      ]
     },
     "execution_count": 17,
     "metadata": {},
     "output_type": "execute_result"
    }
   ],
   "source": [
    "energy_spot_2122_df.shape"
   ]
  },
  {
   "cell_type": "code",
   "execution_count": 18,
   "metadata": {},
   "outputs": [],
   "source": [
    "spot_2122_df = energy_spot_2122_df[(energy_spot_2122_df[\"time\"]>\"2020-12-31\")]"
   ]
  },
  {
   "cell_type": "code",
   "execution_count": 19,
   "metadata": {},
   "outputs": [
    {
     "data": {
      "text/html": [
       "<div>\n",
       "<style scoped>\n",
       "    .dataframe tbody tr th:only-of-type {\n",
       "        vertical-align: middle;\n",
       "    }\n",
       "\n",
       "    .dataframe tbody tr th {\n",
       "        vertical-align: top;\n",
       "    }\n",
       "\n",
       "    .dataframe thead th {\n",
       "        text-align: right;\n",
       "    }\n",
       "</style>\n",
       "<table border=\"1\" class=\"dataframe\">\n",
       "  <thead>\n",
       "    <tr style=\"text-align: right;\">\n",
       "      <th></th>\n",
       "      <th>time</th>\n",
       "      <th>value_gas</th>\n",
       "      <th>value_power</th>\n",
       "    </tr>\n",
       "  </thead>\n",
       "  <tbody>\n",
       "    <tr>\n",
       "      <th>262</th>\n",
       "      <td>2021-01-01</td>\n",
       "      <td>18.90</td>\n",
       "      <td>50.56</td>\n",
       "    </tr>\n",
       "    <tr>\n",
       "      <th>263</th>\n",
       "      <td>2021-01-04</td>\n",
       "      <td>19.95</td>\n",
       "      <td>57.29</td>\n",
       "    </tr>\n",
       "    <tr>\n",
       "      <th>264</th>\n",
       "      <td>2021-01-05</td>\n",
       "      <td>18.25</td>\n",
       "      <td>56.96</td>\n",
       "    </tr>\n",
       "    <tr>\n",
       "      <th>265</th>\n",
       "      <td>2021-01-06</td>\n",
       "      <td>17.73</td>\n",
       "      <td>73.25</td>\n",
       "    </tr>\n",
       "    <tr>\n",
       "      <th>266</th>\n",
       "      <td>2021-01-07</td>\n",
       "      <td>19.30</td>\n",
       "      <td>79.53</td>\n",
       "    </tr>\n",
       "  </tbody>\n",
       "</table>\n",
       "</div>"
      ],
      "text/plain": [
       "          time  value_gas  value_power\n",
       "262 2021-01-01      18.90        50.56\n",
       "263 2021-01-04      19.95        57.29\n",
       "264 2021-01-05      18.25        56.96\n",
       "265 2021-01-06      17.73        73.25\n",
       "266 2021-01-07      19.30        79.53"
      ]
     },
     "execution_count": 19,
     "metadata": {},
     "output_type": "execute_result"
    }
   ],
   "source": [
    "spot_2122_df.head()"
   ]
  },
  {
   "cell_type": "code",
   "execution_count": 20,
   "metadata": {},
   "outputs": [
    {
     "name": "stdout",
     "output_type": "stream",
     "text": [
      "power price mean 2021 : 110.89\n",
      "power price mean 2022 : 276.24\n",
      "gas price mean 2021 : 47.09\n",
      "gas price mean 2022 : 123.98\n"
     ]
    }
   ],
   "source": [
    "# Get the mean values for each type of commodity and year \n",
    "pw_21_mean = spot_2122_df[spot_2122_df[\"time\"]<\"2022-01-01\"][\"value_power\"].mean()\n",
    "pw_22_mean = spot_2122_df[spot_2122_df[\"time\"]>\"2021-12-31\"][\"value_power\"].mean()\n",
    "gas_21_mean = spot_2122_df[spot_2122_df[\"time\"]<\"2022-01-01\"][\"value_gas\"].mean()\n",
    "gas_22_mean = spot_2122_df[spot_2122_df[\"time\"]>\"2021-12-31\"][\"value_gas\"].mean()\n",
    "print(\"power price mean 2021 :\", \"{:.2f}\".format(pw_21_mean))\n",
    "print(\"power price mean 2022 :\", \"{:.2f}\".format(pw_22_mean))\n",
    "print(\"gas price mean 2021 :\", \"{:.2f}\".format(gas_21_mean))\n",
    "print(\"gas price mean 2022 :\", \"{:.2f}\".format(gas_22_mean))"
   ]
  },
  {
   "cell_type": "code",
   "execution_count": 21,
   "metadata": {},
   "outputs": [
    {
     "data": {
      "application/vnd.plotly.v1+json": {
       "config": {
        "plotlyServerURL": "https://plot.ly"
       },
       "data": [
        {
         "name": "DE Power",
         "type": "scatter",
         "x": [
          "2021-01-01T00:00:00",
          "2021-01-04T00:00:00",
          "2021-01-05T00:00:00",
          "2021-01-06T00:00:00",
          "2021-01-07T00:00:00",
          "2021-01-08T00:00:00",
          "2021-01-11T00:00:00",
          "2021-01-12T00:00:00",
          "2021-01-13T00:00:00",
          "2021-01-14T00:00:00",
          "2021-01-15T00:00:00",
          "2021-01-18T00:00:00",
          "2021-01-19T00:00:00",
          "2021-01-20T00:00:00",
          "2021-01-21T00:00:00",
          "2021-01-22T00:00:00",
          "2021-01-25T00:00:00",
          "2021-01-26T00:00:00",
          "2021-01-27T00:00:00",
          "2021-01-28T00:00:00",
          "2021-01-29T00:00:00",
          "2021-02-01T00:00:00",
          "2021-02-02T00:00:00",
          "2021-02-03T00:00:00",
          "2021-02-04T00:00:00",
          "2021-02-05T00:00:00",
          "2021-02-08T00:00:00",
          "2021-02-09T00:00:00",
          "2021-02-10T00:00:00",
          "2021-02-11T00:00:00",
          "2021-02-12T00:00:00",
          "2021-02-15T00:00:00",
          "2021-02-16T00:00:00",
          "2021-02-17T00:00:00",
          "2021-02-18T00:00:00",
          "2021-02-19T00:00:00",
          "2021-02-22T00:00:00",
          "2021-02-23T00:00:00",
          "2021-02-24T00:00:00",
          "2021-02-25T00:00:00",
          "2021-02-26T00:00:00",
          "2021-03-01T00:00:00",
          "2021-03-02T00:00:00",
          "2021-03-03T00:00:00",
          "2021-03-04T00:00:00",
          "2021-03-05T00:00:00",
          "2021-03-08T00:00:00",
          "2021-03-09T00:00:00",
          "2021-03-10T00:00:00",
          "2021-03-11T00:00:00",
          "2021-03-12T00:00:00",
          "2021-03-15T00:00:00",
          "2021-03-16T00:00:00",
          "2021-03-17T00:00:00",
          "2021-03-18T00:00:00",
          "2021-03-19T00:00:00",
          "2021-03-22T00:00:00",
          "2021-03-23T00:00:00",
          "2021-03-24T00:00:00",
          "2021-03-25T00:00:00",
          "2021-03-26T00:00:00",
          "2021-03-29T00:00:00",
          "2021-03-30T00:00:00",
          "2021-03-31T00:00:00",
          "2021-04-01T00:00:00",
          "2021-04-02T00:00:00",
          "2021-04-05T00:00:00",
          "2021-04-06T00:00:00",
          "2021-04-07T00:00:00",
          "2021-04-08T00:00:00",
          "2021-04-09T00:00:00",
          "2021-04-12T00:00:00",
          "2021-04-13T00:00:00",
          "2021-04-14T00:00:00",
          "2021-04-15T00:00:00",
          "2021-04-16T00:00:00",
          "2021-04-19T00:00:00",
          "2021-04-20T00:00:00",
          "2021-04-21T00:00:00",
          "2021-04-22T00:00:00",
          "2021-04-23T00:00:00",
          "2021-04-26T00:00:00",
          "2021-04-27T00:00:00",
          "2021-04-28T00:00:00",
          "2021-04-29T00:00:00",
          "2021-04-30T00:00:00",
          "2021-05-03T00:00:00",
          "2021-05-04T00:00:00",
          "2021-05-05T00:00:00",
          "2021-05-06T00:00:00",
          "2021-05-07T00:00:00",
          "2021-05-10T00:00:00",
          "2021-05-11T00:00:00",
          "2021-05-12T00:00:00",
          "2021-05-13T00:00:00",
          "2021-05-14T00:00:00",
          "2021-05-17T00:00:00",
          "2021-05-18T00:00:00",
          "2021-05-19T00:00:00",
          "2021-05-20T00:00:00",
          "2021-05-21T00:00:00",
          "2021-05-24T00:00:00",
          "2021-05-25T00:00:00",
          "2021-05-26T00:00:00",
          "2021-05-27T00:00:00",
          "2021-05-28T00:00:00",
          "2021-05-31T00:00:00",
          "2021-06-01T00:00:00",
          "2021-06-02T00:00:00",
          "2021-06-03T00:00:00",
          "2021-06-04T00:00:00",
          "2021-06-07T00:00:00",
          "2021-06-08T00:00:00",
          "2021-06-09T00:00:00",
          "2021-06-10T00:00:00",
          "2021-06-11T00:00:00",
          "2021-06-14T00:00:00",
          "2021-06-15T00:00:00",
          "2021-06-16T00:00:00",
          "2021-06-17T00:00:00",
          "2021-06-18T00:00:00",
          "2021-06-21T00:00:00",
          "2021-06-22T00:00:00",
          "2021-06-23T00:00:00",
          "2021-06-24T00:00:00",
          "2021-06-25T00:00:00",
          "2021-06-28T00:00:00",
          "2021-06-29T00:00:00",
          "2021-06-30T00:00:00",
          "2021-07-01T00:00:00",
          "2021-07-02T00:00:00",
          "2021-07-05T00:00:00",
          "2021-07-06T00:00:00",
          "2021-07-07T00:00:00",
          "2021-07-08T00:00:00",
          "2021-07-09T00:00:00",
          "2021-07-12T00:00:00",
          "2021-07-13T00:00:00",
          "2021-07-14T00:00:00",
          "2021-07-15T00:00:00",
          "2021-07-16T00:00:00",
          "2021-07-19T00:00:00",
          "2021-07-20T00:00:00",
          "2021-07-21T00:00:00",
          "2021-07-22T00:00:00",
          "2021-07-23T00:00:00",
          "2021-07-26T00:00:00",
          "2021-07-27T00:00:00",
          "2021-07-28T00:00:00",
          "2021-07-29T00:00:00",
          "2021-07-30T00:00:00",
          "2021-08-02T00:00:00",
          "2021-08-03T00:00:00",
          "2021-08-04T00:00:00",
          "2021-08-05T00:00:00",
          "2021-08-06T00:00:00",
          "2021-08-09T00:00:00",
          "2021-08-10T00:00:00",
          "2021-08-11T00:00:00",
          "2021-08-12T00:00:00",
          "2021-08-13T00:00:00",
          "2021-08-16T00:00:00",
          "2021-08-17T00:00:00",
          "2021-08-18T00:00:00",
          "2021-08-19T00:00:00",
          "2021-08-20T00:00:00",
          "2021-08-23T00:00:00",
          "2021-08-24T00:00:00",
          "2021-08-25T00:00:00",
          "2021-08-26T00:00:00",
          "2021-08-27T00:00:00",
          "2021-08-30T00:00:00",
          "2021-08-31T00:00:00",
          "2021-09-01T00:00:00",
          "2021-09-02T00:00:00",
          "2021-09-03T00:00:00",
          "2021-09-06T00:00:00",
          "2021-09-07T00:00:00",
          "2021-09-08T00:00:00",
          "2021-09-09T00:00:00",
          "2021-09-10T00:00:00",
          "2021-09-13T00:00:00",
          "2021-09-14T00:00:00",
          "2021-09-15T00:00:00",
          "2021-09-16T00:00:00",
          "2021-09-17T00:00:00",
          "2021-09-20T00:00:00",
          "2021-09-21T00:00:00",
          "2021-09-22T00:00:00",
          "2021-09-23T00:00:00",
          "2021-09-24T00:00:00",
          "2021-09-27T00:00:00",
          "2021-09-28T00:00:00",
          "2021-09-29T00:00:00",
          "2021-09-30T00:00:00",
          "2021-10-01T00:00:00",
          "2021-10-04T00:00:00",
          "2021-10-05T00:00:00",
          "2021-10-06T00:00:00",
          "2021-10-07T00:00:00",
          "2021-10-08T00:00:00",
          "2021-10-11T00:00:00",
          "2021-10-12T00:00:00",
          "2021-10-13T00:00:00",
          "2021-10-14T00:00:00",
          "2021-10-15T00:00:00",
          "2021-10-18T00:00:00",
          "2021-10-19T00:00:00",
          "2021-10-20T00:00:00",
          "2021-10-21T00:00:00",
          "2021-10-22T00:00:00",
          "2021-10-25T00:00:00",
          "2021-10-26T00:00:00",
          "2021-10-27T00:00:00",
          "2021-10-28T00:00:00",
          "2021-10-29T00:00:00",
          "2021-11-01T00:00:00",
          "2021-11-02T00:00:00",
          "2021-11-03T00:00:00",
          "2021-11-04T00:00:00",
          "2021-11-05T00:00:00",
          "2021-11-08T00:00:00",
          "2021-11-09T00:00:00",
          "2021-11-10T00:00:00",
          "2021-11-11T00:00:00",
          "2021-11-12T00:00:00",
          "2021-11-15T00:00:00",
          "2021-11-16T00:00:00",
          "2021-11-17T00:00:00",
          "2021-11-18T00:00:00",
          "2021-11-19T00:00:00",
          "2021-11-23T00:00:00",
          "2021-11-24T00:00:00",
          "2021-11-25T00:00:00",
          "2021-11-26T00:00:00",
          "2021-11-29T00:00:00",
          "2021-11-30T00:00:00",
          "2021-12-01T00:00:00",
          "2021-12-02T00:00:00",
          "2021-12-03T00:00:00",
          "2021-12-06T00:00:00",
          "2021-12-07T00:00:00",
          "2021-12-08T00:00:00",
          "2021-12-09T00:00:00",
          "2021-12-10T00:00:00",
          "2021-12-13T00:00:00",
          "2021-12-14T00:00:00",
          "2021-12-15T00:00:00",
          "2021-12-16T00:00:00",
          "2021-12-17T00:00:00",
          "2021-12-20T00:00:00",
          "2021-12-21T00:00:00",
          "2021-12-22T00:00:00",
          "2021-12-23T00:00:00",
          "2021-12-24T00:00:00",
          "2021-12-27T00:00:00",
          "2021-12-28T00:00:00",
          "2021-12-29T00:00:00",
          "2021-12-30T00:00:00",
          "2021-12-31T00:00:00",
          "2022-01-03T00:00:00",
          "2022-01-04T00:00:00",
          "2022-01-05T00:00:00",
          "2022-01-06T00:00:00",
          "2022-01-07T00:00:00",
          "2022-01-10T00:00:00",
          "2022-01-11T00:00:00",
          "2022-01-12T00:00:00",
          "2022-01-13T00:00:00",
          "2022-01-14T00:00:00",
          "2022-01-17T00:00:00",
          "2022-01-18T00:00:00",
          "2022-01-19T00:00:00",
          "2022-01-20T00:00:00",
          "2022-01-21T00:00:00",
          "2022-01-24T00:00:00",
          "2022-01-25T00:00:00",
          "2022-01-26T00:00:00",
          "2022-01-27T00:00:00",
          "2022-01-28T00:00:00",
          "2022-01-31T00:00:00",
          "2022-02-01T00:00:00",
          "2022-02-02T00:00:00",
          "2022-02-03T00:00:00",
          "2022-02-04T00:00:00",
          "2022-02-07T00:00:00",
          "2022-02-08T00:00:00",
          "2022-02-09T00:00:00",
          "2022-02-10T00:00:00",
          "2022-02-11T00:00:00",
          "2022-02-14T00:00:00",
          "2022-02-15T00:00:00",
          "2022-02-16T00:00:00",
          "2022-02-17T00:00:00",
          "2022-02-18T00:00:00",
          "2022-02-21T00:00:00",
          "2022-02-22T00:00:00",
          "2022-02-23T00:00:00",
          "2022-02-24T00:00:00",
          "2022-02-25T00:00:00",
          "2022-02-28T00:00:00",
          "2022-03-01T00:00:00",
          "2022-03-02T00:00:00",
          "2022-03-03T00:00:00",
          "2022-03-04T00:00:00",
          "2022-03-07T00:00:00",
          "2022-03-08T00:00:00",
          "2022-03-09T00:00:00",
          "2022-03-10T00:00:00",
          "2022-03-11T00:00:00",
          "2022-03-14T00:00:00",
          "2022-03-15T00:00:00",
          "2022-03-16T00:00:00",
          "2022-03-17T00:00:00",
          "2022-03-18T00:00:00",
          "2022-03-21T00:00:00",
          "2022-03-22T00:00:00",
          "2022-03-23T00:00:00",
          "2022-03-24T00:00:00",
          "2022-03-25T00:00:00",
          "2022-03-28T00:00:00",
          "2022-03-29T00:00:00",
          "2022-03-30T00:00:00",
          "2022-03-31T00:00:00",
          "2022-04-01T00:00:00",
          "2022-04-04T00:00:00",
          "2022-04-05T00:00:00",
          "2022-04-06T00:00:00",
          "2022-04-07T00:00:00",
          "2022-04-08T00:00:00",
          "2022-04-11T00:00:00",
          "2022-04-12T00:00:00",
          "2022-04-13T00:00:00",
          "2022-04-14T00:00:00",
          "2022-04-15T00:00:00",
          "2022-04-18T00:00:00",
          "2022-04-19T00:00:00",
          "2022-04-20T00:00:00",
          "2022-04-21T00:00:00",
          "2022-04-22T00:00:00",
          "2022-04-25T00:00:00",
          "2022-04-26T00:00:00",
          "2022-04-27T00:00:00",
          "2022-04-28T00:00:00",
          "2022-04-29T00:00:00",
          "2022-05-02T00:00:00",
          "2022-05-03T00:00:00",
          "2022-05-04T00:00:00",
          "2022-05-05T00:00:00",
          "2022-05-06T00:00:00",
          "2022-05-09T00:00:00",
          "2022-05-10T00:00:00",
          "2022-05-11T00:00:00",
          "2022-05-12T00:00:00",
          "2022-05-13T00:00:00",
          "2022-05-16T00:00:00",
          "2022-05-17T00:00:00",
          "2022-05-19T00:00:00",
          "2022-05-20T00:00:00",
          "2022-05-23T00:00:00",
          "2022-05-24T00:00:00",
          "2022-05-25T00:00:00",
          "2022-05-26T00:00:00",
          "2022-05-27T00:00:00",
          "2022-05-30T00:00:00",
          "2022-05-31T00:00:00",
          "2022-06-01T00:00:00",
          "2022-06-02T00:00:00",
          "2022-06-03T00:00:00",
          "2022-06-06T00:00:00",
          "2022-06-07T00:00:00",
          "2022-06-08T00:00:00",
          "2022-06-09T00:00:00",
          "2022-06-10T00:00:00",
          "2022-06-13T00:00:00",
          "2022-06-14T00:00:00",
          "2022-06-15T00:00:00",
          "2022-06-16T00:00:00",
          "2022-06-17T00:00:00",
          "2022-06-20T00:00:00",
          "2022-06-21T00:00:00",
          "2022-06-22T00:00:00",
          "2022-06-23T00:00:00",
          "2022-06-24T00:00:00",
          "2022-06-27T00:00:00",
          "2022-06-28T00:00:00",
          "2022-06-29T00:00:00",
          "2022-06-30T00:00:00",
          "2022-07-01T00:00:00",
          "2022-07-04T00:00:00",
          "2022-07-05T00:00:00",
          "2022-07-06T00:00:00",
          "2022-07-07T00:00:00",
          "2022-07-08T00:00:00",
          "2022-07-11T00:00:00",
          "2022-07-12T00:00:00",
          "2022-07-13T00:00:00",
          "2022-07-14T00:00:00",
          "2022-07-15T00:00:00",
          "2022-07-18T00:00:00",
          "2022-07-19T00:00:00",
          "2022-07-20T00:00:00",
          "2022-07-21T00:00:00",
          "2022-07-22T00:00:00",
          "2022-07-25T00:00:00",
          "2022-07-27T00:00:00",
          "2022-07-28T00:00:00",
          "2022-07-29T00:00:00",
          "2022-08-01T00:00:00",
          "2022-08-02T00:00:00",
          "2022-08-03T00:00:00",
          "2022-08-04T00:00:00",
          "2022-08-05T00:00:00",
          "2022-08-08T00:00:00",
          "2022-08-09T00:00:00",
          "2022-08-10T00:00:00",
          "2022-08-11T00:00:00",
          "2022-08-12T00:00:00",
          "2022-08-15T00:00:00",
          "2022-08-16T00:00:00",
          "2022-08-17T00:00:00",
          "2022-08-18T00:00:00",
          "2022-08-19T00:00:00",
          "2022-08-22T00:00:00",
          "2022-08-23T00:00:00",
          "2022-08-24T00:00:00",
          "2022-08-25T00:00:00",
          "2022-08-26T00:00:00",
          "2022-08-29T00:00:00",
          "2022-08-30T00:00:00",
          "2022-08-31T00:00:00",
          "2022-09-01T00:00:00",
          "2022-09-02T00:00:00",
          "2022-09-05T00:00:00",
          "2022-09-06T00:00:00",
          "2022-09-07T00:00:00",
          "2022-09-08T00:00:00",
          "2022-09-09T00:00:00",
          "2022-09-13T00:00:00",
          "2022-09-14T00:00:00",
          "2022-09-15T00:00:00",
          "2022-09-16T00:00:00",
          "2022-09-19T00:00:00",
          "2022-09-20T00:00:00",
          "2022-09-21T00:00:00",
          "2022-09-22T00:00:00",
          "2022-09-23T00:00:00",
          "2022-09-26T00:00:00",
          "2022-09-27T00:00:00",
          "2022-09-28T00:00:00",
          "2022-09-29T00:00:00",
          "2022-09-30T00:00:00",
          "2022-10-03T00:00:00",
          "2022-10-04T00:00:00",
          "2022-10-05T00:00:00",
          "2022-10-06T00:00:00",
          "2022-10-07T00:00:00",
          "2022-10-10T00:00:00",
          "2022-10-11T00:00:00",
          "2022-10-12T00:00:00",
          "2022-10-13T00:00:00",
          "2022-10-14T00:00:00",
          "2022-10-17T00:00:00",
          "2022-10-18T00:00:00",
          "2022-10-19T00:00:00",
          "2022-10-20T00:00:00",
          "2022-10-21T00:00:00",
          "2022-10-24T00:00:00",
          "2022-10-25T00:00:00",
          "2022-10-26T00:00:00",
          "2022-10-27T00:00:00",
          "2022-10-28T00:00:00",
          "2022-10-31T00:00:00",
          "2022-11-01T00:00:00",
          "2022-11-02T00:00:00",
          "2022-11-03T00:00:00",
          "2022-11-04T00:00:00",
          "2022-11-07T00:00:00",
          "2022-11-08T00:00:00",
          "2022-11-09T00:00:00",
          "2022-11-10T00:00:00",
          "2022-11-11T00:00:00",
          "2022-11-14T00:00:00",
          "2022-11-15T00:00:00",
          "2022-11-16T00:00:00",
          "2022-11-17T00:00:00",
          "2022-11-18T00:00:00",
          "2022-11-21T00:00:00",
          "2022-11-22T00:00:00",
          "2022-11-23T00:00:00",
          "2022-11-24T00:00:00",
          "2022-11-25T00:00:00",
          "2022-11-28T00:00:00",
          "2022-11-29T00:00:00",
          "2022-11-30T00:00:00",
          "2022-12-01T00:00:00",
          "2022-12-02T00:00:00",
          "2022-12-05T00:00:00",
          "2022-12-06T00:00:00",
          "2022-12-07T00:00:00",
          "2022-12-08T00:00:00",
          "2022-12-09T00:00:00",
          "2022-12-12T00:00:00",
          "2022-12-13T00:00:00",
          "2022-12-14T00:00:00",
          "2022-12-15T00:00:00",
          "2022-12-16T00:00:00",
          "2022-12-19T00:00:00",
          "2022-12-20T00:00:00",
          "2022-12-21T00:00:00",
          "2022-12-22T00:00:00",
          "2022-12-23T00:00:00"
         ],
         "y": [
          50.56,
          57.29,
          56.96,
          73.25,
          79.53,
          59.58,
          58.24,
          61.08,
          71.47,
          72.8,
          56.26,
          68.61,
          56.83,
          59.44,
          51.43,
          51.74,
          62.01,
          58.28,
          56.04,
          51.96,
          48.43,
          54.95,
          44.23,
          52.15,
          51.42,
          38.13,
          64.54,
          72.27,
          79.26,
          62.38,
          53.53,
          57.58,
          52.65,
          51.63,
          50.52,
          38.65,
          46.31,
          48.41,
          46.16,
          48.21,
          44.82,
          55.54,
          53.63,
          54.12,
          53.44,
          44.77,
          61.04,
          56.47,
          54.19,
          47.81,
          41.34,
          56.06,
          58.16,
          65.55,
          62.44,
          51.37,
          63.32,
          59.55,
          63.52,
          59.26,
          45.02,
          57.59,
          58.37,
          54.92,
          54.92,
          39.04,
          49.46,
          58.11,
          61.38,
          60.56,
          59.02,
          70.95,
          76.51,
          74.94,
          69.35,
          63.23,
          81.95,
          79.47,
          58.28,
          65.39,
          53.23,
          69.78,
          67.78,
          68.84,
          69.88,
          56.69,
          32.26,
          44.77,
          65.59,
          71.58,
          49.77,
          72.17,
          68.75,
          62.74,
          71.75,
          60.11,
          74.18,
          77.46,
          69.83,
          36.22,
          16.19,
          59.79,
          66.28,
          71.96,
          73.6,
          56.49,
          68.25,
          66.54,
          63.13,
          71.8,
          62.71,
          76.82,
          76.55,
          78.74,
          78,
          40.12,
          82.67,
          85.11,
          80.08,
          80.33,
          71.03,
          84.47,
          92.36,
          94.69,
          89.54,
          79.51,
          91.64,
          92.27,
          89.36,
          97.04,
          84.85,
          87.02,
          100.76,
          109.46,
          91.3,
          81.3,
          95.01,
          88.61,
          88.94,
          85.08,
          65.79,
          91.78,
          92.35,
          88.36,
          88.91,
          75.91,
          87.07,
          85.09,
          69.59,
          70.65,
          47.69,
          96.07,
          97.75,
          93.92,
          67.41,
          59.17,
          90.39,
          100.63,
          106.48,
          94.84,
          70.53,
          58.46,
          78.52,
          91.66,
          102.08,
          91.46,
          93.96,
          86.17,
          92.63,
          95.91,
          86.21,
          109.76,
          111.28,
          117.48,
          110.75,
          106.63,
          128.13,
          125.26,
          132.7,
          138.25,
          129.28,
          146.73,
          168.22,
          166.52,
          157.33,
          137.69,
          149.84,
          147.71,
          132.63,
          127.38,
          135.74,
          159.08,
          149.42,
          159.03,
          140.75,
          109.89,
          160.56,
          185.15,
          301.7,
          203.89,
          165.35,
          185.99,
          190.72,
          190.43,
          182.42,
          182.14,
          176.84,
          151.35,
          159.31,
          191.34,
          160.69,
          202.35,
          213.56,
          197.02,
          159.77,
          112.72,
          204.08,
          192.76,
          176.64,
          178.08,
          151.22,
          193.1,
          176.42,
          196.41,
          197.11,
          170.57,
          237.89,
          215.17,
          211.04,
          217.96,
          188.4,
          282.69,
          268.23,
          236.52,
          210.39,
          215.09,
          243.94,
          257.32,
          232.54,
          205.36,
          243.37,
          221.44,
          281.83,
          244.25,
          240.8,
          311.32,
          311.91,
          347.69,
          339.3,
          278.55,
          434.34,
          427.09,
          351.48,
          230.01,
          230.01,
          130.76,
          155.6,
          117.51,
          86.96,
          86.96,
          154.55,
          132.3,
          201.62,
          180.94,
          177.54,
          254.75,
          234.34,
          196.67,
          199.62,
          216.98,
          237.56,
          203.93,
          179.9,
          177.04,
          190.76,
          296.85,
          246.75,
          193.02,
          205.07,
          161.19,
          207.44,
          193.21,
          197.93,
          193.7,
          153.73,
          157.99,
          186.77,
          196,
          192.83,
          160.44,
          195.76,
          183.09,
          140.54,
          134.35,
          100.11,
          137.63,
          147.91,
          140.92,
          166.4,
          229.24,
          251.94,
          278.64,
          340,
          367.45,
          350.3,
          555.45,
          474.03,
          365.05,
          299.02,
          230.54,
          301.84,
          270.56,
          246.85,
          235.48,
          189.74,
          238,
          238.38,
          240.54,
          252.17,
          217.76,
          252.32,
          275.69,
          227.57,
          190.47,
          196.1,
          217.33,
          168.38,
          140.18,
          152.49,
          116.54,
          203.39,
          226.72,
          227.76,
          194.02,
          149.82,
          221.76,
          207.58,
          201.58,
          203.6,
          142.42,
          241.34,
          222.21,
          230.16,
          228.06,
          201.83,
          218.25,
          232.18,
          235.18,
          225.36,
          201.43,
          201.16,
          189.69,
          177.32,
          194.82,
          166.89,
          226.31,
          207.41,
          208.7,
          119.23,
          172.86,
          179.89,
          92.06,
          72.24,
          71.55,
          210.35,
          218.11,
          194.26,
          186.22,
          171.37,
          184.61,
          191.13,
          188.88,
          185.58,
          138.74,
          200.48,
          214.55,
          204.8,
          256.46,
          213.43,
          314.63,
          343.94,
          312.96,
          282.17,
          250.26,
          362.16,
          334.59,
          347.63,
          334.18,
          255.68,
          353.74,
          347.33,
          310.71,
          303.83,
          174.24,
          396.77,
          377.99,
          391.15,
          384.28,
          294.52,
          444.49,
          419.4,
          451.62,
          436.81,
          364.86,
          443.04,
          497.53,
          477.14,
          407.76,
          452.83,
          427.55,
          427.77,
          413.31,
          306.61,
          355.93,
          342.35,
          380.99,
          444.47,
          412.89,
          490.79,
          555.13,
          562.54,
          516.9,
          470.45,
          615.75,
          635.52,
          628.56,
          707.23,
          647.86,
          725.98,
          673.28,
          620.19,
          498.05,
          383.15,
          516.45,
          476.99,
          461.02,
          362.6,
          404.32,
          455.47,
          397.7,
          365.48,
          294.04,
          364.98,
          380.96,
          399.17,
          362.04,
          344.43,
          312.91,
          385.71,
          421.77,
          349.22,
          189.1,
          277.37,
          189.92,
          202.34,
          186.93,
          187.9,
          265.49,
          282.35,
          259.55,
          261.03,
          175.54,
          195.46,
          168.08,
          161.97,
          169.08,
          145.83,
          123.97,
          128.33,
          129.48,
          117.31,
          103.25,
          118.36,
          145.06,
          140.7,
          178.04,
          138.38,
          156.78,
          186,
          205.16,
          207.36,
          179.78,
          237.98,
          248.32,
          254.63,
          243.07,
          208.08,
          216.74,
          222.12,
          257.42,
          269.48,
          239.43,
          371.73,
          395.63,
          393.13,
          379.77,
          295.39,
          390.25,
          365.82,
          389.68,
          415.38,
          352.31,
          447.33,
          445.58,
          399.84,
          410.43,
          271.51,
          221.17,
          228.94,
          209.22,
          183.98,
          112.69
         ]
        },
        {
         "name": "TTF Gas",
         "type": "scatter",
         "x": [
          "2021-01-01T00:00:00",
          "2021-01-04T00:00:00",
          "2021-01-05T00:00:00",
          "2021-01-06T00:00:00",
          "2021-01-07T00:00:00",
          "2021-01-08T00:00:00",
          "2021-01-11T00:00:00",
          "2021-01-12T00:00:00",
          "2021-01-13T00:00:00",
          "2021-01-14T00:00:00",
          "2021-01-15T00:00:00",
          "2021-01-18T00:00:00",
          "2021-01-19T00:00:00",
          "2021-01-20T00:00:00",
          "2021-01-21T00:00:00",
          "2021-01-22T00:00:00",
          "2021-01-25T00:00:00",
          "2021-01-26T00:00:00",
          "2021-01-27T00:00:00",
          "2021-01-28T00:00:00",
          "2021-01-29T00:00:00",
          "2021-02-01T00:00:00",
          "2021-02-02T00:00:00",
          "2021-02-03T00:00:00",
          "2021-02-04T00:00:00",
          "2021-02-05T00:00:00",
          "2021-02-08T00:00:00",
          "2021-02-09T00:00:00",
          "2021-02-10T00:00:00",
          "2021-02-11T00:00:00",
          "2021-02-12T00:00:00",
          "2021-02-15T00:00:00",
          "2021-02-16T00:00:00",
          "2021-02-17T00:00:00",
          "2021-02-18T00:00:00",
          "2021-02-19T00:00:00",
          "2021-02-22T00:00:00",
          "2021-02-23T00:00:00",
          "2021-02-24T00:00:00",
          "2021-02-25T00:00:00",
          "2021-02-26T00:00:00",
          "2021-03-01T00:00:00",
          "2021-03-02T00:00:00",
          "2021-03-03T00:00:00",
          "2021-03-04T00:00:00",
          "2021-03-05T00:00:00",
          "2021-03-08T00:00:00",
          "2021-03-09T00:00:00",
          "2021-03-10T00:00:00",
          "2021-03-11T00:00:00",
          "2021-03-12T00:00:00",
          "2021-03-15T00:00:00",
          "2021-03-16T00:00:00",
          "2021-03-17T00:00:00",
          "2021-03-18T00:00:00",
          "2021-03-19T00:00:00",
          "2021-03-22T00:00:00",
          "2021-03-23T00:00:00",
          "2021-03-24T00:00:00",
          "2021-03-25T00:00:00",
          "2021-03-26T00:00:00",
          "2021-03-29T00:00:00",
          "2021-03-30T00:00:00",
          "2021-03-31T00:00:00",
          "2021-04-01T00:00:00",
          "2021-04-02T00:00:00",
          "2021-04-05T00:00:00",
          "2021-04-06T00:00:00",
          "2021-04-07T00:00:00",
          "2021-04-08T00:00:00",
          "2021-04-09T00:00:00",
          "2021-04-12T00:00:00",
          "2021-04-13T00:00:00",
          "2021-04-14T00:00:00",
          "2021-04-15T00:00:00",
          "2021-04-16T00:00:00",
          "2021-04-19T00:00:00",
          "2021-04-20T00:00:00",
          "2021-04-21T00:00:00",
          "2021-04-22T00:00:00",
          "2021-04-23T00:00:00",
          "2021-04-26T00:00:00",
          "2021-04-27T00:00:00",
          "2021-04-28T00:00:00",
          "2021-04-29T00:00:00",
          "2021-04-30T00:00:00",
          "2021-05-03T00:00:00",
          "2021-05-04T00:00:00",
          "2021-05-05T00:00:00",
          "2021-05-06T00:00:00",
          "2021-05-07T00:00:00",
          "2021-05-10T00:00:00",
          "2021-05-11T00:00:00",
          "2021-05-12T00:00:00",
          "2021-05-13T00:00:00",
          "2021-05-14T00:00:00",
          "2021-05-17T00:00:00",
          "2021-05-18T00:00:00",
          "2021-05-19T00:00:00",
          "2021-05-20T00:00:00",
          "2021-05-21T00:00:00",
          "2021-05-24T00:00:00",
          "2021-05-25T00:00:00",
          "2021-05-26T00:00:00",
          "2021-05-27T00:00:00",
          "2021-05-28T00:00:00",
          "2021-05-31T00:00:00",
          "2021-06-01T00:00:00",
          "2021-06-02T00:00:00",
          "2021-06-03T00:00:00",
          "2021-06-04T00:00:00",
          "2021-06-07T00:00:00",
          "2021-06-08T00:00:00",
          "2021-06-09T00:00:00",
          "2021-06-10T00:00:00",
          "2021-06-11T00:00:00",
          "2021-06-14T00:00:00",
          "2021-06-15T00:00:00",
          "2021-06-16T00:00:00",
          "2021-06-17T00:00:00",
          "2021-06-18T00:00:00",
          "2021-06-21T00:00:00",
          "2021-06-22T00:00:00",
          "2021-06-23T00:00:00",
          "2021-06-24T00:00:00",
          "2021-06-25T00:00:00",
          "2021-06-28T00:00:00",
          "2021-06-29T00:00:00",
          "2021-06-30T00:00:00",
          "2021-07-01T00:00:00",
          "2021-07-02T00:00:00",
          "2021-07-05T00:00:00",
          "2021-07-06T00:00:00",
          "2021-07-07T00:00:00",
          "2021-07-08T00:00:00",
          "2021-07-09T00:00:00",
          "2021-07-12T00:00:00",
          "2021-07-13T00:00:00",
          "2021-07-14T00:00:00",
          "2021-07-15T00:00:00",
          "2021-07-16T00:00:00",
          "2021-07-19T00:00:00",
          "2021-07-20T00:00:00",
          "2021-07-21T00:00:00",
          "2021-07-22T00:00:00",
          "2021-07-23T00:00:00",
          "2021-07-26T00:00:00",
          "2021-07-27T00:00:00",
          "2021-07-28T00:00:00",
          "2021-07-29T00:00:00",
          "2021-07-30T00:00:00",
          "2021-08-02T00:00:00",
          "2021-08-03T00:00:00",
          "2021-08-04T00:00:00",
          "2021-08-05T00:00:00",
          "2021-08-06T00:00:00",
          "2021-08-09T00:00:00",
          "2021-08-10T00:00:00",
          "2021-08-11T00:00:00",
          "2021-08-12T00:00:00",
          "2021-08-13T00:00:00",
          "2021-08-16T00:00:00",
          "2021-08-17T00:00:00",
          "2021-08-18T00:00:00",
          "2021-08-19T00:00:00",
          "2021-08-20T00:00:00",
          "2021-08-23T00:00:00",
          "2021-08-24T00:00:00",
          "2021-08-25T00:00:00",
          "2021-08-26T00:00:00",
          "2021-08-27T00:00:00",
          "2021-08-30T00:00:00",
          "2021-08-31T00:00:00",
          "2021-09-01T00:00:00",
          "2021-09-02T00:00:00",
          "2021-09-03T00:00:00",
          "2021-09-06T00:00:00",
          "2021-09-07T00:00:00",
          "2021-09-08T00:00:00",
          "2021-09-09T00:00:00",
          "2021-09-10T00:00:00",
          "2021-09-13T00:00:00",
          "2021-09-14T00:00:00",
          "2021-09-15T00:00:00",
          "2021-09-16T00:00:00",
          "2021-09-17T00:00:00",
          "2021-09-20T00:00:00",
          "2021-09-21T00:00:00",
          "2021-09-22T00:00:00",
          "2021-09-23T00:00:00",
          "2021-09-24T00:00:00",
          "2021-09-27T00:00:00",
          "2021-09-28T00:00:00",
          "2021-09-29T00:00:00",
          "2021-09-30T00:00:00",
          "2021-10-01T00:00:00",
          "2021-10-04T00:00:00",
          "2021-10-05T00:00:00",
          "2021-10-06T00:00:00",
          "2021-10-07T00:00:00",
          "2021-10-08T00:00:00",
          "2021-10-11T00:00:00",
          "2021-10-12T00:00:00",
          "2021-10-13T00:00:00",
          "2021-10-14T00:00:00",
          "2021-10-15T00:00:00",
          "2021-10-18T00:00:00",
          "2021-10-19T00:00:00",
          "2021-10-20T00:00:00",
          "2021-10-21T00:00:00",
          "2021-10-22T00:00:00",
          "2021-10-25T00:00:00",
          "2021-10-26T00:00:00",
          "2021-10-27T00:00:00",
          "2021-10-28T00:00:00",
          "2021-10-29T00:00:00",
          "2021-11-01T00:00:00",
          "2021-11-02T00:00:00",
          "2021-11-03T00:00:00",
          "2021-11-04T00:00:00",
          "2021-11-05T00:00:00",
          "2021-11-08T00:00:00",
          "2021-11-09T00:00:00",
          "2021-11-10T00:00:00",
          "2021-11-11T00:00:00",
          "2021-11-12T00:00:00",
          "2021-11-15T00:00:00",
          "2021-11-16T00:00:00",
          "2021-11-17T00:00:00",
          "2021-11-18T00:00:00",
          "2021-11-19T00:00:00",
          "2021-11-23T00:00:00",
          "2021-11-24T00:00:00",
          "2021-11-25T00:00:00",
          "2021-11-26T00:00:00",
          "2021-11-29T00:00:00",
          "2021-11-30T00:00:00",
          "2021-12-01T00:00:00",
          "2021-12-02T00:00:00",
          "2021-12-03T00:00:00",
          "2021-12-06T00:00:00",
          "2021-12-07T00:00:00",
          "2021-12-08T00:00:00",
          "2021-12-09T00:00:00",
          "2021-12-10T00:00:00",
          "2021-12-13T00:00:00",
          "2021-12-14T00:00:00",
          "2021-12-15T00:00:00",
          "2021-12-16T00:00:00",
          "2021-12-17T00:00:00",
          "2021-12-20T00:00:00",
          "2021-12-21T00:00:00",
          "2021-12-22T00:00:00",
          "2021-12-23T00:00:00",
          "2021-12-24T00:00:00",
          "2021-12-27T00:00:00",
          "2021-12-28T00:00:00",
          "2021-12-29T00:00:00",
          "2021-12-30T00:00:00",
          "2021-12-31T00:00:00",
          "2022-01-03T00:00:00",
          "2022-01-04T00:00:00",
          "2022-01-05T00:00:00",
          "2022-01-06T00:00:00",
          "2022-01-07T00:00:00",
          "2022-01-10T00:00:00",
          "2022-01-11T00:00:00",
          "2022-01-12T00:00:00",
          "2022-01-13T00:00:00",
          "2022-01-14T00:00:00",
          "2022-01-17T00:00:00",
          "2022-01-18T00:00:00",
          "2022-01-19T00:00:00",
          "2022-01-20T00:00:00",
          "2022-01-21T00:00:00",
          "2022-01-24T00:00:00",
          "2022-01-25T00:00:00",
          "2022-01-26T00:00:00",
          "2022-01-27T00:00:00",
          "2022-01-28T00:00:00",
          "2022-01-31T00:00:00",
          "2022-02-01T00:00:00",
          "2022-02-02T00:00:00",
          "2022-02-03T00:00:00",
          "2022-02-04T00:00:00",
          "2022-02-07T00:00:00",
          "2022-02-08T00:00:00",
          "2022-02-09T00:00:00",
          "2022-02-10T00:00:00",
          "2022-02-11T00:00:00",
          "2022-02-14T00:00:00",
          "2022-02-15T00:00:00",
          "2022-02-16T00:00:00",
          "2022-02-17T00:00:00",
          "2022-02-18T00:00:00",
          "2022-02-21T00:00:00",
          "2022-02-22T00:00:00",
          "2022-02-23T00:00:00",
          "2022-02-24T00:00:00",
          "2022-02-25T00:00:00",
          "2022-02-28T00:00:00",
          "2022-03-01T00:00:00",
          "2022-03-02T00:00:00",
          "2022-03-03T00:00:00",
          "2022-03-04T00:00:00",
          "2022-03-07T00:00:00",
          "2022-03-08T00:00:00",
          "2022-03-09T00:00:00",
          "2022-03-10T00:00:00",
          "2022-03-11T00:00:00",
          "2022-03-14T00:00:00",
          "2022-03-15T00:00:00",
          "2022-03-16T00:00:00",
          "2022-03-17T00:00:00",
          "2022-03-18T00:00:00",
          "2022-03-21T00:00:00",
          "2022-03-22T00:00:00",
          "2022-03-23T00:00:00",
          "2022-03-24T00:00:00",
          "2022-03-25T00:00:00",
          "2022-03-28T00:00:00",
          "2022-03-29T00:00:00",
          "2022-03-30T00:00:00",
          "2022-03-31T00:00:00",
          "2022-04-01T00:00:00",
          "2022-04-04T00:00:00",
          "2022-04-05T00:00:00",
          "2022-04-06T00:00:00",
          "2022-04-07T00:00:00",
          "2022-04-08T00:00:00",
          "2022-04-11T00:00:00",
          "2022-04-12T00:00:00",
          "2022-04-13T00:00:00",
          "2022-04-14T00:00:00",
          "2022-04-15T00:00:00",
          "2022-04-18T00:00:00",
          "2022-04-19T00:00:00",
          "2022-04-20T00:00:00",
          "2022-04-21T00:00:00",
          "2022-04-22T00:00:00",
          "2022-04-25T00:00:00",
          "2022-04-26T00:00:00",
          "2022-04-27T00:00:00",
          "2022-04-28T00:00:00",
          "2022-04-29T00:00:00",
          "2022-05-02T00:00:00",
          "2022-05-03T00:00:00",
          "2022-05-04T00:00:00",
          "2022-05-05T00:00:00",
          "2022-05-06T00:00:00",
          "2022-05-09T00:00:00",
          "2022-05-10T00:00:00",
          "2022-05-11T00:00:00",
          "2022-05-12T00:00:00",
          "2022-05-13T00:00:00",
          "2022-05-16T00:00:00",
          "2022-05-17T00:00:00",
          "2022-05-19T00:00:00",
          "2022-05-20T00:00:00",
          "2022-05-23T00:00:00",
          "2022-05-24T00:00:00",
          "2022-05-25T00:00:00",
          "2022-05-26T00:00:00",
          "2022-05-27T00:00:00",
          "2022-05-30T00:00:00",
          "2022-05-31T00:00:00",
          "2022-06-01T00:00:00",
          "2022-06-02T00:00:00",
          "2022-06-03T00:00:00",
          "2022-06-06T00:00:00",
          "2022-06-07T00:00:00",
          "2022-06-08T00:00:00",
          "2022-06-09T00:00:00",
          "2022-06-10T00:00:00",
          "2022-06-13T00:00:00",
          "2022-06-14T00:00:00",
          "2022-06-15T00:00:00",
          "2022-06-16T00:00:00",
          "2022-06-17T00:00:00",
          "2022-06-20T00:00:00",
          "2022-06-21T00:00:00",
          "2022-06-22T00:00:00",
          "2022-06-23T00:00:00",
          "2022-06-24T00:00:00",
          "2022-06-27T00:00:00",
          "2022-06-28T00:00:00",
          "2022-06-29T00:00:00",
          "2022-06-30T00:00:00",
          "2022-07-01T00:00:00",
          "2022-07-04T00:00:00",
          "2022-07-05T00:00:00",
          "2022-07-06T00:00:00",
          "2022-07-07T00:00:00",
          "2022-07-08T00:00:00",
          "2022-07-11T00:00:00",
          "2022-07-12T00:00:00",
          "2022-07-13T00:00:00",
          "2022-07-14T00:00:00",
          "2022-07-15T00:00:00",
          "2022-07-18T00:00:00",
          "2022-07-19T00:00:00",
          "2022-07-20T00:00:00",
          "2022-07-21T00:00:00",
          "2022-07-22T00:00:00",
          "2022-07-25T00:00:00",
          "2022-07-27T00:00:00",
          "2022-07-28T00:00:00",
          "2022-07-29T00:00:00",
          "2022-08-01T00:00:00",
          "2022-08-02T00:00:00",
          "2022-08-03T00:00:00",
          "2022-08-04T00:00:00",
          "2022-08-05T00:00:00",
          "2022-08-08T00:00:00",
          "2022-08-09T00:00:00",
          "2022-08-10T00:00:00",
          "2022-08-11T00:00:00",
          "2022-08-12T00:00:00",
          "2022-08-15T00:00:00",
          "2022-08-16T00:00:00",
          "2022-08-17T00:00:00",
          "2022-08-18T00:00:00",
          "2022-08-19T00:00:00",
          "2022-08-22T00:00:00",
          "2022-08-23T00:00:00",
          "2022-08-24T00:00:00",
          "2022-08-25T00:00:00",
          "2022-08-26T00:00:00",
          "2022-08-29T00:00:00",
          "2022-08-30T00:00:00",
          "2022-08-31T00:00:00",
          "2022-09-01T00:00:00",
          "2022-09-02T00:00:00",
          "2022-09-05T00:00:00",
          "2022-09-06T00:00:00",
          "2022-09-07T00:00:00",
          "2022-09-08T00:00:00",
          "2022-09-09T00:00:00",
          "2022-09-13T00:00:00",
          "2022-09-14T00:00:00",
          "2022-09-15T00:00:00",
          "2022-09-16T00:00:00",
          "2022-09-19T00:00:00",
          "2022-09-20T00:00:00",
          "2022-09-21T00:00:00",
          "2022-09-22T00:00:00",
          "2022-09-23T00:00:00",
          "2022-09-26T00:00:00",
          "2022-09-27T00:00:00",
          "2022-09-28T00:00:00",
          "2022-09-29T00:00:00",
          "2022-09-30T00:00:00",
          "2022-10-03T00:00:00",
          "2022-10-04T00:00:00",
          "2022-10-05T00:00:00",
          "2022-10-06T00:00:00",
          "2022-10-07T00:00:00",
          "2022-10-10T00:00:00",
          "2022-10-11T00:00:00",
          "2022-10-12T00:00:00",
          "2022-10-13T00:00:00",
          "2022-10-14T00:00:00",
          "2022-10-17T00:00:00",
          "2022-10-18T00:00:00",
          "2022-10-19T00:00:00",
          "2022-10-20T00:00:00",
          "2022-10-21T00:00:00",
          "2022-10-24T00:00:00",
          "2022-10-25T00:00:00",
          "2022-10-26T00:00:00",
          "2022-10-27T00:00:00",
          "2022-10-28T00:00:00",
          "2022-10-31T00:00:00",
          "2022-11-01T00:00:00",
          "2022-11-02T00:00:00",
          "2022-11-03T00:00:00",
          "2022-11-04T00:00:00",
          "2022-11-07T00:00:00",
          "2022-11-08T00:00:00",
          "2022-11-09T00:00:00",
          "2022-11-10T00:00:00",
          "2022-11-11T00:00:00",
          "2022-11-14T00:00:00",
          "2022-11-15T00:00:00",
          "2022-11-16T00:00:00",
          "2022-11-17T00:00:00",
          "2022-11-18T00:00:00",
          "2022-11-21T00:00:00",
          "2022-11-22T00:00:00",
          "2022-11-23T00:00:00",
          "2022-11-24T00:00:00",
          "2022-11-25T00:00:00",
          "2022-11-28T00:00:00",
          "2022-11-29T00:00:00",
          "2022-11-30T00:00:00",
          "2022-12-01T00:00:00",
          "2022-12-02T00:00:00",
          "2022-12-05T00:00:00",
          "2022-12-06T00:00:00",
          "2022-12-07T00:00:00",
          "2022-12-08T00:00:00",
          "2022-12-09T00:00:00",
          "2022-12-12T00:00:00",
          "2022-12-13T00:00:00",
          "2022-12-14T00:00:00",
          "2022-12-15T00:00:00",
          "2022-12-16T00:00:00",
          "2022-12-19T00:00:00",
          "2022-12-20T00:00:00",
          "2022-12-21T00:00:00",
          "2022-12-22T00:00:00",
          "2022-12-23T00:00:00"
         ],
         "y": [
          18.9,
          19.95,
          18.25,
          17.73,
          19.3,
          20.25,
          22.08,
          26.9,
          21.85,
          21.52,
          20.35,
          19.25,
          20.25,
          20.2,
          19.98,
          21.4,
          20.45,
          19.52,
          19.7,
          20.675,
          20.4,
          18.15,
          18.15,
          18,
          18.25,
          18.42,
          20.9,
          19.8,
          19.32,
          18,
          17.7,
          16.45,
          16.65,
          16.4,
          17,
          16.42,
          15.9,
          15.88,
          16.23,
          15.88,
          15.88,
          16.38,
          16.15,
          15.9,
          16.48,
          16.71,
          16.58,
          17.35,
          17.8,
          18.2,
          18.52,
          18.4,
          17.95,
          18.33,
          18.1,
          17.52,
          18.55,
          18.55,
          18.85,
          18.375,
          18.4,
          18.45,
          18.86,
          19.15,
          19.183,
          19.183,
          19.183,
          20.18,
          19.9,
          19.5,
          19.25,
          20.5,
          20.4,
          20.3,
          20.713,
          20.86,
          21.44,
          21.39,
          21.36,
          21.68,
          20.15,
          20.5,
          21.55,
          21.785,
          22.9,
          23.45,
          24.15,
          23.4,
          24.55,
          25.2,
          23.98,
          25.35,
          25.85,
          26.45,
          26.4,
          27,
          26.85,
          25.27,
          23.33,
          24.83,
          24.63,
          24.67,
          26.33,
          26.742,
          25.33,
          24.85,
          25.3,
          26.15,
          25.5,
          25.6,
          25.738,
          26.6,
          28,
          28.325,
          28.6,
          27.85,
          29.2,
          28.3,
          28.197,
          28.3,
          29.3,
          30.025,
          30.95,
          32,
          32.075,
          32.12,
          32.225,
          33.55,
          35,
          36.47,
          35.65,
          38.05,
          34.22,
          32.5,
          33.34,
          36.6,
          34.95,
          35.55,
          34.7,
          33.78,
          34.85,
          35.9,
          35.4,
          36.2,
          36.27,
          35.53,
          36.9,
          37.72,
          39.82,
          41.05,
          40.65,
          42.15,
          41.2,
          41.8,
          42.4,
          42.6,
          42.55,
          44.45,
          45.85,
          45.7,
          44.15,
          47.63,
          46.8,
          45.5,
          40.17,
          41.7,
          41.7,
          44.83,
          45.1,
          45.7,
          47.4,
          49.05,
          49.95,
          50.475,
          51.67,
          51.28,
          52.25,
          53.6,
          55.1,
          56.15,
          57.65,
          61.4,
          65.7,
          70.65,
          63.2,
          64.65,
          74.35,
          73.25,
          70.78,
          68.4,
          67.65,
          75,
          76.9,
          83.75,
          94.5,
          90,
          89.9,
          112.575,
          106,
          93.3,
          82.1,
          83.88,
          84.62,
          91.99,
          101.15,
          91.18,
          90.3,
          85,
          90.25,
          88.3,
          85.9,
          88,
          87.5,
          85.5,
          75.1,
          63,
          64.4,
          67,
          75.6,
          73,
          72.65,
          78.85,
          71.35,
          69.6,
          74.3,
          74.6,
          79.82,
          93.4,
          95.8,
          94.012,
          86.9,
          90.61,
          93.975,
          93.24,
          88.1,
          93.6,
          93,
          95.6,
          94.75,
          88.3,
          89.8,
          95.75,
          101.9,
          100.75,
          106.1,
          116.2,
          128.7,
          133.18,
          142,
          136.02,
          149.25,
          183.4,
          174.5,
          131.95,
          104.5,
          104.5,
          104.5,
          91.5,
          81.55,
          70,
          76.22,
          88,
          91,
          95.75,
          87.5,
          84.7,
          78.5,
          75,
          85.5,
          86.61,
          76.2,
          78.3,
          75.7,
          75,
          78.6,
          93.55,
          93.95,
          92.1,
          92.3,
          91.95,
          84,
          76,
          77,
          79.4,
          82.2,
          78.95,
          78.265,
          74.575,
          74.6,
          77.2,
          80.5,
          70.5,
          69.2,
          74.2,
          74.1,
          72.45,
          79.6,
          88.85,
          135,
          93.9,
          100.5,
          125.5,
          164.85,
          163,
          191,
          226.3,
          212.75,
          152.55,
          123.03,
          127.5,
          111,
          112.95,
          98.75,
          102,
          96.75,
          96.5,
          96.75,
          113.15,
          108.5,
          99.95,
          102.25,
          109,
          118.6,
          125,
          112,
          110.5,
          108.85,
          106.5,
          104.95,
          104.5,
          100.6,
          102.3,
          105,
          95.6,
          95.6,
          95.6,
          92.675,
          93.25,
          97.55,
          93.7,
          92,
          103.25,
          107,
          99.73,
          98.5,
          95.5,
          98.5,
          102.3,
          105.1,
          93.1,
          86.2,
          89.5,
          82.75,
          96,
          90.5,
          92,
          92.85,
          89,
          82,
          78,
          78.35,
          82,
          82.7,
          84.15,
          87.9,
          90.61,
          78.5,
          78,
          79,
          78.7,
          77.2,
          77.45,
          83.1,
          79.8,
          82,
          96.05,
          110.95,
          122.5,
          113,
          116,
          122.5,
          125.7,
          130.5,
          126,
          129,
          128.4,
          139.5,
          145,
          147.5,
          163.525,
          167,
          172,
          183.95,
          171.5,
          165.25,
          172.2,
          180,
          174,
          156,
          156.8,
          152.5,
          154,
          155.25,
          158,
          178,
          206,
          198.55,
          191.15,
          199.575,
          204.2,
          196.5,
          198.3,
          195.5,
          191.25,
          190.55,
          203.6,
          207,
          199.75,
          215.25,
          227,
          225,
          241.25,
          241.75,
          278.48,
          269,
          291.7,
          317,
          322,
          266,
          255,
          235,
          227,
          183.5,
          223,
          225.5,
          208.25,
          212,
          193.75,
          198.5,
          217.5,
          200.8,
          160.5,
          165,
          177,
          173.3,
          172,
          171.5,
          168,
          190.5,
          202,
          181.05,
          161,
          130,
          89.5,
          96,
          130,
          101.5,
          101.5,
          101,
          106.5,
          96.25,
          65,
          59,
          60.1,
          67.7,
          62.6,
          44.5,
          28.75,
          39,
          45,
          29,
          32.5,
          34.75,
          22.18,
          46,
          69.88,
          54.25,
          60.65,
          100,
          86,
          83.25,
          57,
          105,
          114.15,
          103,
          104.5,
          112.5,
          113.5,
          115,
          125,
          120.1,
          121.95,
          123.05,
          134,
          142.9,
          139.55,
          131.1,
          135,
          139,
          149.75,
          140.15,
          139.1,
          138.25,
          138.3,
          132,
          134.5,
          113.038,
          107.1,
          105.25,
          95.5,
          90.5,
          82.5
         ]
        }
       ],
       "layout": {
        "annotations": [
         {
          "showarrow": false,
          "text": "2021 power mean: 110.89",
          "x": 0,
          "xanchor": "left",
          "xref": "x domain",
          "y": 110.88746153846154,
          "yanchor": "top",
          "yref": "y"
         },
         {
          "showarrow": false,
          "text": "2022 power mean: 276.24",
          "x": 1,
          "xanchor": "right",
          "xref": "x domain",
          "y": 276.236626984127,
          "yanchor": "bottom",
          "yref": "y"
         },
         {
          "showarrow": false,
          "text": "2021 gas mean: 47.09",
          "x": 0,
          "xanchor": "left",
          "xref": "x domain",
          "y": 47.092888461538465,
          "yanchor": "top",
          "yref": "y"
         },
         {
          "showarrow": false,
          "text": "2022 gas mean: 123.98",
          "x": 1,
          "xanchor": "right",
          "xref": "x domain",
          "y": 123.97874206349206,
          "yanchor": "bottom",
          "yref": "y"
         }
        ],
        "autosize": false,
        "height": 700,
        "shapes": [
         {
          "line": {
           "color": "green",
           "dash": "dot"
          },
          "type": "line",
          "x0": 0,
          "x1": 1,
          "xref": "x domain",
          "y0": 110.88746153846154,
          "y1": 110.88746153846154,
          "yref": "y"
         },
         {
          "line": {
           "color": "purple",
           "dash": "dot"
          },
          "type": "line",
          "x0": 0,
          "x1": 1,
          "xref": "x domain",
          "y0": 276.236626984127,
          "y1": 276.236626984127,
          "yref": "y"
         },
         {
          "line": {
           "color": "green",
           "dash": "dot"
          },
          "type": "line",
          "x0": 0,
          "x1": 1,
          "xref": "x domain",
          "y0": 47.092888461538465,
          "y1": 47.092888461538465,
          "yref": "y"
         },
         {
          "line": {
           "color": "purple",
           "dash": "dot"
          },
          "type": "line",
          "x0": 0,
          "x1": 1,
          "xref": "x domain",
          "y0": 123.97874206349206,
          "y1": 123.97874206349206,
          "yref": "y"
         }
        ],
        "template": {
         "data": {
          "bar": [
           {
            "error_x": {
             "color": "#2a3f5f"
            },
            "error_y": {
             "color": "#2a3f5f"
            },
            "marker": {
             "line": {
              "color": "#E5ECF6",
              "width": 0.5
             },
             "pattern": {
              "fillmode": "overlay",
              "size": 10,
              "solidity": 0.2
             }
            },
            "type": "bar"
           }
          ],
          "barpolar": [
           {
            "marker": {
             "line": {
              "color": "#E5ECF6",
              "width": 0.5
             },
             "pattern": {
              "fillmode": "overlay",
              "size": 10,
              "solidity": 0.2
             }
            },
            "type": "barpolar"
           }
          ],
          "carpet": [
           {
            "aaxis": {
             "endlinecolor": "#2a3f5f",
             "gridcolor": "white",
             "linecolor": "white",
             "minorgridcolor": "white",
             "startlinecolor": "#2a3f5f"
            },
            "baxis": {
             "endlinecolor": "#2a3f5f",
             "gridcolor": "white",
             "linecolor": "white",
             "minorgridcolor": "white",
             "startlinecolor": "#2a3f5f"
            },
            "type": "carpet"
           }
          ],
          "choropleth": [
           {
            "colorbar": {
             "outlinewidth": 0,
             "ticks": ""
            },
            "type": "choropleth"
           }
          ],
          "contour": [
           {
            "colorbar": {
             "outlinewidth": 0,
             "ticks": ""
            },
            "colorscale": [
             [
              0,
              "#0d0887"
             ],
             [
              0.1111111111111111,
              "#46039f"
             ],
             [
              0.2222222222222222,
              "#7201a8"
             ],
             [
              0.3333333333333333,
              "#9c179e"
             ],
             [
              0.4444444444444444,
              "#bd3786"
             ],
             [
              0.5555555555555556,
              "#d8576b"
             ],
             [
              0.6666666666666666,
              "#ed7953"
             ],
             [
              0.7777777777777778,
              "#fb9f3a"
             ],
             [
              0.8888888888888888,
              "#fdca26"
             ],
             [
              1,
              "#f0f921"
             ]
            ],
            "type": "contour"
           }
          ],
          "contourcarpet": [
           {
            "colorbar": {
             "outlinewidth": 0,
             "ticks": ""
            },
            "type": "contourcarpet"
           }
          ],
          "heatmap": [
           {
            "colorbar": {
             "outlinewidth": 0,
             "ticks": ""
            },
            "colorscale": [
             [
              0,
              "#0d0887"
             ],
             [
              0.1111111111111111,
              "#46039f"
             ],
             [
              0.2222222222222222,
              "#7201a8"
             ],
             [
              0.3333333333333333,
              "#9c179e"
             ],
             [
              0.4444444444444444,
              "#bd3786"
             ],
             [
              0.5555555555555556,
              "#d8576b"
             ],
             [
              0.6666666666666666,
              "#ed7953"
             ],
             [
              0.7777777777777778,
              "#fb9f3a"
             ],
             [
              0.8888888888888888,
              "#fdca26"
             ],
             [
              1,
              "#f0f921"
             ]
            ],
            "type": "heatmap"
           }
          ],
          "heatmapgl": [
           {
            "colorbar": {
             "outlinewidth": 0,
             "ticks": ""
            },
            "colorscale": [
             [
              0,
              "#0d0887"
             ],
             [
              0.1111111111111111,
              "#46039f"
             ],
             [
              0.2222222222222222,
              "#7201a8"
             ],
             [
              0.3333333333333333,
              "#9c179e"
             ],
             [
              0.4444444444444444,
              "#bd3786"
             ],
             [
              0.5555555555555556,
              "#d8576b"
             ],
             [
              0.6666666666666666,
              "#ed7953"
             ],
             [
              0.7777777777777778,
              "#fb9f3a"
             ],
             [
              0.8888888888888888,
              "#fdca26"
             ],
             [
              1,
              "#f0f921"
             ]
            ],
            "type": "heatmapgl"
           }
          ],
          "histogram": [
           {
            "marker": {
             "pattern": {
              "fillmode": "overlay",
              "size": 10,
              "solidity": 0.2
             }
            },
            "type": "histogram"
           }
          ],
          "histogram2d": [
           {
            "colorbar": {
             "outlinewidth": 0,
             "ticks": ""
            },
            "colorscale": [
             [
              0,
              "#0d0887"
             ],
             [
              0.1111111111111111,
              "#46039f"
             ],
             [
              0.2222222222222222,
              "#7201a8"
             ],
             [
              0.3333333333333333,
              "#9c179e"
             ],
             [
              0.4444444444444444,
              "#bd3786"
             ],
             [
              0.5555555555555556,
              "#d8576b"
             ],
             [
              0.6666666666666666,
              "#ed7953"
             ],
             [
              0.7777777777777778,
              "#fb9f3a"
             ],
             [
              0.8888888888888888,
              "#fdca26"
             ],
             [
              1,
              "#f0f921"
             ]
            ],
            "type": "histogram2d"
           }
          ],
          "histogram2dcontour": [
           {
            "colorbar": {
             "outlinewidth": 0,
             "ticks": ""
            },
            "colorscale": [
             [
              0,
              "#0d0887"
             ],
             [
              0.1111111111111111,
              "#46039f"
             ],
             [
              0.2222222222222222,
              "#7201a8"
             ],
             [
              0.3333333333333333,
              "#9c179e"
             ],
             [
              0.4444444444444444,
              "#bd3786"
             ],
             [
              0.5555555555555556,
              "#d8576b"
             ],
             [
              0.6666666666666666,
              "#ed7953"
             ],
             [
              0.7777777777777778,
              "#fb9f3a"
             ],
             [
              0.8888888888888888,
              "#fdca26"
             ],
             [
              1,
              "#f0f921"
             ]
            ],
            "type": "histogram2dcontour"
           }
          ],
          "mesh3d": [
           {
            "colorbar": {
             "outlinewidth": 0,
             "ticks": ""
            },
            "type": "mesh3d"
           }
          ],
          "parcoords": [
           {
            "line": {
             "colorbar": {
              "outlinewidth": 0,
              "ticks": ""
             }
            },
            "type": "parcoords"
           }
          ],
          "pie": [
           {
            "automargin": true,
            "type": "pie"
           }
          ],
          "scatter": [
           {
            "fillpattern": {
             "fillmode": "overlay",
             "size": 10,
             "solidity": 0.2
            },
            "type": "scatter"
           }
          ],
          "scatter3d": [
           {
            "line": {
             "colorbar": {
              "outlinewidth": 0,
              "ticks": ""
             }
            },
            "marker": {
             "colorbar": {
              "outlinewidth": 0,
              "ticks": ""
             }
            },
            "type": "scatter3d"
           }
          ],
          "scattercarpet": [
           {
            "marker": {
             "colorbar": {
              "outlinewidth": 0,
              "ticks": ""
             }
            },
            "type": "scattercarpet"
           }
          ],
          "scattergeo": [
           {
            "marker": {
             "colorbar": {
              "outlinewidth": 0,
              "ticks": ""
             }
            },
            "type": "scattergeo"
           }
          ],
          "scattergl": [
           {
            "marker": {
             "colorbar": {
              "outlinewidth": 0,
              "ticks": ""
             }
            },
            "type": "scattergl"
           }
          ],
          "scattermapbox": [
           {
            "marker": {
             "colorbar": {
              "outlinewidth": 0,
              "ticks": ""
             }
            },
            "type": "scattermapbox"
           }
          ],
          "scatterpolar": [
           {
            "marker": {
             "colorbar": {
              "outlinewidth": 0,
              "ticks": ""
             }
            },
            "type": "scatterpolar"
           }
          ],
          "scatterpolargl": [
           {
            "marker": {
             "colorbar": {
              "outlinewidth": 0,
              "ticks": ""
             }
            },
            "type": "scatterpolargl"
           }
          ],
          "scatterternary": [
           {
            "marker": {
             "colorbar": {
              "outlinewidth": 0,
              "ticks": ""
             }
            },
            "type": "scatterternary"
           }
          ],
          "surface": [
           {
            "colorbar": {
             "outlinewidth": 0,
             "ticks": ""
            },
            "colorscale": [
             [
              0,
              "#0d0887"
             ],
             [
              0.1111111111111111,
              "#46039f"
             ],
             [
              0.2222222222222222,
              "#7201a8"
             ],
             [
              0.3333333333333333,
              "#9c179e"
             ],
             [
              0.4444444444444444,
              "#bd3786"
             ],
             [
              0.5555555555555556,
              "#d8576b"
             ],
             [
              0.6666666666666666,
              "#ed7953"
             ],
             [
              0.7777777777777778,
              "#fb9f3a"
             ],
             [
              0.8888888888888888,
              "#fdca26"
             ],
             [
              1,
              "#f0f921"
             ]
            ],
            "type": "surface"
           }
          ],
          "table": [
           {
            "cells": {
             "fill": {
              "color": "#EBF0F8"
             },
             "line": {
              "color": "white"
             }
            },
            "header": {
             "fill": {
              "color": "#C8D4E3"
             },
             "line": {
              "color": "white"
             }
            },
            "type": "table"
           }
          ]
         },
         "layout": {
          "annotationdefaults": {
           "arrowcolor": "#2a3f5f",
           "arrowhead": 0,
           "arrowwidth": 1
          },
          "autotypenumbers": "strict",
          "coloraxis": {
           "colorbar": {
            "outlinewidth": 0,
            "ticks": ""
           }
          },
          "colorscale": {
           "diverging": [
            [
             0,
             "#8e0152"
            ],
            [
             0.1,
             "#c51b7d"
            ],
            [
             0.2,
             "#de77ae"
            ],
            [
             0.3,
             "#f1b6da"
            ],
            [
             0.4,
             "#fde0ef"
            ],
            [
             0.5,
             "#f7f7f7"
            ],
            [
             0.6,
             "#e6f5d0"
            ],
            [
             0.7,
             "#b8e186"
            ],
            [
             0.8,
             "#7fbc41"
            ],
            [
             0.9,
             "#4d9221"
            ],
            [
             1,
             "#276419"
            ]
           ],
           "sequential": [
            [
             0,
             "#0d0887"
            ],
            [
             0.1111111111111111,
             "#46039f"
            ],
            [
             0.2222222222222222,
             "#7201a8"
            ],
            [
             0.3333333333333333,
             "#9c179e"
            ],
            [
             0.4444444444444444,
             "#bd3786"
            ],
            [
             0.5555555555555556,
             "#d8576b"
            ],
            [
             0.6666666666666666,
             "#ed7953"
            ],
            [
             0.7777777777777778,
             "#fb9f3a"
            ],
            [
             0.8888888888888888,
             "#fdca26"
            ],
            [
             1,
             "#f0f921"
            ]
           ],
           "sequentialminus": [
            [
             0,
             "#0d0887"
            ],
            [
             0.1111111111111111,
             "#46039f"
            ],
            [
             0.2222222222222222,
             "#7201a8"
            ],
            [
             0.3333333333333333,
             "#9c179e"
            ],
            [
             0.4444444444444444,
             "#bd3786"
            ],
            [
             0.5555555555555556,
             "#d8576b"
            ],
            [
             0.6666666666666666,
             "#ed7953"
            ],
            [
             0.7777777777777778,
             "#fb9f3a"
            ],
            [
             0.8888888888888888,
             "#fdca26"
            ],
            [
             1,
             "#f0f921"
            ]
           ]
          },
          "colorway": [
           "#636efa",
           "#EF553B",
           "#00cc96",
           "#ab63fa",
           "#FFA15A",
           "#19d3f3",
           "#FF6692",
           "#B6E880",
           "#FF97FF",
           "#FECB52"
          ],
          "font": {
           "color": "#2a3f5f"
          },
          "geo": {
           "bgcolor": "white",
           "lakecolor": "white",
           "landcolor": "#E5ECF6",
           "showlakes": true,
           "showland": true,
           "subunitcolor": "white"
          },
          "hoverlabel": {
           "align": "left"
          },
          "hovermode": "closest",
          "mapbox": {
           "style": "light"
          },
          "paper_bgcolor": "white",
          "plot_bgcolor": "#E5ECF6",
          "polar": {
           "angularaxis": {
            "gridcolor": "white",
            "linecolor": "white",
            "ticks": ""
           },
           "bgcolor": "#E5ECF6",
           "radialaxis": {
            "gridcolor": "white",
            "linecolor": "white",
            "ticks": ""
           }
          },
          "scene": {
           "xaxis": {
            "backgroundcolor": "#E5ECF6",
            "gridcolor": "white",
            "gridwidth": 2,
            "linecolor": "white",
            "showbackground": true,
            "ticks": "",
            "zerolinecolor": "white"
           },
           "yaxis": {
            "backgroundcolor": "#E5ECF6",
            "gridcolor": "white",
            "gridwidth": 2,
            "linecolor": "white",
            "showbackground": true,
            "ticks": "",
            "zerolinecolor": "white"
           },
           "zaxis": {
            "backgroundcolor": "#E5ECF6",
            "gridcolor": "white",
            "gridwidth": 2,
            "linecolor": "white",
            "showbackground": true,
            "ticks": "",
            "zerolinecolor": "white"
           }
          },
          "shapedefaults": {
           "line": {
            "color": "#2a3f5f"
           }
          },
          "ternary": {
           "aaxis": {
            "gridcolor": "white",
            "linecolor": "white",
            "ticks": ""
           },
           "baxis": {
            "gridcolor": "white",
            "linecolor": "white",
            "ticks": ""
           },
           "bgcolor": "#E5ECF6",
           "caxis": {
            "gridcolor": "white",
            "linecolor": "white",
            "ticks": ""
           }
          },
          "title": {
           "x": 0.05
          },
          "xaxis": {
           "automargin": true,
           "gridcolor": "white",
           "linecolor": "white",
           "ticks": "",
           "title": {
            "standoff": 15
           },
           "zerolinecolor": "white",
           "zerolinewidth": 2
          },
          "yaxis": {
           "automargin": true,
           "gridcolor": "white",
           "linecolor": "white",
           "ticks": "",
           "title": {
            "standoff": 15
           },
           "zerolinecolor": "white",
           "zerolinewidth": 2
          }
         }
        },
        "title": {
         "text": "DE power/TTF gas spot prices in 2021-2022 €/MWh"
        },
        "width": 1000,
        "xaxis": {
         "title": {
          "text": "Time"
         }
        },
        "yaxis": {
         "title": {
          "text": "Spot price €"
         }
        }
       }
      }
     },
     "metadata": {},
     "output_type": "display_data"
    }
   ],
   "source": [
    "#Plot the spot prices'(\"value\") changes for the whole period\n",
    "fig1 = go.Figure()\n",
    "\n",
    "fig1.add_trace(go.Scatter(x = spot_2122_df[\"time\"], y = spot_2122_df[\"value_power\"], name = \"DE Power\"))\n",
    "fig1.add_hline(y= pw_21_mean, line_dash=\"dot\", annotation_text=\"2021 power mean: 110.89\", \n",
    "               line_color=\"green\", annotation_position=\"bottom left\")\n",
    "fig1.add_hline(y= pw_22_mean, line_dash=\"dot\", annotation_text=\"2022 power mean: 276.24\", \n",
    "               line_color=\"purple\", annotation_position=\"top right\")\n",
    "fig1.add_trace(go.Scatter(x = spot_2122_df[\"time\"], y = spot_2122_df[\"value_gas\"], name = \"TTF Gas\"))\n",
    "fig1.add_hline(y= gas_21_mean, line_dash=\"dot\", annotation_text=\"2021 gas mean: 47.09\", \n",
    "               line_color=\"green\", annotation_position=\"bottom left\")\n",
    "fig1.add_hline(y= gas_22_mean, line_dash=\"dot\", annotation_text=\"2022 gas mean: 123.98\", \n",
    "              line_color=\"purple\", annotation_position=\"top right\")\n",
    "\n",
    "fig1.update_layout(\n",
    "    autosize= False, width= 1000, height=700,\n",
    "    title=\"DE power/TTF gas spot prices in 2021-2022 €/MWh\",\n",
    "    #xaxis = dict(tickformat=\"%b\\n%Y\"),\n",
    "    xaxis_title=\"Time\", yaxis_title=\"Spot price €\")\n",
    "fig1.show()"
   ]
  },
  {
   "attachments": {},
   "cell_type": "markdown",
   "metadata": {},
   "source": [
    "As shown on the fig 1, for both commodities, the prices have increased a lot. The mean values for both have increased almost by 2.5 times.</br>\n",
    "Also, extreme fluctuations for both commodities are obserevd. "
   ]
  },
  {
   "attachments": {},
   "cell_type": "markdown",
   "metadata": {},
   "source": [
    "To answer the second question, I would like to see the data points where huge fluctuations in prices were obsereved.</br>\n",
    "- Oct 2021 : Due to a surge in energy demand after the lifted pandemic restrictions [1]</br>\n",
    "- Dec 2021 ~ Jan 2022 : EU's dependancy on Russian gas, reduction in gas supplies from Russia [2]</br>\n",
    "- Mar 2022: War between Russia and Ukraine, Agreement within EU on banning imports of Russian gas and oils [3]</br>\n",
    "- Aug 2022: Ongoing war, additional fall in gas supply from Russia [4]"
   ]
  },
  {
   "attachments": {},
   "cell_type": "markdown",
   "metadata": {},
   "source": [
    "When we look at the graph above (fig 1), it can be seen that the prices of the two energy commodities fluctuate along with one another </br>\n",
    "(mainly due to the gas prices change for the last few years). Now, I would like to quantify correlation between power and gas </br>"
   ]
  },
  {
   "attachments": {},
   "cell_type": "markdown",
   "metadata": {},
   "source": [
    "##### 2. Modeling\n",
    "- I created a model an input dataset is cleaned, transformed and used for simple calculations to get daily returns and rolling volatility  \n",
    "  At the end, the calculation results are visualized:\n",
    "  1) Created a function for data cleaning (hadndling missing values, reformatting datasets)\n",
    "  2) Created a function for daily returns, volatility calculation"
   ]
  },
  {
   "attachments": {},
   "cell_type": "markdown",
   "metadata": {},
   "source": [
    "Data cleaning"
   ]
  },
  {
   "cell_type": "code",
   "execution_count": 22,
   "metadata": {},
   "outputs": [],
   "source": [
    "def clean_pricedata(\n",
    "    df: pd.DataFrame, \n",
    "    datetype_col:str = \"time\", \n",
    "    )-> pd.DataFrame:\n",
    "    \"\"\"\n",
    "    Args:\n",
    "        df (pd.DataFrame): target dataset\n",
    "        datetype_col (str): date type column name\n",
    "        \n",
    "    1 check missing values\n",
    "    2 fortmat date type columns\n",
    "      \n",
    "    \"\"\"\n",
    "    # check the missing values: if true, fill the NaN values with forward/ backward fill method\n",
    "    if df.isnull().values.any():\n",
    "        df = df.ffill().bfill()\n",
    "    else:\n",
    "        pass\n",
    "    \n",
    "    # reformat the column types to datetype\n",
    "    df[datetype_col] = pd.to_datetime(df[datetype_col])\n",
    "   \n",
    "    return df "
   ]
  },
  {
   "attachments": {},
   "cell_type": "markdown",
   "metadata": {},
   "source": [
    "Daily returns, Volatility, Correlation calculation\n",
    "\n",
    "- Logarithmic Price change\n",
    "- 21 day-rolling volatility\n",
    "- annualized rolling volatility\n",
    "- 21 day-rolling correlation coefficient"
   ]
  },
  {
   "cell_type": "code",
   "execution_count": 23,
   "metadata": {},
   "outputs": [],
   "source": [
    "def calculate_corr(\n",
    "    df1: pd.DataFrame, \n",
    "    df2: pd.DataFrame, \n",
    "    first_commodity: str, \n",
    "    second_commodity: str,\n",
    "    date_from: str\n",
    "    ):\n",
    "    \"\"\"\n",
    "    Fucntion to calculate daily return, volatility (rolling std), \n",
    "    and correlation between two different energy commodities\n",
    "    Args:\n",
    "        first_commodity (str): the name of energy commodity (e.g. Power, Gas etc)\n",
    "        second_commodity (str): the name of energy commodity (e.g. Power, Gas etc)\n",
    "    \n",
    "    \"\"\"\n",
    "    # clean the two datasets\n",
    "    first_commodity_df = clean_pricedata(df1)\n",
    "    second_commodity_df = clean_pricedata(df2)\n",
    "    \n",
    "    # merge the two dfs\n",
    "    energy_price_df =  pd.merge(\n",
    "        left = first_commodity_df, right = second_commodity_df, on =\"time\", how = \"inner\", \n",
    "        suffixes=(f\"_{first_commodity}\", f\"_{second_commodity}\")\n",
    "        )\n",
    "    \n",
    "    # calculate daily returns (log returns)\n",
    "    energy_price_df[f\"logReturn_{first_commodity}\"] = np.log(\n",
    "        energy_price_df[f\"value_{first_commodity}\"]/energy_price_df[f\"value_{first_commodity}\"].shift(1))*100\n",
    "    energy_price_df[f\"logReturn_{second_commodity}\"] = np.log(\n",
    "        energy_price_df[f\"value_{second_commodity}\"]/energy_price_df[f\"value_{second_commodity}\"].shift(1))*100\n",
    "    \n",
    "    # calculate 21 day-rolling volatility and annualized volatility\n",
    "    energy_price_df[f\"roll_std_{first_commodity}\"] = energy_price_df[f\"logReturn_{first_commodity}\"].rolling(21).std()\n",
    "    energy_price_df[f\"roll_std_{second_commodity}\"] = energy_price_df[f\"logReturn_{second_commodity}\"].rolling(21).std()\n",
    "\n",
    "    energy_price_df[f\"annual_roll_std_{first_commodity}\"] = energy_price_df[f\"roll_std_{first_commodity}\"]*np.sqrt(252)\n",
    "    energy_price_df[f\"annual_roll_std_{second_commodity}\"] = energy_price_df[f\"roll_std_{second_commodity}\"]*np.sqrt(252)\n",
    "    \n",
    "    # caculate correlation between two commodity types\n",
    "    energy_price_df[\"corr\"] = energy_price_df[\n",
    "        f\"annual_roll_std_{first_commodity}\"].rolling(21).corr(energy_price_df[f\"annual_roll_std_{second_commodity}\"])\n",
    "    \n",
    "    # filter df by time\n",
    "    energy_price_df = energy_price_df[energy_price_df[\"time\"] > f\"{date_from}\"]\n",
    "\n",
    "    # visualize the correlation values\n",
    "    fig2 = go.Figure()\n",
    "\n",
    "    fig2.add_trace(go.Scatter(x = energy_price_df[\"time\"], y = energy_price_df[\"corr\"], line = dict(color=\"purple\")))\n",
    "    fig2.update_layout(\n",
    "        autosize= False, width= 1000, height=700,\n",
    "        title=\"correlation between {} and {} in 2021-2022 €/MWh\".format(first_commodity, second_commodity),\n",
    "        xaxis_title=\"Time\", yaxis_title=\"Correlation coefficient\")\n",
    "    \n",
    "    return energy_price_df, fig2"
   ]
  },
  {
   "cell_type": "code",
   "execution_count": 24,
   "metadata": {},
   "outputs": [],
   "source": [
    "energy_price_df, fig2 = calculate_corr(pw_de_spot_2122_df, gas_ttf_spot_2122_df, \"power\", \"gas\", \"2020-12-31\")"
   ]
  },
  {
   "cell_type": "code",
   "execution_count": 25,
   "metadata": {},
   "outputs": [
    {
     "data": {
      "text/html": [
       "<div>\n",
       "<style scoped>\n",
       "    .dataframe tbody tr th:only-of-type {\n",
       "        vertical-align: middle;\n",
       "    }\n",
       "\n",
       "    .dataframe tbody tr th {\n",
       "        vertical-align: top;\n",
       "    }\n",
       "\n",
       "    .dataframe thead th {\n",
       "        text-align: right;\n",
       "    }\n",
       "</style>\n",
       "<table border=\"1\" class=\"dataframe\">\n",
       "  <thead>\n",
       "    <tr style=\"text-align: right;\">\n",
       "      <th></th>\n",
       "      <th>time</th>\n",
       "      <th>value_power</th>\n",
       "      <th>value_gas</th>\n",
       "      <th>logReturn_power</th>\n",
       "      <th>logReturn_gas</th>\n",
       "      <th>roll_std_power</th>\n",
       "      <th>roll_std_gas</th>\n",
       "      <th>annual_roll_std_power</th>\n",
       "      <th>annual_roll_std_gas</th>\n",
       "      <th>corr</th>\n",
       "    </tr>\n",
       "  </thead>\n",
       "  <tbody>\n",
       "    <tr>\n",
       "      <th>262</th>\n",
       "      <td>2021-01-01</td>\n",
       "      <td>50.56</td>\n",
       "      <td>18.90</td>\n",
       "      <td>5.529864</td>\n",
       "      <td>0.000000</td>\n",
       "      <td>19.191810</td>\n",
       "      <td>3.567676</td>\n",
       "      <td>304.660545</td>\n",
       "      <td>56.635105</td>\n",
       "      <td>0.852842</td>\n",
       "    </tr>\n",
       "    <tr>\n",
       "      <th>263</th>\n",
       "      <td>2021-01-04</td>\n",
       "      <td>57.29</td>\n",
       "      <td>19.95</td>\n",
       "      <td>12.496534</td>\n",
       "      <td>5.406722</td>\n",
       "      <td>19.215910</td>\n",
       "      <td>3.657026</td>\n",
       "      <td>305.043117</td>\n",
       "      <td>58.053492</td>\n",
       "      <td>0.875180</td>\n",
       "    </tr>\n",
       "    <tr>\n",
       "      <th>264</th>\n",
       "      <td>2021-01-05</td>\n",
       "      <td>56.96</td>\n",
       "      <td>18.25</td>\n",
       "      <td>-0.577682</td>\n",
       "      <td>-8.906406</td>\n",
       "      <td>18.265568</td>\n",
       "      <td>4.264261</td>\n",
       "      <td>289.956898</td>\n",
       "      <td>67.693037</td>\n",
       "      <td>0.624917</td>\n",
       "    </tr>\n",
       "    <tr>\n",
       "      <th>265</th>\n",
       "      <td>2021-01-06</td>\n",
       "      <td>73.25</td>\n",
       "      <td>17.73</td>\n",
       "      <td>25.152898</td>\n",
       "      <td>-2.890696</td>\n",
       "      <td>18.726018</td>\n",
       "      <td>4.350419</td>\n",
       "      <td>297.266322</td>\n",
       "      <td>69.060759</td>\n",
       "      <td>0.421399</td>\n",
       "    </tr>\n",
       "    <tr>\n",
       "      <th>266</th>\n",
       "      <td>2021-01-07</td>\n",
       "      <td>79.53</td>\n",
       "      <td>19.30</td>\n",
       "      <td>8.225606</td>\n",
       "      <td>8.484698</td>\n",
       "      <td>18.722424</td>\n",
       "      <td>4.643363</td>\n",
       "      <td>297.209267</td>\n",
       "      <td>73.711099</td>\n",
       "      <td>0.156772</td>\n",
       "    </tr>\n",
       "  </tbody>\n",
       "</table>\n",
       "</div>"
      ],
      "text/plain": [
       "          time  value_power  value_gas  logReturn_power  logReturn_gas  \\\n",
       "262 2021-01-01        50.56      18.90         5.529864       0.000000   \n",
       "263 2021-01-04        57.29      19.95        12.496534       5.406722   \n",
       "264 2021-01-05        56.96      18.25        -0.577682      -8.906406   \n",
       "265 2021-01-06        73.25      17.73        25.152898      -2.890696   \n",
       "266 2021-01-07        79.53      19.30         8.225606       8.484698   \n",
       "\n",
       "     roll_std_power  roll_std_gas  annual_roll_std_power  annual_roll_std_gas  \\\n",
       "262       19.191810      3.567676             304.660545            56.635105   \n",
       "263       19.215910      3.657026             305.043117            58.053492   \n",
       "264       18.265568      4.264261             289.956898            67.693037   \n",
       "265       18.726018      4.350419             297.266322            69.060759   \n",
       "266       18.722424      4.643363             297.209267            73.711099   \n",
       "\n",
       "         corr  \n",
       "262  0.852842  \n",
       "263  0.875180  \n",
       "264  0.624917  \n",
       "265  0.421399  \n",
       "266  0.156772  "
      ]
     },
     "execution_count": 25,
     "metadata": {},
     "output_type": "execute_result"
    }
   ],
   "source": [
    "energy_price_df.head()"
   ]
  },
  {
   "cell_type": "code",
   "execution_count": 26,
   "metadata": {},
   "outputs": [
    {
     "data": {
      "application/vnd.plotly.v1+json": {
       "config": {
        "plotlyServerURL": "https://plot.ly"
       },
       "data": [
        {
         "line": {
          "color": "purple"
         },
         "type": "scatter",
         "x": [
          "2021-01-01T00:00:00",
          "2021-01-04T00:00:00",
          "2021-01-05T00:00:00",
          "2021-01-06T00:00:00",
          "2021-01-07T00:00:00",
          "2021-01-08T00:00:00",
          "2021-01-11T00:00:00",
          "2021-01-12T00:00:00",
          "2021-01-13T00:00:00",
          "2021-01-14T00:00:00",
          "2021-01-15T00:00:00",
          "2021-01-18T00:00:00",
          "2021-01-19T00:00:00",
          "2021-01-20T00:00:00",
          "2021-01-21T00:00:00",
          "2021-01-22T00:00:00",
          "2021-01-25T00:00:00",
          "2021-01-26T00:00:00",
          "2021-01-27T00:00:00",
          "2021-01-28T00:00:00",
          "2021-01-29T00:00:00",
          "2021-02-01T00:00:00",
          "2021-02-02T00:00:00",
          "2021-02-03T00:00:00",
          "2021-02-04T00:00:00",
          "2021-02-05T00:00:00",
          "2021-02-08T00:00:00",
          "2021-02-09T00:00:00",
          "2021-02-10T00:00:00",
          "2021-02-11T00:00:00",
          "2021-02-12T00:00:00",
          "2021-02-15T00:00:00",
          "2021-02-16T00:00:00",
          "2021-02-17T00:00:00",
          "2021-02-18T00:00:00",
          "2021-02-19T00:00:00",
          "2021-02-22T00:00:00",
          "2021-02-23T00:00:00",
          "2021-02-24T00:00:00",
          "2021-02-25T00:00:00",
          "2021-02-26T00:00:00",
          "2021-03-01T00:00:00",
          "2021-03-02T00:00:00",
          "2021-03-03T00:00:00",
          "2021-03-04T00:00:00",
          "2021-03-05T00:00:00",
          "2021-03-08T00:00:00",
          "2021-03-09T00:00:00",
          "2021-03-10T00:00:00",
          "2021-03-11T00:00:00",
          "2021-03-12T00:00:00",
          "2021-03-15T00:00:00",
          "2021-03-16T00:00:00",
          "2021-03-17T00:00:00",
          "2021-03-18T00:00:00",
          "2021-03-19T00:00:00",
          "2021-03-22T00:00:00",
          "2021-03-23T00:00:00",
          "2021-03-24T00:00:00",
          "2021-03-25T00:00:00",
          "2021-03-26T00:00:00",
          "2021-03-29T00:00:00",
          "2021-03-30T00:00:00",
          "2021-03-31T00:00:00",
          "2021-04-01T00:00:00",
          "2021-04-02T00:00:00",
          "2021-04-05T00:00:00",
          "2021-04-06T00:00:00",
          "2021-04-07T00:00:00",
          "2021-04-08T00:00:00",
          "2021-04-09T00:00:00",
          "2021-04-12T00:00:00",
          "2021-04-13T00:00:00",
          "2021-04-14T00:00:00",
          "2021-04-15T00:00:00",
          "2021-04-16T00:00:00",
          "2021-04-19T00:00:00",
          "2021-04-20T00:00:00",
          "2021-04-21T00:00:00",
          "2021-04-22T00:00:00",
          "2021-04-23T00:00:00",
          "2021-04-26T00:00:00",
          "2021-04-27T00:00:00",
          "2021-04-28T00:00:00",
          "2021-04-29T00:00:00",
          "2021-04-30T00:00:00",
          "2021-05-03T00:00:00",
          "2021-05-04T00:00:00",
          "2021-05-05T00:00:00",
          "2021-05-06T00:00:00",
          "2021-05-07T00:00:00",
          "2021-05-10T00:00:00",
          "2021-05-11T00:00:00",
          "2021-05-12T00:00:00",
          "2021-05-13T00:00:00",
          "2021-05-14T00:00:00",
          "2021-05-17T00:00:00",
          "2021-05-18T00:00:00",
          "2021-05-19T00:00:00",
          "2021-05-20T00:00:00",
          "2021-05-21T00:00:00",
          "2021-05-24T00:00:00",
          "2021-05-25T00:00:00",
          "2021-05-26T00:00:00",
          "2021-05-27T00:00:00",
          "2021-05-28T00:00:00",
          "2021-05-31T00:00:00",
          "2021-06-01T00:00:00",
          "2021-06-02T00:00:00",
          "2021-06-03T00:00:00",
          "2021-06-04T00:00:00",
          "2021-06-07T00:00:00",
          "2021-06-08T00:00:00",
          "2021-06-09T00:00:00",
          "2021-06-10T00:00:00",
          "2021-06-11T00:00:00",
          "2021-06-14T00:00:00",
          "2021-06-15T00:00:00",
          "2021-06-16T00:00:00",
          "2021-06-17T00:00:00",
          "2021-06-18T00:00:00",
          "2021-06-21T00:00:00",
          "2021-06-22T00:00:00",
          "2021-06-23T00:00:00",
          "2021-06-24T00:00:00",
          "2021-06-25T00:00:00",
          "2021-06-28T00:00:00",
          "2021-06-29T00:00:00",
          "2021-06-30T00:00:00",
          "2021-07-01T00:00:00",
          "2021-07-02T00:00:00",
          "2021-07-05T00:00:00",
          "2021-07-06T00:00:00",
          "2021-07-07T00:00:00",
          "2021-07-08T00:00:00",
          "2021-07-09T00:00:00",
          "2021-07-12T00:00:00",
          "2021-07-13T00:00:00",
          "2021-07-14T00:00:00",
          "2021-07-15T00:00:00",
          "2021-07-16T00:00:00",
          "2021-07-19T00:00:00",
          "2021-07-20T00:00:00",
          "2021-07-21T00:00:00",
          "2021-07-22T00:00:00",
          "2021-07-23T00:00:00",
          "2021-07-26T00:00:00",
          "2021-07-27T00:00:00",
          "2021-07-28T00:00:00",
          "2021-07-29T00:00:00",
          "2021-07-30T00:00:00",
          "2021-08-02T00:00:00",
          "2021-08-03T00:00:00",
          "2021-08-04T00:00:00",
          "2021-08-05T00:00:00",
          "2021-08-06T00:00:00",
          "2021-08-09T00:00:00",
          "2021-08-10T00:00:00",
          "2021-08-11T00:00:00",
          "2021-08-12T00:00:00",
          "2021-08-13T00:00:00",
          "2021-08-16T00:00:00",
          "2021-08-17T00:00:00",
          "2021-08-18T00:00:00",
          "2021-08-19T00:00:00",
          "2021-08-20T00:00:00",
          "2021-08-23T00:00:00",
          "2021-08-24T00:00:00",
          "2021-08-25T00:00:00",
          "2021-08-26T00:00:00",
          "2021-08-27T00:00:00",
          "2021-08-30T00:00:00",
          "2021-08-31T00:00:00",
          "2021-09-01T00:00:00",
          "2021-09-02T00:00:00",
          "2021-09-03T00:00:00",
          "2021-09-06T00:00:00",
          "2021-09-07T00:00:00",
          "2021-09-08T00:00:00",
          "2021-09-09T00:00:00",
          "2021-09-10T00:00:00",
          "2021-09-13T00:00:00",
          "2021-09-14T00:00:00",
          "2021-09-15T00:00:00",
          "2021-09-16T00:00:00",
          "2021-09-17T00:00:00",
          "2021-09-20T00:00:00",
          "2021-09-21T00:00:00",
          "2021-09-22T00:00:00",
          "2021-09-23T00:00:00",
          "2021-09-24T00:00:00",
          "2021-09-27T00:00:00",
          "2021-09-28T00:00:00",
          "2021-09-29T00:00:00",
          "2021-09-30T00:00:00",
          "2021-10-01T00:00:00",
          "2021-10-04T00:00:00",
          "2021-10-05T00:00:00",
          "2021-10-06T00:00:00",
          "2021-10-07T00:00:00",
          "2021-10-08T00:00:00",
          "2021-10-11T00:00:00",
          "2021-10-12T00:00:00",
          "2021-10-13T00:00:00",
          "2021-10-14T00:00:00",
          "2021-10-15T00:00:00",
          "2021-10-18T00:00:00",
          "2021-10-19T00:00:00",
          "2021-10-20T00:00:00",
          "2021-10-21T00:00:00",
          "2021-10-22T00:00:00",
          "2021-10-25T00:00:00",
          "2021-10-26T00:00:00",
          "2021-10-27T00:00:00",
          "2021-10-28T00:00:00",
          "2021-10-29T00:00:00",
          "2021-11-01T00:00:00",
          "2021-11-02T00:00:00",
          "2021-11-03T00:00:00",
          "2021-11-04T00:00:00",
          "2021-11-05T00:00:00",
          "2021-11-08T00:00:00",
          "2021-11-09T00:00:00",
          "2021-11-10T00:00:00",
          "2021-11-11T00:00:00",
          "2021-11-12T00:00:00",
          "2021-11-15T00:00:00",
          "2021-11-16T00:00:00",
          "2021-11-17T00:00:00",
          "2021-11-18T00:00:00",
          "2021-11-19T00:00:00",
          "2021-11-23T00:00:00",
          "2021-11-24T00:00:00",
          "2021-11-25T00:00:00",
          "2021-11-26T00:00:00",
          "2021-11-29T00:00:00",
          "2021-11-30T00:00:00",
          "2021-12-01T00:00:00",
          "2021-12-02T00:00:00",
          "2021-12-03T00:00:00",
          "2021-12-06T00:00:00",
          "2021-12-07T00:00:00",
          "2021-12-08T00:00:00",
          "2021-12-09T00:00:00",
          "2021-12-10T00:00:00",
          "2021-12-13T00:00:00",
          "2021-12-14T00:00:00",
          "2021-12-15T00:00:00",
          "2021-12-16T00:00:00",
          "2021-12-17T00:00:00",
          "2021-12-20T00:00:00",
          "2021-12-21T00:00:00",
          "2021-12-22T00:00:00",
          "2021-12-23T00:00:00",
          "2021-12-24T00:00:00",
          "2021-12-27T00:00:00",
          "2021-12-28T00:00:00",
          "2021-12-29T00:00:00",
          "2021-12-30T00:00:00",
          "2021-12-31T00:00:00",
          "2022-01-03T00:00:00",
          "2022-01-04T00:00:00",
          "2022-01-05T00:00:00",
          "2022-01-06T00:00:00",
          "2022-01-07T00:00:00",
          "2022-01-10T00:00:00",
          "2022-01-11T00:00:00",
          "2022-01-12T00:00:00",
          "2022-01-13T00:00:00",
          "2022-01-14T00:00:00",
          "2022-01-17T00:00:00",
          "2022-01-18T00:00:00",
          "2022-01-19T00:00:00",
          "2022-01-20T00:00:00",
          "2022-01-21T00:00:00",
          "2022-01-24T00:00:00",
          "2022-01-25T00:00:00",
          "2022-01-26T00:00:00",
          "2022-01-27T00:00:00",
          "2022-01-28T00:00:00",
          "2022-01-31T00:00:00",
          "2022-02-01T00:00:00",
          "2022-02-02T00:00:00",
          "2022-02-03T00:00:00",
          "2022-02-04T00:00:00",
          "2022-02-07T00:00:00",
          "2022-02-08T00:00:00",
          "2022-02-09T00:00:00",
          "2022-02-10T00:00:00",
          "2022-02-11T00:00:00",
          "2022-02-14T00:00:00",
          "2022-02-15T00:00:00",
          "2022-02-16T00:00:00",
          "2022-02-17T00:00:00",
          "2022-02-18T00:00:00",
          "2022-02-21T00:00:00",
          "2022-02-22T00:00:00",
          "2022-02-23T00:00:00",
          "2022-02-24T00:00:00",
          "2022-02-25T00:00:00",
          "2022-02-28T00:00:00",
          "2022-03-01T00:00:00",
          "2022-03-02T00:00:00",
          "2022-03-03T00:00:00",
          "2022-03-04T00:00:00",
          "2022-03-07T00:00:00",
          "2022-03-08T00:00:00",
          "2022-03-09T00:00:00",
          "2022-03-10T00:00:00",
          "2022-03-11T00:00:00",
          "2022-03-14T00:00:00",
          "2022-03-15T00:00:00",
          "2022-03-16T00:00:00",
          "2022-03-17T00:00:00",
          "2022-03-18T00:00:00",
          "2022-03-21T00:00:00",
          "2022-03-22T00:00:00",
          "2022-03-23T00:00:00",
          "2022-03-24T00:00:00",
          "2022-03-25T00:00:00",
          "2022-03-28T00:00:00",
          "2022-03-29T00:00:00",
          "2022-03-30T00:00:00",
          "2022-03-31T00:00:00",
          "2022-04-01T00:00:00",
          "2022-04-04T00:00:00",
          "2022-04-05T00:00:00",
          "2022-04-06T00:00:00",
          "2022-04-07T00:00:00",
          "2022-04-08T00:00:00",
          "2022-04-11T00:00:00",
          "2022-04-12T00:00:00",
          "2022-04-13T00:00:00",
          "2022-04-14T00:00:00",
          "2022-04-15T00:00:00",
          "2022-04-18T00:00:00",
          "2022-04-19T00:00:00",
          "2022-04-20T00:00:00",
          "2022-04-21T00:00:00",
          "2022-04-22T00:00:00",
          "2022-04-25T00:00:00",
          "2022-04-26T00:00:00",
          "2022-04-27T00:00:00",
          "2022-04-28T00:00:00",
          "2022-04-29T00:00:00",
          "2022-05-02T00:00:00",
          "2022-05-03T00:00:00",
          "2022-05-04T00:00:00",
          "2022-05-05T00:00:00",
          "2022-05-06T00:00:00",
          "2022-05-09T00:00:00",
          "2022-05-10T00:00:00",
          "2022-05-11T00:00:00",
          "2022-05-12T00:00:00",
          "2022-05-13T00:00:00",
          "2022-05-16T00:00:00",
          "2022-05-17T00:00:00",
          "2022-05-19T00:00:00",
          "2022-05-20T00:00:00",
          "2022-05-23T00:00:00",
          "2022-05-24T00:00:00",
          "2022-05-25T00:00:00",
          "2022-05-26T00:00:00",
          "2022-05-27T00:00:00",
          "2022-05-30T00:00:00",
          "2022-05-31T00:00:00",
          "2022-06-01T00:00:00",
          "2022-06-02T00:00:00",
          "2022-06-03T00:00:00",
          "2022-06-06T00:00:00",
          "2022-06-07T00:00:00",
          "2022-06-08T00:00:00",
          "2022-06-09T00:00:00",
          "2022-06-10T00:00:00",
          "2022-06-13T00:00:00",
          "2022-06-14T00:00:00",
          "2022-06-15T00:00:00",
          "2022-06-16T00:00:00",
          "2022-06-17T00:00:00",
          "2022-06-20T00:00:00",
          "2022-06-21T00:00:00",
          "2022-06-22T00:00:00",
          "2022-06-23T00:00:00",
          "2022-06-24T00:00:00",
          "2022-06-27T00:00:00",
          "2022-06-28T00:00:00",
          "2022-06-29T00:00:00",
          "2022-06-30T00:00:00",
          "2022-07-01T00:00:00",
          "2022-07-04T00:00:00",
          "2022-07-05T00:00:00",
          "2022-07-06T00:00:00",
          "2022-07-07T00:00:00",
          "2022-07-08T00:00:00",
          "2022-07-11T00:00:00",
          "2022-07-12T00:00:00",
          "2022-07-13T00:00:00",
          "2022-07-14T00:00:00",
          "2022-07-15T00:00:00",
          "2022-07-18T00:00:00",
          "2022-07-19T00:00:00",
          "2022-07-20T00:00:00",
          "2022-07-21T00:00:00",
          "2022-07-22T00:00:00",
          "2022-07-25T00:00:00",
          "2022-07-27T00:00:00",
          "2022-07-28T00:00:00",
          "2022-07-29T00:00:00",
          "2022-08-01T00:00:00",
          "2022-08-02T00:00:00",
          "2022-08-03T00:00:00",
          "2022-08-04T00:00:00",
          "2022-08-05T00:00:00",
          "2022-08-08T00:00:00",
          "2022-08-09T00:00:00",
          "2022-08-10T00:00:00",
          "2022-08-11T00:00:00",
          "2022-08-12T00:00:00",
          "2022-08-15T00:00:00",
          "2022-08-16T00:00:00",
          "2022-08-17T00:00:00",
          "2022-08-18T00:00:00",
          "2022-08-19T00:00:00",
          "2022-08-22T00:00:00",
          "2022-08-23T00:00:00",
          "2022-08-24T00:00:00",
          "2022-08-25T00:00:00",
          "2022-08-26T00:00:00",
          "2022-08-29T00:00:00",
          "2022-08-30T00:00:00",
          "2022-08-31T00:00:00",
          "2022-09-01T00:00:00",
          "2022-09-02T00:00:00",
          "2022-09-05T00:00:00",
          "2022-09-06T00:00:00",
          "2022-09-07T00:00:00",
          "2022-09-08T00:00:00",
          "2022-09-09T00:00:00",
          "2022-09-13T00:00:00",
          "2022-09-14T00:00:00",
          "2022-09-15T00:00:00",
          "2022-09-16T00:00:00",
          "2022-09-19T00:00:00",
          "2022-09-20T00:00:00",
          "2022-09-21T00:00:00",
          "2022-09-22T00:00:00",
          "2022-09-23T00:00:00",
          "2022-09-26T00:00:00",
          "2022-09-27T00:00:00",
          "2022-09-28T00:00:00",
          "2022-09-29T00:00:00",
          "2022-09-30T00:00:00",
          "2022-10-03T00:00:00",
          "2022-10-04T00:00:00",
          "2022-10-05T00:00:00",
          "2022-10-06T00:00:00",
          "2022-10-07T00:00:00",
          "2022-10-10T00:00:00",
          "2022-10-11T00:00:00",
          "2022-10-12T00:00:00",
          "2022-10-13T00:00:00",
          "2022-10-14T00:00:00",
          "2022-10-17T00:00:00",
          "2022-10-18T00:00:00",
          "2022-10-19T00:00:00",
          "2022-10-20T00:00:00",
          "2022-10-21T00:00:00",
          "2022-10-24T00:00:00",
          "2022-10-25T00:00:00",
          "2022-10-26T00:00:00",
          "2022-10-27T00:00:00",
          "2022-10-28T00:00:00",
          "2022-10-31T00:00:00",
          "2022-11-01T00:00:00",
          "2022-11-02T00:00:00",
          "2022-11-03T00:00:00",
          "2022-11-04T00:00:00",
          "2022-11-07T00:00:00",
          "2022-11-08T00:00:00",
          "2022-11-09T00:00:00",
          "2022-11-10T00:00:00",
          "2022-11-11T00:00:00",
          "2022-11-14T00:00:00",
          "2022-11-15T00:00:00",
          "2022-11-16T00:00:00",
          "2022-11-17T00:00:00",
          "2022-11-18T00:00:00",
          "2022-11-21T00:00:00",
          "2022-11-22T00:00:00",
          "2022-11-23T00:00:00",
          "2022-11-24T00:00:00",
          "2022-11-25T00:00:00",
          "2022-11-28T00:00:00",
          "2022-11-29T00:00:00",
          "2022-11-30T00:00:00",
          "2022-12-01T00:00:00",
          "2022-12-02T00:00:00",
          "2022-12-05T00:00:00",
          "2022-12-06T00:00:00",
          "2022-12-07T00:00:00",
          "2022-12-08T00:00:00",
          "2022-12-09T00:00:00",
          "2022-12-12T00:00:00",
          "2022-12-13T00:00:00",
          "2022-12-14T00:00:00",
          "2022-12-15T00:00:00",
          "2022-12-16T00:00:00",
          "2022-12-19T00:00:00",
          "2022-12-20T00:00:00",
          "2022-12-21T00:00:00",
          "2022-12-22T00:00:00",
          "2022-12-23T00:00:00"
         ],
         "y": [
          0.8528421305915892,
          0.8751801884924181,
          0.6249174166410694,
          0.42139931634568456,
          0.15677234046000257,
          -0.02845084577477864,
          -0.20502488864419838,
          -0.379604085785859,
          -0.44492964075195485,
          -0.5389269163663216,
          -0.5415016173084933,
          -0.5547174266457786,
          -0.5478912224928918,
          -0.5748336043166449,
          -0.6004463209913207,
          -0.6234301565034137,
          -0.642513007954197,
          -0.5857772740724531,
          -0.546343802578605,
          -0.5233197991828404,
          -0.514381569308861,
          -0.5096236788101113,
          -0.48572741202234265,
          -0.4848119726698142,
          -0.4540197735097567,
          -0.39887904315732603,
          -0.30338853182376363,
          -0.22990846046936236,
          -0.3247422491349901,
          -0.4161109734447558,
          -0.5061545046550495,
          -0.5608279105860295,
          -0.5973383605759258,
          -0.6268515328787678,
          -0.6661741845168218,
          -0.6923759503314594,
          -0.7260503682490373,
          -0.7545075687793342,
          -0.7519506074637736,
          -0.7471488415637765,
          -0.7351612946640985,
          -0.7259184410070003,
          -0.6866742030381529,
          -0.6107919270470109,
          -0.5038210513798314,
          -0.2989380869355211,
          0.2006237960706612,
          0.45945819001976484,
          0.699147259019951,
          0.8330525684224348,
          0.8686734981370461,
          0.8732718549196666,
          0.8730044291857003,
          0.8784927566281713,
          0.8868126629503998,
          0.8886840924554102,
          0.8938013133591847,
          0.890608136675082,
          0.888496295374907,
          0.8845760024046719,
          0.856993182582489,
          0.7995089260550413,
          0.7320674718994379,
          0.6592280141697928,
          0.5611705175486177,
          0.3355135347038416,
          -0.026644944588745417,
          -0.6694696954740856,
          -0.6883624766010356,
          -0.6860203816034429,
          -0.730036497472569,
          -0.543221148721243,
          -0.5326907724120741,
          -0.5516753896115356,
          -0.5712704945575889,
          -0.5989523108227778,
          -0.5983151414396203,
          -0.4244962593397962,
          -0.460527303923844,
          -0.5031002083104811,
          -0.2920039871621714,
          -0.16995447944333197,
          -0.14365106291622745,
          -0.13511966191838917,
          -0.14553700591429133,
          -0.09127734686261758,
          0.25103313764324425,
          0.516998196481927,
          0.6091328767214196,
          0.6668070251633217,
          0.7363294777254341,
          0.7886879719167565,
          0.7966578245230096,
          0.8051933791639334,
          0.8056709773613273,
          0.8038783215484858,
          0.7986603929517594,
          0.7979424590096186,
          0.762789494962777,
          0.7912227375018596,
          0.8459194670764513,
          0.7395938561944588,
          0.7504453059720013,
          0.7454527714468664,
          0.762515858391822,
          0.7670532245991936,
          0.7650149230254248,
          0.7627608997939481,
          0.7574752617395333,
          0.7431704601197595,
          0.7196946936574,
          0.6912988421839285,
          0.6655356859484187,
          0.6201283661548567,
          0.5551332043852671,
          0.4559230015812179,
          0.3025904245326778,
          0.02667862921859099,
          -0.3453933687341018,
          -0.3651048659946325,
          -0.16498745807928558,
          0.3387094181267273,
          0.5363613355570929,
          0.6613271792094331,
          0.7242879314031656,
          0.77833886709581,
          0.8107521790210414,
          0.8296577396899149,
          0.846490100377559,
          0.8609388374732811,
          0.8699961240977334,
          0.8707887515301859,
          0.7606022602821801,
          0.6430492524141477,
          0.5372820808294481,
          0.40005462456228796,
          0.21048052307978712,
          -0.03824238547546324,
          -0.26501602177127453,
          -0.45458758172418867,
          -0.567899102319279,
          -0.6581241050055456,
          -0.7442034437959435,
          -0.7551791911370784,
          -0.7575666859105552,
          -0.7564146977361299,
          -0.7478359006066142,
          -0.7397567938249151,
          -0.7275878990239624,
          -0.7089648012127249,
          -0.6832346210157074,
          -0.5990262271793488,
          -0.6421064388470484,
          -0.5844052819139293,
          -0.5798984258354044,
          -0.6096310163539499,
          -0.7367068620675125,
          -0.7912083022384191,
          -0.8185413579891564,
          -0.8414714334085269,
          -0.8632396063708161,
          -0.872018430525524,
          -0.8741113013542031,
          -0.8732604861155571,
          -0.8085876470839354,
          -0.7417707700737056,
          -0.680025820241335,
          -0.6005362770433256,
          -0.5168130262656968,
          -0.4271718102472605,
          -0.31533499881448124,
          -0.198195086482132,
          -0.2252393090735802,
          -0.2582458883428385,
          -0.3180971199494057,
          -0.36590221693507363,
          -0.4018839287971651,
          -0.4069024865154853,
          -0.4035008664743937,
          -0.39182478790245884,
          -0.37096875347955294,
          -0.3126937903414638,
          -0.22352459764667248,
          -0.10866354490717228,
          -0.12419522199271733,
          0.049795055310358854,
          -0.05544954988802659,
          -0.12753708081561999,
          -0.24629628836229833,
          -0.3581506054415562,
          -0.4136523116544827,
          -0.47504819937910947,
          -0.5777012168691097,
          -0.6104293413239812,
          -0.6077455410687033,
          -0.5559265013036069,
          -0.3782862549498759,
          -0.07133347620101109,
          0.3266186520460745,
          0.6300485832254014,
          0.7989454873487248,
          0.8918518761362453,
          0.930294346849529,
          0.9522193734170384,
          0.9596068834779468,
          0.9617546708370106,
          0.9736037761109534,
          0.9750066291953033,
          0.9763684186235467,
          0.9777845064890281,
          0.977782802023774,
          0.9768166998803405,
          0.9711107298204866,
          0.9598899182772788,
          0.9437408950669409,
          0.9167166070711114,
          0.8099581634274587,
          0.7494666057856274,
          0.2577142717433249,
          -0.08614046351545927,
          -0.007541896551615358,
          0.08432878563265987,
          0.1484794893422546,
          0.20052695627278375,
          0.26216893584755646,
          0.31919875283818144,
          0.31071737560038115,
          0.3743582550669824,
          0.4165737319900129,
          0.4753908776063825,
          0.5425225122502334,
          0.5816201157964723,
          0.6184976900453191,
          0.6523857720520659,
          0.6993568894581488,
          0.75091932458657,
          0.7484191467222215,
          0.7593135433592663,
          0.7870682455227114,
          0.8309349073688682,
          0.8598926199273912,
          0.8855793798981224,
          0.8992070853412916,
          0.907718159347955,
          0.9163301372800788,
          0.9163779293666171,
          0.9193563990580895,
          0.9300749291769992,
          0.9298336570860828,
          0.9262251899174864,
          0.8923258789151204,
          0.8857061434026273,
          0.8536519237446986,
          0.7185921261704837,
          0.5872618518360305,
          0.6946827663403715,
          0.7980519029177169,
          0.8856920409255475,
          0.9071066543200991,
          0.9232145428538439,
          0.9171602614827014,
          0.9229445102805753,
          0.9195724481804176,
          0.9197610221169249,
          0.9207208259298096,
          0.916409851734374,
          0.9148847840687901,
          0.9070305527553741,
          0.8977018243354615,
          0.8799388577362139,
          0.8591744976301174,
          0.8692666518815191,
          0.8584426146467737,
          0.8340179472321144,
          0.6655942989947043,
          0.5355801125756489,
          0.5628649718486095,
          0.5897142239871036,
          0.6861500222455049,
          0.7908458303237371,
          0.9083809494914631,
          0.9070971451640273,
          0.9304488883776665,
          0.9211881117378884,
          0.9249645058305496,
          0.932290608310942,
          0.9280148572486956,
          0.9269073232173456,
          0.9234709371941049,
          0.9239515905998316,
          0.9195986288923493,
          0.9156850011150195,
          0.9333541794842517,
          0.9294536189724459,
          0.9240052070950487,
          0.8889951856089527,
          0.8556800195197184,
          0.83404580642714,
          0.3801068082201908,
          0.1418396433222014,
          0.0021847453244205504,
          -0.14660921510044855,
          -0.22482638448625464,
          -0.2560908120314236,
          -0.2728412877321015,
          -0.1460324179196287,
          0.015169579470443019,
          0.18310294989070033,
          0.3149145054692764,
          0.39910872108940476,
          0.45754008309461625,
          0.5006279006822715,
          0.5250144441068183,
          0.5472208881370424,
          0.5638084898161235,
          0.6118990432722363,
          0.745783547260237,
          0.7804212202849391,
          0.8609024704785896,
          0.8676724414773562,
          0.8688342672452489,
          0.8464260105821594,
          0.789826948489758,
          0.7501066640442878,
          0.756865686671011,
          0.7877746940523399,
          0.8362456115922363,
          0.8627628854312906,
          0.8940751358453086,
          0.9047988445465102,
          0.7845520954465447,
          0.7090781744893797,
          0.6429288835979154,
          0.5583255047018304,
          0.43960744450054384,
          0.22305222321981374,
          0.05773132812562316,
          -0.058396996522003065,
          -0.18795361340086,
          -0.3511519318532419,
          -0.5028992580559867,
          -0.5494864896803301,
          -0.5998096426110745,
          -0.6631270780718082,
          -0.7038179393059326,
          -0.7658470229356784,
          -0.8479936919916594,
          -0.8473446893958606,
          -0.8876433676098595,
          -0.8523392511772421,
          -0.8178744541257122,
          -0.7813486681490412,
          -0.7421106539897817,
          -0.747247420191065,
          -0.7576520049304946,
          -0.7704052116765009,
          -0.8038171025274682,
          -0.8286637159032144,
          -0.7961846796873718,
          -0.7460399916055127,
          -0.7315902843260669,
          -0.6585042100352065,
          -0.6367469921227137,
          -0.609245228917046,
          -0.3400179986373635,
          -0.21727724850134536,
          -0.04492930609954321,
          0.07458635332135856,
          0.1519589058293889,
          0.2148630288208726,
          0.18343998516534238,
          0.0810829484856548,
          -0.09268713832811702,
          -0.3234541890488567,
          -0.3748540613594528,
          -0.401247121541947,
          -0.35040560721421954,
          -0.27728307898023896,
          -0.19289992061354308,
          -0.12170247285025103,
          -0.07148873340264388,
          -0.011247521968227377,
          0.051727079422573236,
          -0.07890053268190139,
          -0.34723434942494696,
          -0.29639458237783045,
          -0.3384102615290845,
          -0.1524142389587614,
          -0.03891309571631461,
          0.00679869162372526,
          0.046134729001476624,
          0.11506421541880714,
          0.1926450248075761,
          0.21956504615535147,
          0.26347438417426566,
          0.5383279605630618,
          0.5743024130830789,
          0.4436699582898147,
          0.3382487045969018,
          0.1404320046526332,
          0.0024123608816943227,
          -0.13217752001472666,
          -0.28946222171699093,
          -0.4003587278973327,
          -0.5126969607244882,
          -0.627957077595662,
          -0.5239676554655032,
          -0.36883027426763393,
          -0.3289128994228875,
          -0.320462867508651,
          -0.29619451715371664,
          -0.28746478313552765,
          -0.3292134957021081,
          -0.5133380878458847,
          -0.3157196107161712,
          -0.1606495190884408,
          -0.1389291664437723,
          -0.11234972484349376,
          -0.09096605799818172,
          0.04756553838377641,
          0.2257392682468424,
          0.3607172133897672,
          0.5037690147838868,
          0.5866183825615241,
          0.6979485862038488,
          0.7730434396517861,
          0.7746904121351805,
          0.7611269598540711,
          0.48465778353475253,
          0.26488082379410427,
          0.07102294370237713,
          -0.01639924763356519,
          -0.06071066491921603,
          -0.07553157718870447,
          -0.04111031472696585,
          0.13251804031412287,
          0.25070062342158694,
          0.3745933462120703,
          0.521838976022489,
          0.7199417624664752,
          0.8793108605151356,
          0.8846719122071235,
          0.887016810836934,
          0.8916578429823749,
          0.9180474844889944,
          0.919388978811397,
          0.9120829995465639,
          0.9057555906592697,
          0.9265164592221986,
          0.9015646490635387,
          0.8502151592484916,
          0.4253488476936498,
          0.4627347115872513,
          0.7279244343748084,
          0.774823595252566,
          0.7753181650812471,
          0.7753780388479682,
          0.8052879036840107,
          0.8222937329462515,
          0.8312768964433542,
          0.8353251142222913,
          0.8400285972189232,
          0.8526219226680666,
          0.8547476575976715,
          0.8550291909678628,
          0.8519118032496441,
          0.8397114900876084,
          0.8064974057699094,
          0.7512178110376837,
          0.6884756960085205,
          0.580837989327615,
          0.47971055941634066,
          -0.16575773810370012,
          -0.4526521482757251,
          -0.6703838704456732,
          -0.7960350834893224,
          -0.8468508214406826,
          -0.8772251052146511,
          -0.8976300733999208,
          -0.9124280204371441,
          -0.9257991026691348,
          -0.9380349442241632,
          -0.9396971948902774,
          -0.9404590561545667,
          -0.9426466282428686,
          -0.94368936160593,
          -0.9430500531551193,
          -0.9380240410043633,
          -0.9171140151761554,
          -0.8923596228954446,
          -0.8520416138253766,
          -0.7709740714193072,
          -0.6871091639780263,
          -0.5390642572844381,
          -0.40334396986279736,
          -0.37047864466111496,
          -0.4272449272927418,
          -0.4597648231635881,
          -0.5413931604420669,
          -0.5663226169576963,
          -0.6041145822304342,
          -0.6789391473080267,
          -0.7805200122579088,
          -0.70229139137661,
          -0.677437261512981,
          -0.6417779029582322,
          -0.6682687025997405,
          -0.6976704922949079,
          -0.7056568633476872,
          -0.6964434638508065,
          -0.6820186226616912,
          -0.6186657396290743
         ]
        }
       ],
       "layout": {
        "autosize": false,
        "height": 700,
        "template": {
         "data": {
          "bar": [
           {
            "error_x": {
             "color": "#2a3f5f"
            },
            "error_y": {
             "color": "#2a3f5f"
            },
            "marker": {
             "line": {
              "color": "#E5ECF6",
              "width": 0.5
             },
             "pattern": {
              "fillmode": "overlay",
              "size": 10,
              "solidity": 0.2
             }
            },
            "type": "bar"
           }
          ],
          "barpolar": [
           {
            "marker": {
             "line": {
              "color": "#E5ECF6",
              "width": 0.5
             },
             "pattern": {
              "fillmode": "overlay",
              "size": 10,
              "solidity": 0.2
             }
            },
            "type": "barpolar"
           }
          ],
          "carpet": [
           {
            "aaxis": {
             "endlinecolor": "#2a3f5f",
             "gridcolor": "white",
             "linecolor": "white",
             "minorgridcolor": "white",
             "startlinecolor": "#2a3f5f"
            },
            "baxis": {
             "endlinecolor": "#2a3f5f",
             "gridcolor": "white",
             "linecolor": "white",
             "minorgridcolor": "white",
             "startlinecolor": "#2a3f5f"
            },
            "type": "carpet"
           }
          ],
          "choropleth": [
           {
            "colorbar": {
             "outlinewidth": 0,
             "ticks": ""
            },
            "type": "choropleth"
           }
          ],
          "contour": [
           {
            "colorbar": {
             "outlinewidth": 0,
             "ticks": ""
            },
            "colorscale": [
             [
              0,
              "#0d0887"
             ],
             [
              0.1111111111111111,
              "#46039f"
             ],
             [
              0.2222222222222222,
              "#7201a8"
             ],
             [
              0.3333333333333333,
              "#9c179e"
             ],
             [
              0.4444444444444444,
              "#bd3786"
             ],
             [
              0.5555555555555556,
              "#d8576b"
             ],
             [
              0.6666666666666666,
              "#ed7953"
             ],
             [
              0.7777777777777778,
              "#fb9f3a"
             ],
             [
              0.8888888888888888,
              "#fdca26"
             ],
             [
              1,
              "#f0f921"
             ]
            ],
            "type": "contour"
           }
          ],
          "contourcarpet": [
           {
            "colorbar": {
             "outlinewidth": 0,
             "ticks": ""
            },
            "type": "contourcarpet"
           }
          ],
          "heatmap": [
           {
            "colorbar": {
             "outlinewidth": 0,
             "ticks": ""
            },
            "colorscale": [
             [
              0,
              "#0d0887"
             ],
             [
              0.1111111111111111,
              "#46039f"
             ],
             [
              0.2222222222222222,
              "#7201a8"
             ],
             [
              0.3333333333333333,
              "#9c179e"
             ],
             [
              0.4444444444444444,
              "#bd3786"
             ],
             [
              0.5555555555555556,
              "#d8576b"
             ],
             [
              0.6666666666666666,
              "#ed7953"
             ],
             [
              0.7777777777777778,
              "#fb9f3a"
             ],
             [
              0.8888888888888888,
              "#fdca26"
             ],
             [
              1,
              "#f0f921"
             ]
            ],
            "type": "heatmap"
           }
          ],
          "heatmapgl": [
           {
            "colorbar": {
             "outlinewidth": 0,
             "ticks": ""
            },
            "colorscale": [
             [
              0,
              "#0d0887"
             ],
             [
              0.1111111111111111,
              "#46039f"
             ],
             [
              0.2222222222222222,
              "#7201a8"
             ],
             [
              0.3333333333333333,
              "#9c179e"
             ],
             [
              0.4444444444444444,
              "#bd3786"
             ],
             [
              0.5555555555555556,
              "#d8576b"
             ],
             [
              0.6666666666666666,
              "#ed7953"
             ],
             [
              0.7777777777777778,
              "#fb9f3a"
             ],
             [
              0.8888888888888888,
              "#fdca26"
             ],
             [
              1,
              "#f0f921"
             ]
            ],
            "type": "heatmapgl"
           }
          ],
          "histogram": [
           {
            "marker": {
             "pattern": {
              "fillmode": "overlay",
              "size": 10,
              "solidity": 0.2
             }
            },
            "type": "histogram"
           }
          ],
          "histogram2d": [
           {
            "colorbar": {
             "outlinewidth": 0,
             "ticks": ""
            },
            "colorscale": [
             [
              0,
              "#0d0887"
             ],
             [
              0.1111111111111111,
              "#46039f"
             ],
             [
              0.2222222222222222,
              "#7201a8"
             ],
             [
              0.3333333333333333,
              "#9c179e"
             ],
             [
              0.4444444444444444,
              "#bd3786"
             ],
             [
              0.5555555555555556,
              "#d8576b"
             ],
             [
              0.6666666666666666,
              "#ed7953"
             ],
             [
              0.7777777777777778,
              "#fb9f3a"
             ],
             [
              0.8888888888888888,
              "#fdca26"
             ],
             [
              1,
              "#f0f921"
             ]
            ],
            "type": "histogram2d"
           }
          ],
          "histogram2dcontour": [
           {
            "colorbar": {
             "outlinewidth": 0,
             "ticks": ""
            },
            "colorscale": [
             [
              0,
              "#0d0887"
             ],
             [
              0.1111111111111111,
              "#46039f"
             ],
             [
              0.2222222222222222,
              "#7201a8"
             ],
             [
              0.3333333333333333,
              "#9c179e"
             ],
             [
              0.4444444444444444,
              "#bd3786"
             ],
             [
              0.5555555555555556,
              "#d8576b"
             ],
             [
              0.6666666666666666,
              "#ed7953"
             ],
             [
              0.7777777777777778,
              "#fb9f3a"
             ],
             [
              0.8888888888888888,
              "#fdca26"
             ],
             [
              1,
              "#f0f921"
             ]
            ],
            "type": "histogram2dcontour"
           }
          ],
          "mesh3d": [
           {
            "colorbar": {
             "outlinewidth": 0,
             "ticks": ""
            },
            "type": "mesh3d"
           }
          ],
          "parcoords": [
           {
            "line": {
             "colorbar": {
              "outlinewidth": 0,
              "ticks": ""
             }
            },
            "type": "parcoords"
           }
          ],
          "pie": [
           {
            "automargin": true,
            "type": "pie"
           }
          ],
          "scatter": [
           {
            "fillpattern": {
             "fillmode": "overlay",
             "size": 10,
             "solidity": 0.2
            },
            "type": "scatter"
           }
          ],
          "scatter3d": [
           {
            "line": {
             "colorbar": {
              "outlinewidth": 0,
              "ticks": ""
             }
            },
            "marker": {
             "colorbar": {
              "outlinewidth": 0,
              "ticks": ""
             }
            },
            "type": "scatter3d"
           }
          ],
          "scattercarpet": [
           {
            "marker": {
             "colorbar": {
              "outlinewidth": 0,
              "ticks": ""
             }
            },
            "type": "scattercarpet"
           }
          ],
          "scattergeo": [
           {
            "marker": {
             "colorbar": {
              "outlinewidth": 0,
              "ticks": ""
             }
            },
            "type": "scattergeo"
           }
          ],
          "scattergl": [
           {
            "marker": {
             "colorbar": {
              "outlinewidth": 0,
              "ticks": ""
             }
            },
            "type": "scattergl"
           }
          ],
          "scattermapbox": [
           {
            "marker": {
             "colorbar": {
              "outlinewidth": 0,
              "ticks": ""
             }
            },
            "type": "scattermapbox"
           }
          ],
          "scatterpolar": [
           {
            "marker": {
             "colorbar": {
              "outlinewidth": 0,
              "ticks": ""
             }
            },
            "type": "scatterpolar"
           }
          ],
          "scatterpolargl": [
           {
            "marker": {
             "colorbar": {
              "outlinewidth": 0,
              "ticks": ""
             }
            },
            "type": "scatterpolargl"
           }
          ],
          "scatterternary": [
           {
            "marker": {
             "colorbar": {
              "outlinewidth": 0,
              "ticks": ""
             }
            },
            "type": "scatterternary"
           }
          ],
          "surface": [
           {
            "colorbar": {
             "outlinewidth": 0,
             "ticks": ""
            },
            "colorscale": [
             [
              0,
              "#0d0887"
             ],
             [
              0.1111111111111111,
              "#46039f"
             ],
             [
              0.2222222222222222,
              "#7201a8"
             ],
             [
              0.3333333333333333,
              "#9c179e"
             ],
             [
              0.4444444444444444,
              "#bd3786"
             ],
             [
              0.5555555555555556,
              "#d8576b"
             ],
             [
              0.6666666666666666,
              "#ed7953"
             ],
             [
              0.7777777777777778,
              "#fb9f3a"
             ],
             [
              0.8888888888888888,
              "#fdca26"
             ],
             [
              1,
              "#f0f921"
             ]
            ],
            "type": "surface"
           }
          ],
          "table": [
           {
            "cells": {
             "fill": {
              "color": "#EBF0F8"
             },
             "line": {
              "color": "white"
             }
            },
            "header": {
             "fill": {
              "color": "#C8D4E3"
             },
             "line": {
              "color": "white"
             }
            },
            "type": "table"
           }
          ]
         },
         "layout": {
          "annotationdefaults": {
           "arrowcolor": "#2a3f5f",
           "arrowhead": 0,
           "arrowwidth": 1
          },
          "autotypenumbers": "strict",
          "coloraxis": {
           "colorbar": {
            "outlinewidth": 0,
            "ticks": ""
           }
          },
          "colorscale": {
           "diverging": [
            [
             0,
             "#8e0152"
            ],
            [
             0.1,
             "#c51b7d"
            ],
            [
             0.2,
             "#de77ae"
            ],
            [
             0.3,
             "#f1b6da"
            ],
            [
             0.4,
             "#fde0ef"
            ],
            [
             0.5,
             "#f7f7f7"
            ],
            [
             0.6,
             "#e6f5d0"
            ],
            [
             0.7,
             "#b8e186"
            ],
            [
             0.8,
             "#7fbc41"
            ],
            [
             0.9,
             "#4d9221"
            ],
            [
             1,
             "#276419"
            ]
           ],
           "sequential": [
            [
             0,
             "#0d0887"
            ],
            [
             0.1111111111111111,
             "#46039f"
            ],
            [
             0.2222222222222222,
             "#7201a8"
            ],
            [
             0.3333333333333333,
             "#9c179e"
            ],
            [
             0.4444444444444444,
             "#bd3786"
            ],
            [
             0.5555555555555556,
             "#d8576b"
            ],
            [
             0.6666666666666666,
             "#ed7953"
            ],
            [
             0.7777777777777778,
             "#fb9f3a"
            ],
            [
             0.8888888888888888,
             "#fdca26"
            ],
            [
             1,
             "#f0f921"
            ]
           ],
           "sequentialminus": [
            [
             0,
             "#0d0887"
            ],
            [
             0.1111111111111111,
             "#46039f"
            ],
            [
             0.2222222222222222,
             "#7201a8"
            ],
            [
             0.3333333333333333,
             "#9c179e"
            ],
            [
             0.4444444444444444,
             "#bd3786"
            ],
            [
             0.5555555555555556,
             "#d8576b"
            ],
            [
             0.6666666666666666,
             "#ed7953"
            ],
            [
             0.7777777777777778,
             "#fb9f3a"
            ],
            [
             0.8888888888888888,
             "#fdca26"
            ],
            [
             1,
             "#f0f921"
            ]
           ]
          },
          "colorway": [
           "#636efa",
           "#EF553B",
           "#00cc96",
           "#ab63fa",
           "#FFA15A",
           "#19d3f3",
           "#FF6692",
           "#B6E880",
           "#FF97FF",
           "#FECB52"
          ],
          "font": {
           "color": "#2a3f5f"
          },
          "geo": {
           "bgcolor": "white",
           "lakecolor": "white",
           "landcolor": "#E5ECF6",
           "showlakes": true,
           "showland": true,
           "subunitcolor": "white"
          },
          "hoverlabel": {
           "align": "left"
          },
          "hovermode": "closest",
          "mapbox": {
           "style": "light"
          },
          "paper_bgcolor": "white",
          "plot_bgcolor": "#E5ECF6",
          "polar": {
           "angularaxis": {
            "gridcolor": "white",
            "linecolor": "white",
            "ticks": ""
           },
           "bgcolor": "#E5ECF6",
           "radialaxis": {
            "gridcolor": "white",
            "linecolor": "white",
            "ticks": ""
           }
          },
          "scene": {
           "xaxis": {
            "backgroundcolor": "#E5ECF6",
            "gridcolor": "white",
            "gridwidth": 2,
            "linecolor": "white",
            "showbackground": true,
            "ticks": "",
            "zerolinecolor": "white"
           },
           "yaxis": {
            "backgroundcolor": "#E5ECF6",
            "gridcolor": "white",
            "gridwidth": 2,
            "linecolor": "white",
            "showbackground": true,
            "ticks": "",
            "zerolinecolor": "white"
           },
           "zaxis": {
            "backgroundcolor": "#E5ECF6",
            "gridcolor": "white",
            "gridwidth": 2,
            "linecolor": "white",
            "showbackground": true,
            "ticks": "",
            "zerolinecolor": "white"
           }
          },
          "shapedefaults": {
           "line": {
            "color": "#2a3f5f"
           }
          },
          "ternary": {
           "aaxis": {
            "gridcolor": "white",
            "linecolor": "white",
            "ticks": ""
           },
           "baxis": {
            "gridcolor": "white",
            "linecolor": "white",
            "ticks": ""
           },
           "bgcolor": "#E5ECF6",
           "caxis": {
            "gridcolor": "white",
            "linecolor": "white",
            "ticks": ""
           }
          },
          "title": {
           "x": 0.05
          },
          "xaxis": {
           "automargin": true,
           "gridcolor": "white",
           "linecolor": "white",
           "ticks": "",
           "title": {
            "standoff": 15
           },
           "zerolinecolor": "white",
           "zerolinewidth": 2
          },
          "yaxis": {
           "automargin": true,
           "gridcolor": "white",
           "linecolor": "white",
           "ticks": "",
           "title": {
            "standoff": 15
           },
           "zerolinecolor": "white",
           "zerolinewidth": 2
          }
         }
        },
        "title": {
         "text": "correlation between power and gas in 2021-2022 €/MWh"
        },
        "width": 1000,
        "xaxis": {
         "title": {
          "text": "Time"
         }
        },
        "yaxis": {
         "title": {
          "text": "Correlation coefficient"
         }
        }
       }
      }
     },
     "metadata": {},
     "output_type": "display_data"
    }
   ],
   "source": [
    "fig2.show()"
   ]
  },
  {
   "cell_type": "code",
   "execution_count": 27,
   "metadata": {},
   "outputs": [
    {
     "data": {
      "application/vnd.plotly.v1+json": {
       "config": {
        "plotlyServerURL": "https://plot.ly"
       },
       "data": [
        {
         "name": "Daily return power",
         "type": "scatter",
         "x": [
          "2021-01-01T00:00:00",
          "2021-01-04T00:00:00",
          "2021-01-05T00:00:00",
          "2021-01-06T00:00:00",
          "2021-01-07T00:00:00",
          "2021-01-08T00:00:00",
          "2021-01-11T00:00:00",
          "2021-01-12T00:00:00",
          "2021-01-13T00:00:00",
          "2021-01-14T00:00:00",
          "2021-01-15T00:00:00",
          "2021-01-18T00:00:00",
          "2021-01-19T00:00:00",
          "2021-01-20T00:00:00",
          "2021-01-21T00:00:00",
          "2021-01-22T00:00:00",
          "2021-01-25T00:00:00",
          "2021-01-26T00:00:00",
          "2021-01-27T00:00:00",
          "2021-01-28T00:00:00",
          "2021-01-29T00:00:00",
          "2021-02-01T00:00:00",
          "2021-02-02T00:00:00",
          "2021-02-03T00:00:00",
          "2021-02-04T00:00:00",
          "2021-02-05T00:00:00",
          "2021-02-08T00:00:00",
          "2021-02-09T00:00:00",
          "2021-02-10T00:00:00",
          "2021-02-11T00:00:00",
          "2021-02-12T00:00:00",
          "2021-02-15T00:00:00",
          "2021-02-16T00:00:00",
          "2021-02-17T00:00:00",
          "2021-02-18T00:00:00",
          "2021-02-19T00:00:00",
          "2021-02-22T00:00:00",
          "2021-02-23T00:00:00",
          "2021-02-24T00:00:00",
          "2021-02-25T00:00:00",
          "2021-02-26T00:00:00",
          "2021-03-01T00:00:00",
          "2021-03-02T00:00:00",
          "2021-03-03T00:00:00",
          "2021-03-04T00:00:00",
          "2021-03-05T00:00:00",
          "2021-03-08T00:00:00",
          "2021-03-09T00:00:00",
          "2021-03-10T00:00:00",
          "2021-03-11T00:00:00",
          "2021-03-12T00:00:00",
          "2021-03-15T00:00:00",
          "2021-03-16T00:00:00",
          "2021-03-17T00:00:00",
          "2021-03-18T00:00:00",
          "2021-03-19T00:00:00",
          "2021-03-22T00:00:00",
          "2021-03-23T00:00:00",
          "2021-03-24T00:00:00",
          "2021-03-25T00:00:00",
          "2021-03-26T00:00:00",
          "2021-03-29T00:00:00",
          "2021-03-30T00:00:00",
          "2021-03-31T00:00:00",
          "2021-04-01T00:00:00",
          "2021-04-02T00:00:00",
          "2021-04-05T00:00:00",
          "2021-04-06T00:00:00",
          "2021-04-07T00:00:00",
          "2021-04-08T00:00:00",
          "2021-04-09T00:00:00",
          "2021-04-12T00:00:00",
          "2021-04-13T00:00:00",
          "2021-04-14T00:00:00",
          "2021-04-15T00:00:00",
          "2021-04-16T00:00:00",
          "2021-04-19T00:00:00",
          "2021-04-20T00:00:00",
          "2021-04-21T00:00:00",
          "2021-04-22T00:00:00",
          "2021-04-23T00:00:00",
          "2021-04-26T00:00:00",
          "2021-04-27T00:00:00",
          "2021-04-28T00:00:00",
          "2021-04-29T00:00:00",
          "2021-04-30T00:00:00",
          "2021-05-03T00:00:00",
          "2021-05-04T00:00:00",
          "2021-05-05T00:00:00",
          "2021-05-06T00:00:00",
          "2021-05-07T00:00:00",
          "2021-05-10T00:00:00",
          "2021-05-11T00:00:00",
          "2021-05-12T00:00:00",
          "2021-05-13T00:00:00",
          "2021-05-14T00:00:00",
          "2021-05-17T00:00:00",
          "2021-05-18T00:00:00",
          "2021-05-19T00:00:00",
          "2021-05-20T00:00:00",
          "2021-05-21T00:00:00",
          "2021-05-24T00:00:00",
          "2021-05-25T00:00:00",
          "2021-05-26T00:00:00",
          "2021-05-27T00:00:00",
          "2021-05-28T00:00:00",
          "2021-05-31T00:00:00",
          "2021-06-01T00:00:00",
          "2021-06-02T00:00:00",
          "2021-06-03T00:00:00",
          "2021-06-04T00:00:00",
          "2021-06-07T00:00:00",
          "2021-06-08T00:00:00",
          "2021-06-09T00:00:00",
          "2021-06-10T00:00:00",
          "2021-06-11T00:00:00",
          "2021-06-14T00:00:00",
          "2021-06-15T00:00:00",
          "2021-06-16T00:00:00",
          "2021-06-17T00:00:00",
          "2021-06-18T00:00:00",
          "2021-06-21T00:00:00",
          "2021-06-22T00:00:00",
          "2021-06-23T00:00:00",
          "2021-06-24T00:00:00",
          "2021-06-25T00:00:00",
          "2021-06-28T00:00:00",
          "2021-06-29T00:00:00",
          "2021-06-30T00:00:00",
          "2021-07-01T00:00:00",
          "2021-07-02T00:00:00",
          "2021-07-05T00:00:00",
          "2021-07-06T00:00:00",
          "2021-07-07T00:00:00",
          "2021-07-08T00:00:00",
          "2021-07-09T00:00:00",
          "2021-07-12T00:00:00",
          "2021-07-13T00:00:00",
          "2021-07-14T00:00:00",
          "2021-07-15T00:00:00",
          "2021-07-16T00:00:00",
          "2021-07-19T00:00:00",
          "2021-07-20T00:00:00",
          "2021-07-21T00:00:00",
          "2021-07-22T00:00:00",
          "2021-07-23T00:00:00",
          "2021-07-26T00:00:00",
          "2021-07-27T00:00:00",
          "2021-07-28T00:00:00",
          "2021-07-29T00:00:00",
          "2021-07-30T00:00:00",
          "2021-08-02T00:00:00",
          "2021-08-03T00:00:00",
          "2021-08-04T00:00:00",
          "2021-08-05T00:00:00",
          "2021-08-06T00:00:00",
          "2021-08-09T00:00:00",
          "2021-08-10T00:00:00",
          "2021-08-11T00:00:00",
          "2021-08-12T00:00:00",
          "2021-08-13T00:00:00",
          "2021-08-16T00:00:00",
          "2021-08-17T00:00:00",
          "2021-08-18T00:00:00",
          "2021-08-19T00:00:00",
          "2021-08-20T00:00:00",
          "2021-08-23T00:00:00",
          "2021-08-24T00:00:00",
          "2021-08-25T00:00:00",
          "2021-08-26T00:00:00",
          "2021-08-27T00:00:00",
          "2021-08-30T00:00:00",
          "2021-08-31T00:00:00",
          "2021-09-01T00:00:00",
          "2021-09-02T00:00:00",
          "2021-09-03T00:00:00",
          "2021-09-06T00:00:00",
          "2021-09-07T00:00:00",
          "2021-09-08T00:00:00",
          "2021-09-09T00:00:00",
          "2021-09-10T00:00:00",
          "2021-09-13T00:00:00",
          "2021-09-14T00:00:00",
          "2021-09-15T00:00:00",
          "2021-09-16T00:00:00",
          "2021-09-17T00:00:00",
          "2021-09-20T00:00:00",
          "2021-09-21T00:00:00",
          "2021-09-22T00:00:00",
          "2021-09-23T00:00:00",
          "2021-09-24T00:00:00",
          "2021-09-27T00:00:00",
          "2021-09-28T00:00:00",
          "2021-09-29T00:00:00",
          "2021-09-30T00:00:00",
          "2021-10-01T00:00:00",
          "2021-10-04T00:00:00",
          "2021-10-05T00:00:00",
          "2021-10-06T00:00:00",
          "2021-10-07T00:00:00",
          "2021-10-08T00:00:00",
          "2021-10-11T00:00:00",
          "2021-10-12T00:00:00",
          "2021-10-13T00:00:00",
          "2021-10-14T00:00:00",
          "2021-10-15T00:00:00",
          "2021-10-18T00:00:00",
          "2021-10-19T00:00:00",
          "2021-10-20T00:00:00",
          "2021-10-21T00:00:00",
          "2021-10-22T00:00:00",
          "2021-10-25T00:00:00",
          "2021-10-26T00:00:00",
          "2021-10-27T00:00:00",
          "2021-10-28T00:00:00",
          "2021-10-29T00:00:00",
          "2021-11-01T00:00:00",
          "2021-11-02T00:00:00",
          "2021-11-03T00:00:00",
          "2021-11-04T00:00:00",
          "2021-11-05T00:00:00",
          "2021-11-08T00:00:00",
          "2021-11-09T00:00:00",
          "2021-11-10T00:00:00",
          "2021-11-11T00:00:00",
          "2021-11-12T00:00:00",
          "2021-11-15T00:00:00",
          "2021-11-16T00:00:00",
          "2021-11-17T00:00:00",
          "2021-11-18T00:00:00",
          "2021-11-19T00:00:00",
          "2021-11-23T00:00:00",
          "2021-11-24T00:00:00",
          "2021-11-25T00:00:00",
          "2021-11-26T00:00:00",
          "2021-11-29T00:00:00",
          "2021-11-30T00:00:00",
          "2021-12-01T00:00:00",
          "2021-12-02T00:00:00",
          "2021-12-03T00:00:00",
          "2021-12-06T00:00:00",
          "2021-12-07T00:00:00",
          "2021-12-08T00:00:00",
          "2021-12-09T00:00:00",
          "2021-12-10T00:00:00",
          "2021-12-13T00:00:00",
          "2021-12-14T00:00:00",
          "2021-12-15T00:00:00",
          "2021-12-16T00:00:00",
          "2021-12-17T00:00:00",
          "2021-12-20T00:00:00",
          "2021-12-21T00:00:00",
          "2021-12-22T00:00:00",
          "2021-12-23T00:00:00",
          "2021-12-24T00:00:00",
          "2021-12-27T00:00:00",
          "2021-12-28T00:00:00",
          "2021-12-29T00:00:00",
          "2021-12-30T00:00:00",
          "2021-12-31T00:00:00",
          "2022-01-03T00:00:00",
          "2022-01-04T00:00:00",
          "2022-01-05T00:00:00",
          "2022-01-06T00:00:00",
          "2022-01-07T00:00:00",
          "2022-01-10T00:00:00",
          "2022-01-11T00:00:00",
          "2022-01-12T00:00:00",
          "2022-01-13T00:00:00",
          "2022-01-14T00:00:00",
          "2022-01-17T00:00:00",
          "2022-01-18T00:00:00",
          "2022-01-19T00:00:00",
          "2022-01-20T00:00:00",
          "2022-01-21T00:00:00",
          "2022-01-24T00:00:00",
          "2022-01-25T00:00:00",
          "2022-01-26T00:00:00",
          "2022-01-27T00:00:00",
          "2022-01-28T00:00:00",
          "2022-01-31T00:00:00",
          "2022-02-01T00:00:00",
          "2022-02-02T00:00:00",
          "2022-02-03T00:00:00",
          "2022-02-04T00:00:00",
          "2022-02-07T00:00:00",
          "2022-02-08T00:00:00",
          "2022-02-09T00:00:00",
          "2022-02-10T00:00:00",
          "2022-02-11T00:00:00",
          "2022-02-14T00:00:00",
          "2022-02-15T00:00:00",
          "2022-02-16T00:00:00",
          "2022-02-17T00:00:00",
          "2022-02-18T00:00:00",
          "2022-02-21T00:00:00",
          "2022-02-22T00:00:00",
          "2022-02-23T00:00:00",
          "2022-02-24T00:00:00",
          "2022-02-25T00:00:00",
          "2022-02-28T00:00:00",
          "2022-03-01T00:00:00",
          "2022-03-02T00:00:00",
          "2022-03-03T00:00:00",
          "2022-03-04T00:00:00",
          "2022-03-07T00:00:00",
          "2022-03-08T00:00:00",
          "2022-03-09T00:00:00",
          "2022-03-10T00:00:00",
          "2022-03-11T00:00:00",
          "2022-03-14T00:00:00",
          "2022-03-15T00:00:00",
          "2022-03-16T00:00:00",
          "2022-03-17T00:00:00",
          "2022-03-18T00:00:00",
          "2022-03-21T00:00:00",
          "2022-03-22T00:00:00",
          "2022-03-23T00:00:00",
          "2022-03-24T00:00:00",
          "2022-03-25T00:00:00",
          "2022-03-28T00:00:00",
          "2022-03-29T00:00:00",
          "2022-03-30T00:00:00",
          "2022-03-31T00:00:00",
          "2022-04-01T00:00:00",
          "2022-04-04T00:00:00",
          "2022-04-05T00:00:00",
          "2022-04-06T00:00:00",
          "2022-04-07T00:00:00",
          "2022-04-08T00:00:00",
          "2022-04-11T00:00:00",
          "2022-04-12T00:00:00",
          "2022-04-13T00:00:00",
          "2022-04-14T00:00:00",
          "2022-04-15T00:00:00",
          "2022-04-18T00:00:00",
          "2022-04-19T00:00:00",
          "2022-04-20T00:00:00",
          "2022-04-21T00:00:00",
          "2022-04-22T00:00:00",
          "2022-04-25T00:00:00",
          "2022-04-26T00:00:00",
          "2022-04-27T00:00:00",
          "2022-04-28T00:00:00",
          "2022-04-29T00:00:00",
          "2022-05-02T00:00:00",
          "2022-05-03T00:00:00",
          "2022-05-04T00:00:00",
          "2022-05-05T00:00:00",
          "2022-05-06T00:00:00",
          "2022-05-09T00:00:00",
          "2022-05-10T00:00:00",
          "2022-05-11T00:00:00",
          "2022-05-12T00:00:00",
          "2022-05-13T00:00:00",
          "2022-05-16T00:00:00",
          "2022-05-17T00:00:00",
          "2022-05-19T00:00:00",
          "2022-05-20T00:00:00",
          "2022-05-23T00:00:00",
          "2022-05-24T00:00:00",
          "2022-05-25T00:00:00",
          "2022-05-26T00:00:00",
          "2022-05-27T00:00:00",
          "2022-05-30T00:00:00",
          "2022-05-31T00:00:00",
          "2022-06-01T00:00:00",
          "2022-06-02T00:00:00",
          "2022-06-03T00:00:00",
          "2022-06-06T00:00:00",
          "2022-06-07T00:00:00",
          "2022-06-08T00:00:00",
          "2022-06-09T00:00:00",
          "2022-06-10T00:00:00",
          "2022-06-13T00:00:00",
          "2022-06-14T00:00:00",
          "2022-06-15T00:00:00",
          "2022-06-16T00:00:00",
          "2022-06-17T00:00:00",
          "2022-06-20T00:00:00",
          "2022-06-21T00:00:00",
          "2022-06-22T00:00:00",
          "2022-06-23T00:00:00",
          "2022-06-24T00:00:00",
          "2022-06-27T00:00:00",
          "2022-06-28T00:00:00",
          "2022-06-29T00:00:00",
          "2022-06-30T00:00:00",
          "2022-07-01T00:00:00",
          "2022-07-04T00:00:00",
          "2022-07-05T00:00:00",
          "2022-07-06T00:00:00",
          "2022-07-07T00:00:00",
          "2022-07-08T00:00:00",
          "2022-07-11T00:00:00",
          "2022-07-12T00:00:00",
          "2022-07-13T00:00:00",
          "2022-07-14T00:00:00",
          "2022-07-15T00:00:00",
          "2022-07-18T00:00:00",
          "2022-07-19T00:00:00",
          "2022-07-20T00:00:00",
          "2022-07-21T00:00:00",
          "2022-07-22T00:00:00",
          "2022-07-25T00:00:00",
          "2022-07-27T00:00:00",
          "2022-07-28T00:00:00",
          "2022-07-29T00:00:00",
          "2022-08-01T00:00:00",
          "2022-08-02T00:00:00",
          "2022-08-03T00:00:00",
          "2022-08-04T00:00:00",
          "2022-08-05T00:00:00",
          "2022-08-08T00:00:00",
          "2022-08-09T00:00:00",
          "2022-08-10T00:00:00",
          "2022-08-11T00:00:00",
          "2022-08-12T00:00:00",
          "2022-08-15T00:00:00",
          "2022-08-16T00:00:00",
          "2022-08-17T00:00:00",
          "2022-08-18T00:00:00",
          "2022-08-19T00:00:00",
          "2022-08-22T00:00:00",
          "2022-08-23T00:00:00",
          "2022-08-24T00:00:00",
          "2022-08-25T00:00:00",
          "2022-08-26T00:00:00",
          "2022-08-29T00:00:00",
          "2022-08-30T00:00:00",
          "2022-08-31T00:00:00",
          "2022-09-01T00:00:00",
          "2022-09-02T00:00:00",
          "2022-09-05T00:00:00",
          "2022-09-06T00:00:00",
          "2022-09-07T00:00:00",
          "2022-09-08T00:00:00",
          "2022-09-09T00:00:00",
          "2022-09-13T00:00:00",
          "2022-09-14T00:00:00",
          "2022-09-15T00:00:00",
          "2022-09-16T00:00:00",
          "2022-09-19T00:00:00",
          "2022-09-20T00:00:00",
          "2022-09-21T00:00:00",
          "2022-09-22T00:00:00",
          "2022-09-23T00:00:00",
          "2022-09-26T00:00:00",
          "2022-09-27T00:00:00",
          "2022-09-28T00:00:00",
          "2022-09-29T00:00:00",
          "2022-09-30T00:00:00",
          "2022-10-03T00:00:00",
          "2022-10-04T00:00:00",
          "2022-10-05T00:00:00",
          "2022-10-06T00:00:00",
          "2022-10-07T00:00:00",
          "2022-10-10T00:00:00",
          "2022-10-11T00:00:00",
          "2022-10-12T00:00:00",
          "2022-10-13T00:00:00",
          "2022-10-14T00:00:00",
          "2022-10-17T00:00:00",
          "2022-10-18T00:00:00",
          "2022-10-19T00:00:00",
          "2022-10-20T00:00:00",
          "2022-10-21T00:00:00",
          "2022-10-24T00:00:00",
          "2022-10-25T00:00:00",
          "2022-10-26T00:00:00",
          "2022-10-27T00:00:00",
          "2022-10-28T00:00:00",
          "2022-10-31T00:00:00",
          "2022-11-01T00:00:00",
          "2022-11-02T00:00:00",
          "2022-11-03T00:00:00",
          "2022-11-04T00:00:00",
          "2022-11-07T00:00:00",
          "2022-11-08T00:00:00",
          "2022-11-09T00:00:00",
          "2022-11-10T00:00:00",
          "2022-11-11T00:00:00",
          "2022-11-14T00:00:00",
          "2022-11-15T00:00:00",
          "2022-11-16T00:00:00",
          "2022-11-17T00:00:00",
          "2022-11-18T00:00:00",
          "2022-11-21T00:00:00",
          "2022-11-22T00:00:00",
          "2022-11-23T00:00:00",
          "2022-11-24T00:00:00",
          "2022-11-25T00:00:00",
          "2022-11-28T00:00:00",
          "2022-11-29T00:00:00",
          "2022-11-30T00:00:00",
          "2022-12-01T00:00:00",
          "2022-12-02T00:00:00",
          "2022-12-05T00:00:00",
          "2022-12-06T00:00:00",
          "2022-12-07T00:00:00",
          "2022-12-08T00:00:00",
          "2022-12-09T00:00:00",
          "2022-12-12T00:00:00",
          "2022-12-13T00:00:00",
          "2022-12-14T00:00:00",
          "2022-12-15T00:00:00",
          "2022-12-16T00:00:00",
          "2022-12-19T00:00:00",
          "2022-12-20T00:00:00",
          "2022-12-21T00:00:00",
          "2022-12-22T00:00:00",
          "2022-12-23T00:00:00"
         ],
         "y": [
          5.529864019622565,
          12.496533858188437,
          -0.577682131676608,
          25.152898079345633,
          8.225606107186714,
          -28.881436168390767,
          -2.2747543396705665,
          4.7612076462000985,
          15.709330088145586,
          1.8438173970752771,
          -25.77321521409295,
          19.845449364108866,
          -18.837394139376936,
          4.490304510047357,
          -14.474574062267893,
          0.6009516971058351,
          18.106448560390334,
          -6.2036681034782495,
          -3.9193259858197904,
          -7.559152966640746,
          -7.035473538726102,
          12.630422443449271,
          -21.702038896939516,
          16.472088956654606,
          -1.4096979609037952,
          -29.902582796827105,
          52.62838127543434,
          11.312391867107387,
          9.232448246739935,
          -23.94888765826318,
          -15.300246677436736,
          7.293304077873988,
          -8.950904660404532,
          -1.9563339688426735,
          -2.1733601409267354,
          -26.78225224488594,
          18.081114545922972,
          4.434848345894235,
          -4.759278175175885,
          4.3452846217686805,
          -7.291200004474999,
          21.444901350587255,
          -3.4994868883819583,
          0.9095190307753449,
          -1.2644274074197013,
          -17.702125697551605,
          30.99911147233273,
          -7.781986329145621,
          -4.1213134106722515,
          -12.52615669400107,
          -14.540426838438982,
          30.459199148301998,
          3.6775287488621604,
          11.961537698444486,
          -4.860711456247754,
          -19.515175116805477,
          20.914689053363496,
          -6.138493921150234,
          6.453852113757137,
          -6.942027479346118,
          -27.482770666683287,
          24.624210603999476,
          1.3453117697118455,
          -6.092447831592929,
          0,
          -34.12908193548787,
          23.657750054837837,
          16.1173503993744,
          5.474628310457601,
          -1.3449440062396802,
          -2.575823961440001,
          18.40990340912583,
          7.544604763770884,
          -2.073365787821934,
          -7.75216466047008,
          -9.238727469031877,
          25.93304331193169,
          -3.0729713237750675,
          -31.012061062508394,
          11.511036024618054,
          -20.57471943885187,
          27.072528857396204,
          -2.9080269579722775,
          1.551780516443334,
          1.4994513922517063,
          -20.918165692964344,
          -56.37697556391497,
          32.77101995558115,
          38.188497305277,
          8.739246003223544,
          -36.340331246741684,
          37.1612054213719,
          -4.854771053750118,
          -9.14775337841486,
          13.418865187719838,
          -17.701163758865984,
          21.03183550103742,
          4.3267102025161295,
          -10.36979572286622,
          -65.64522644026766,
          -80.52176847657235,
          130.64446552032692,
          10.304976966554918,
          8.222221652397009,
          2.2534616652498123,
          -26.458139439765965,
          18.911380272789838,
          -2.537416347473838,
          -5.260717821079642,
          12.868838367464416,
          -13.536355149924903,
          20.29440983628292,
          -0.35209008140659753,
          2.820716341189865,
          -0.9442458825999653,
          -66.4833863595857,
          72.29818161708495,
          2.9087758224285403,
          -6.091840248190451,
          0.3117015178755922,
          -12.304082717600258,
          17.32941187296866,
          8.92975427468894,
          2.491441350911405,
          -5.592294518258913,
          -11.880265289942743,
          14.198505767190268,
          0.6851204005169698,
          -3.204590682951911,
          8.245010987484948,
          -13.423827295555954,
          2.525298561229885,
          14.660347419187545,
          8.281773423136253,
          -18.140839811484934,
          -11.600477104715793,
          15.583613266489325,
          -6.973743115944719,
          0.3717267023339377,
          -4.436999475051393,
          -25.71241392341298,
          33.29265578687808,
          0.6191297678561399,
          -4.416632809333245,
          0.6205243581131138,
          -15.807619410437074,
          13.716396481184734,
          -2.300287297905812,
          -20.108864100470733,
          1.5117230273777842,
          -39.30163768204036,
          70.03553601115142,
          1.7336106443828019,
          -3.996984278568879,
          -33.16499812144389,
          -13.037871817674471,
          42.37189851217169,
          10.731678213492225,
          5.650675014161448,
          -11.576591288965151,
          -29.615310997711692,
          -18.7695391536988,
          29.50106097251604,
          15.473270967271773,
          10.767074051550178,
          -10.985510136657071,
          2.696744156080302,
          -8.654707053903653,
          7.2290974014260625,
          3.479718847392372,
          -10.662407151802613,
          24.150998375574154,
          1.3753383637612397,
          5.421855871523191,
          -5.899269740517434,
          -3.791051089515687,
          18.368047549139657,
          -2.2653796424217942,
          5.769936424089486,
          4.097269906428234,
          -6.708304562965897,
          12.66135684465902,
          13.667848331491573,
          -1.0157224207516502,
          -5.676991207444276,
          -13.334072879605097,
          8.456327667955216,
          -1.4317166083324666,
          -10.768759554624703,
          -4.038855156304183,
          6.356654633239272,
          15.866592906387753,
          -6.264608779183491,
          6.233173112016923,
          -12.210759664802467,
          -24.750540156096708,
          37.91878390292501,
          14.249860287153894,
          48.826683880539356,
          -39.185251343613245,
          -20.951619330108116,
          11.762846939923373,
          2.5113475049949407,
          -0.1521710906259595,
          -4.297295221871302,
          -0.1536098612339895,
          -2.953025318162997,
          -15.565033349031484,
          5.125695411707592,
          18.319996066521785,
          -17.457490719635942,
          23.052182826821273,
          5.391895231011089,
          -8.06125772044523,
          -20.95699653880529,
          -34.88284134490554,
          59.36052062431312,
          -5.70661820614241,
          -8.733212868340152,
          0.8119124438504411,
          -16.34971573971109,
          24.447245930434498,
          -9.034067360384794,
          10.733679529048889,
          0.35576374177285575,
          -14.461617888605668,
          33.26626123043935,
          -10.03799685918153,
          -1.938072439635528,
          3.226387074589315,
          -14.574419757263495,
          40.57835287445118,
          -5.25060694714381,
          -12.581205046270721,
          -11.706981973570045,
          2.209359397141287,
          12.586574822675065,
          5.339815312770741,
          -10.125819330233748,
          -12.429771667757707,
          16.98183824911151,
          -9.44312466246953,
          24.11523798501654,
          -14.311176135657805,
          -1.4225577488226098,
          25.685460865652132,
          0.18933625668013085,
          10.859659351658376,
          -2.44266063843879,
          -19.72870953233599,
          44.42300610662805,
          -1.6832873680229905,
          -19.48419532252327,
          -42.403002438872974,
          0,
          -56.475920438290295,
          17.39250298882814,
          -28.076517539844147,
          -30.107519353289568,
          0,
          57.50694257651714,
          -15.544559745721532,
          42.13126665048855,
          -10.82192530281999,
          -1.896954895742228,
          36.108673646266105,
          -8.350961986282462,
          -17.524585499944703,
          1.4888362017877916,
          8.338962413586414,
          9.061503975335496,
          -15.264342544340362,
          -12.53756567477684,
          -1.6025445213693257,
          7.464039768722939,
          44.221086728666094,
          -18.485128240309358,
          -24.558186783460094,
          6.055757378868829,
          -24.076759085883864,
          25.22583478215692,
          -7.1064460957116795,
          2.4135752559351524,
          -2.1602862419693665,
          -23.111275348844206,
          2.7333922960249786,
          16.734617344075804,
          4.8236745905001595,
          -1.6305687499003443,
          -18.388893082966156,
          19.896937823256405,
          -6.691158390990287,
          -26.448568946046176,
          -4.504381070255136,
          -29.417875363010786,
          31.82993435600488,
          7.203505569183756,
          -4.84116272102418,
          16.620217491407153,
          32.03749612964285,
          9.442147424062014,
          10.072966213358871,
          19.902499155246144,
          7.7641637364673235,
          -4.7797324771439085,
          46.098866582429025,
          -15.850798519621417,
          -26.123628032942257,
          -19.952386971631313,
          -26.00860776129152,
          26.94726924831884,
          -10.940319050578477,
          -9.171302044539825,
          -4.7154880544811295,
          -21.597127019532973,
          22.66159597067439,
          0.15953653830879191,
          0.9020356827908003,
          4.721706736111746,
          -14.670992434043212,
          14.730458431157228,
          8.857892284780862,
          -19.18191626914097,
          -17.7963181520659,
          2.913003135183227,
          10.27922025153104,
          -25.51936058080931,
          -18.329601883733915,
          8.417170905474224,
          -26.88644584119927,
          55.689075648247574,
          10.859045774496627,
          0.45766670274116733,
          -16.033119643664453,
          -25.852667301340077,
          39.21611424818015,
          -6.607890846439539,
          -2.933048261041106,
          0.9970959749635756,
          -35.737684612238915,
          52.742628909147605,
          -8.258384695214717,
          3.5151838549984986,
          -0.9165967014080058,
          -12.218299331718466,
          7.8215435807683935,
          6.187173819017809,
          1.283824548537998,
          -4.265205482715253,
          -11.225719707778453,
          -0.13413151865687706,
          -5.870945056513242,
          -6.743515086177883,
          9.41200454659568,
          -15.474114258749804,
          30.457082803734366,
          -8.720823015186786,
          0.6200303442367865,
          -55.984341326511434,
          37.14276175064516,
          3.986353465010258,
          -66.99050145854993,
          -24.244662928036547,
          -0.9597403106270003,
          107.83763040340702,
          3.622671264723136,
          -11.580205470957681,
          -4.226869751380076,
          -8.310380878762588,
          7.44205301097204,
          3.470833301402823,
          -1.1841932019248986,
          -1.7625836852224148,
          -29.0884377967878,
          36.81128131906029,
          6.782832028977561,
          -4.650891827218095,
          22.493881386561682,
          -18.36637969754929,
          38.808843520857074,
          8.906987829200592,
          -9.439183670960094,
          -10.356566066206465,
          -12.000934874747898,
          36.958572569079436,
          -7.918020145314811,
          3.823279409148899,
          -3.9458925800046893,
          -26.775310738808756,
          32.46355174287378,
          -1.8286843336478742,
          -11.141533540127185,
          -2.23916668055135,
          -55.60346752787332,
          82.29231085291677,
          -4.848902747062588,
          3.422337788789731,
          -1.7719664589551851,
          -26.602454104102165,
          41.15806450125262,
          -5.810243904522274,
          7.401599980667601,
          -3.3342800332965004,
          -17.998459958145727,
          19.41463410625784,
          11.599579686547045,
          -4.184590741456986,
          -15.713118284176614,
          10.483801307942109,
          -5.744553850924299,
          0.051442736017309774,
          -3.438775123751999,
          -29.86213350327463,
          14.915750061261793,
          -3.890047673741712,
          10.693952249601777,
          15.410943304965702,
          -7.370134745319593,
          17.283512407150916,
          12.318598282105366,
          1.3259922109297444,
          -8.461281045941751,
          -9.415974874921892,
          26.91513535478726,
          3.1602524416105853,
          -1.1012072549187024,
          11.792444237060991,
          -8.768130761064732,
          11.38478426084421,
          -7.5361175566735215,
          -8.213540796389958,
          -21.932540911416133,
          -26.227391617476144,
          29.855192103622922,
          -7.948295214464358,
          -3.405410030446742,
          -24.014112768278082,
          10.890634531913333,
          11.912320920070254,
          -13.563190062694177,
          -8.448639408322501,
          -21.74957456245329,
          21.612674505478207,
          4.285182517788361,
          4.669300857422984,
          -9.763268835381233,
          -4.98638261851398,
          -9.59752675173129,
          20.917018250774966,
          8.937434999565854,
          -18.87580456659442,
          -61.342612042956965,
          38.307637928797355,
          -37.874942409102744,
          6.334651991638649,
          -7.921523555350395,
          0.5175691195179305,
          34.56672687698107,
          6.157026092961538,
          -8.419807384560771,
          0.568598097280453,
          -39.67684060820711,
          10.748881774671828,
          -15.091569837394466,
          -3.702892363843974,
          4.2960842800283885,
          -14.793041597311538,
          -16.240195887541837,
          3.456547040631419,
          0.8921357801673739,
          -9.870642554041456,
          -12.766677167648686,
          13.657759569086677,
          20.34166224032574,
          -3.0517485814923093,
          23.53782800273102,
          -25.20047200769886,
          12.484002468991106,
          17.090312495262506,
          9.804348880786646,
          1.0666250642842336,
          -14.27225320186567,
          28.045275538175414,
          4.253160046784661,
          2.5093274079985743,
          -4.646204337366857,
          -15.542684656077487,
          4.077585735445294,
          2.4519297878557382,
          14.749121584782527,
          4.57851838712274,
          -11.823307753643192,
          43.99066857404841,
          6.231164675271536,
          -0.6339085074448487,
          -3.4574539657931607,
          -25.12692891960933,
          27.849104227478815,
          -6.464615024776174,
          6.31844803505075,
          6.386787441970185,
          -16.46822940744071,
          23.87851074273438,
          -0.39197729685482,
          -10.831233721573529,
          2.6140923513490213,
          -41.32064194919159,
          -20.506733452758656,
          3.4528323909700407,
          -9.00736305747154,
          -12.855927386660365,
          -49.01863700847533
         ]
        },
        {
         "name": "Daily return gas",
         "type": "scatter",
         "x": [
          "2021-01-01T00:00:00",
          "2021-01-04T00:00:00",
          "2021-01-05T00:00:00",
          "2021-01-06T00:00:00",
          "2021-01-07T00:00:00",
          "2021-01-08T00:00:00",
          "2021-01-11T00:00:00",
          "2021-01-12T00:00:00",
          "2021-01-13T00:00:00",
          "2021-01-14T00:00:00",
          "2021-01-15T00:00:00",
          "2021-01-18T00:00:00",
          "2021-01-19T00:00:00",
          "2021-01-20T00:00:00",
          "2021-01-21T00:00:00",
          "2021-01-22T00:00:00",
          "2021-01-25T00:00:00",
          "2021-01-26T00:00:00",
          "2021-01-27T00:00:00",
          "2021-01-28T00:00:00",
          "2021-01-29T00:00:00",
          "2021-02-01T00:00:00",
          "2021-02-02T00:00:00",
          "2021-02-03T00:00:00",
          "2021-02-04T00:00:00",
          "2021-02-05T00:00:00",
          "2021-02-08T00:00:00",
          "2021-02-09T00:00:00",
          "2021-02-10T00:00:00",
          "2021-02-11T00:00:00",
          "2021-02-12T00:00:00",
          "2021-02-15T00:00:00",
          "2021-02-16T00:00:00",
          "2021-02-17T00:00:00",
          "2021-02-18T00:00:00",
          "2021-02-19T00:00:00",
          "2021-02-22T00:00:00",
          "2021-02-23T00:00:00",
          "2021-02-24T00:00:00",
          "2021-02-25T00:00:00",
          "2021-02-26T00:00:00",
          "2021-03-01T00:00:00",
          "2021-03-02T00:00:00",
          "2021-03-03T00:00:00",
          "2021-03-04T00:00:00",
          "2021-03-05T00:00:00",
          "2021-03-08T00:00:00",
          "2021-03-09T00:00:00",
          "2021-03-10T00:00:00",
          "2021-03-11T00:00:00",
          "2021-03-12T00:00:00",
          "2021-03-15T00:00:00",
          "2021-03-16T00:00:00",
          "2021-03-17T00:00:00",
          "2021-03-18T00:00:00",
          "2021-03-19T00:00:00",
          "2021-03-22T00:00:00",
          "2021-03-23T00:00:00",
          "2021-03-24T00:00:00",
          "2021-03-25T00:00:00",
          "2021-03-26T00:00:00",
          "2021-03-29T00:00:00",
          "2021-03-30T00:00:00",
          "2021-03-31T00:00:00",
          "2021-04-01T00:00:00",
          "2021-04-02T00:00:00",
          "2021-04-05T00:00:00",
          "2021-04-06T00:00:00",
          "2021-04-07T00:00:00",
          "2021-04-08T00:00:00",
          "2021-04-09T00:00:00",
          "2021-04-12T00:00:00",
          "2021-04-13T00:00:00",
          "2021-04-14T00:00:00",
          "2021-04-15T00:00:00",
          "2021-04-16T00:00:00",
          "2021-04-19T00:00:00",
          "2021-04-20T00:00:00",
          "2021-04-21T00:00:00",
          "2021-04-22T00:00:00",
          "2021-04-23T00:00:00",
          "2021-04-26T00:00:00",
          "2021-04-27T00:00:00",
          "2021-04-28T00:00:00",
          "2021-04-29T00:00:00",
          "2021-04-30T00:00:00",
          "2021-05-03T00:00:00",
          "2021-05-04T00:00:00",
          "2021-05-05T00:00:00",
          "2021-05-06T00:00:00",
          "2021-05-07T00:00:00",
          "2021-05-10T00:00:00",
          "2021-05-11T00:00:00",
          "2021-05-12T00:00:00",
          "2021-05-13T00:00:00",
          "2021-05-14T00:00:00",
          "2021-05-17T00:00:00",
          "2021-05-18T00:00:00",
          "2021-05-19T00:00:00",
          "2021-05-20T00:00:00",
          "2021-05-21T00:00:00",
          "2021-05-24T00:00:00",
          "2021-05-25T00:00:00",
          "2021-05-26T00:00:00",
          "2021-05-27T00:00:00",
          "2021-05-28T00:00:00",
          "2021-05-31T00:00:00",
          "2021-06-01T00:00:00",
          "2021-06-02T00:00:00",
          "2021-06-03T00:00:00",
          "2021-06-04T00:00:00",
          "2021-06-07T00:00:00",
          "2021-06-08T00:00:00",
          "2021-06-09T00:00:00",
          "2021-06-10T00:00:00",
          "2021-06-11T00:00:00",
          "2021-06-14T00:00:00",
          "2021-06-15T00:00:00",
          "2021-06-16T00:00:00",
          "2021-06-17T00:00:00",
          "2021-06-18T00:00:00",
          "2021-06-21T00:00:00",
          "2021-06-22T00:00:00",
          "2021-06-23T00:00:00",
          "2021-06-24T00:00:00",
          "2021-06-25T00:00:00",
          "2021-06-28T00:00:00",
          "2021-06-29T00:00:00",
          "2021-06-30T00:00:00",
          "2021-07-01T00:00:00",
          "2021-07-02T00:00:00",
          "2021-07-05T00:00:00",
          "2021-07-06T00:00:00",
          "2021-07-07T00:00:00",
          "2021-07-08T00:00:00",
          "2021-07-09T00:00:00",
          "2021-07-12T00:00:00",
          "2021-07-13T00:00:00",
          "2021-07-14T00:00:00",
          "2021-07-15T00:00:00",
          "2021-07-16T00:00:00",
          "2021-07-19T00:00:00",
          "2021-07-20T00:00:00",
          "2021-07-21T00:00:00",
          "2021-07-22T00:00:00",
          "2021-07-23T00:00:00",
          "2021-07-26T00:00:00",
          "2021-07-27T00:00:00",
          "2021-07-28T00:00:00",
          "2021-07-29T00:00:00",
          "2021-07-30T00:00:00",
          "2021-08-02T00:00:00",
          "2021-08-03T00:00:00",
          "2021-08-04T00:00:00",
          "2021-08-05T00:00:00",
          "2021-08-06T00:00:00",
          "2021-08-09T00:00:00",
          "2021-08-10T00:00:00",
          "2021-08-11T00:00:00",
          "2021-08-12T00:00:00",
          "2021-08-13T00:00:00",
          "2021-08-16T00:00:00",
          "2021-08-17T00:00:00",
          "2021-08-18T00:00:00",
          "2021-08-19T00:00:00",
          "2021-08-20T00:00:00",
          "2021-08-23T00:00:00",
          "2021-08-24T00:00:00",
          "2021-08-25T00:00:00",
          "2021-08-26T00:00:00",
          "2021-08-27T00:00:00",
          "2021-08-30T00:00:00",
          "2021-08-31T00:00:00",
          "2021-09-01T00:00:00",
          "2021-09-02T00:00:00",
          "2021-09-03T00:00:00",
          "2021-09-06T00:00:00",
          "2021-09-07T00:00:00",
          "2021-09-08T00:00:00",
          "2021-09-09T00:00:00",
          "2021-09-10T00:00:00",
          "2021-09-13T00:00:00",
          "2021-09-14T00:00:00",
          "2021-09-15T00:00:00",
          "2021-09-16T00:00:00",
          "2021-09-17T00:00:00",
          "2021-09-20T00:00:00",
          "2021-09-21T00:00:00",
          "2021-09-22T00:00:00",
          "2021-09-23T00:00:00",
          "2021-09-24T00:00:00",
          "2021-09-27T00:00:00",
          "2021-09-28T00:00:00",
          "2021-09-29T00:00:00",
          "2021-09-30T00:00:00",
          "2021-10-01T00:00:00",
          "2021-10-04T00:00:00",
          "2021-10-05T00:00:00",
          "2021-10-06T00:00:00",
          "2021-10-07T00:00:00",
          "2021-10-08T00:00:00",
          "2021-10-11T00:00:00",
          "2021-10-12T00:00:00",
          "2021-10-13T00:00:00",
          "2021-10-14T00:00:00",
          "2021-10-15T00:00:00",
          "2021-10-18T00:00:00",
          "2021-10-19T00:00:00",
          "2021-10-20T00:00:00",
          "2021-10-21T00:00:00",
          "2021-10-22T00:00:00",
          "2021-10-25T00:00:00",
          "2021-10-26T00:00:00",
          "2021-10-27T00:00:00",
          "2021-10-28T00:00:00",
          "2021-10-29T00:00:00",
          "2021-11-01T00:00:00",
          "2021-11-02T00:00:00",
          "2021-11-03T00:00:00",
          "2021-11-04T00:00:00",
          "2021-11-05T00:00:00",
          "2021-11-08T00:00:00",
          "2021-11-09T00:00:00",
          "2021-11-10T00:00:00",
          "2021-11-11T00:00:00",
          "2021-11-12T00:00:00",
          "2021-11-15T00:00:00",
          "2021-11-16T00:00:00",
          "2021-11-17T00:00:00",
          "2021-11-18T00:00:00",
          "2021-11-19T00:00:00",
          "2021-11-23T00:00:00",
          "2021-11-24T00:00:00",
          "2021-11-25T00:00:00",
          "2021-11-26T00:00:00",
          "2021-11-29T00:00:00",
          "2021-11-30T00:00:00",
          "2021-12-01T00:00:00",
          "2021-12-02T00:00:00",
          "2021-12-03T00:00:00",
          "2021-12-06T00:00:00",
          "2021-12-07T00:00:00",
          "2021-12-08T00:00:00",
          "2021-12-09T00:00:00",
          "2021-12-10T00:00:00",
          "2021-12-13T00:00:00",
          "2021-12-14T00:00:00",
          "2021-12-15T00:00:00",
          "2021-12-16T00:00:00",
          "2021-12-17T00:00:00",
          "2021-12-20T00:00:00",
          "2021-12-21T00:00:00",
          "2021-12-22T00:00:00",
          "2021-12-23T00:00:00",
          "2021-12-24T00:00:00",
          "2021-12-27T00:00:00",
          "2021-12-28T00:00:00",
          "2021-12-29T00:00:00",
          "2021-12-30T00:00:00",
          "2021-12-31T00:00:00",
          "2022-01-03T00:00:00",
          "2022-01-04T00:00:00",
          "2022-01-05T00:00:00",
          "2022-01-06T00:00:00",
          "2022-01-07T00:00:00",
          "2022-01-10T00:00:00",
          "2022-01-11T00:00:00",
          "2022-01-12T00:00:00",
          "2022-01-13T00:00:00",
          "2022-01-14T00:00:00",
          "2022-01-17T00:00:00",
          "2022-01-18T00:00:00",
          "2022-01-19T00:00:00",
          "2022-01-20T00:00:00",
          "2022-01-21T00:00:00",
          "2022-01-24T00:00:00",
          "2022-01-25T00:00:00",
          "2022-01-26T00:00:00",
          "2022-01-27T00:00:00",
          "2022-01-28T00:00:00",
          "2022-01-31T00:00:00",
          "2022-02-01T00:00:00",
          "2022-02-02T00:00:00",
          "2022-02-03T00:00:00",
          "2022-02-04T00:00:00",
          "2022-02-07T00:00:00",
          "2022-02-08T00:00:00",
          "2022-02-09T00:00:00",
          "2022-02-10T00:00:00",
          "2022-02-11T00:00:00",
          "2022-02-14T00:00:00",
          "2022-02-15T00:00:00",
          "2022-02-16T00:00:00",
          "2022-02-17T00:00:00",
          "2022-02-18T00:00:00",
          "2022-02-21T00:00:00",
          "2022-02-22T00:00:00",
          "2022-02-23T00:00:00",
          "2022-02-24T00:00:00",
          "2022-02-25T00:00:00",
          "2022-02-28T00:00:00",
          "2022-03-01T00:00:00",
          "2022-03-02T00:00:00",
          "2022-03-03T00:00:00",
          "2022-03-04T00:00:00",
          "2022-03-07T00:00:00",
          "2022-03-08T00:00:00",
          "2022-03-09T00:00:00",
          "2022-03-10T00:00:00",
          "2022-03-11T00:00:00",
          "2022-03-14T00:00:00",
          "2022-03-15T00:00:00",
          "2022-03-16T00:00:00",
          "2022-03-17T00:00:00",
          "2022-03-18T00:00:00",
          "2022-03-21T00:00:00",
          "2022-03-22T00:00:00",
          "2022-03-23T00:00:00",
          "2022-03-24T00:00:00",
          "2022-03-25T00:00:00",
          "2022-03-28T00:00:00",
          "2022-03-29T00:00:00",
          "2022-03-30T00:00:00",
          "2022-03-31T00:00:00",
          "2022-04-01T00:00:00",
          "2022-04-04T00:00:00",
          "2022-04-05T00:00:00",
          "2022-04-06T00:00:00",
          "2022-04-07T00:00:00",
          "2022-04-08T00:00:00",
          "2022-04-11T00:00:00",
          "2022-04-12T00:00:00",
          "2022-04-13T00:00:00",
          "2022-04-14T00:00:00",
          "2022-04-15T00:00:00",
          "2022-04-18T00:00:00",
          "2022-04-19T00:00:00",
          "2022-04-20T00:00:00",
          "2022-04-21T00:00:00",
          "2022-04-22T00:00:00",
          "2022-04-25T00:00:00",
          "2022-04-26T00:00:00",
          "2022-04-27T00:00:00",
          "2022-04-28T00:00:00",
          "2022-04-29T00:00:00",
          "2022-05-02T00:00:00",
          "2022-05-03T00:00:00",
          "2022-05-04T00:00:00",
          "2022-05-05T00:00:00",
          "2022-05-06T00:00:00",
          "2022-05-09T00:00:00",
          "2022-05-10T00:00:00",
          "2022-05-11T00:00:00",
          "2022-05-12T00:00:00",
          "2022-05-13T00:00:00",
          "2022-05-16T00:00:00",
          "2022-05-17T00:00:00",
          "2022-05-19T00:00:00",
          "2022-05-20T00:00:00",
          "2022-05-23T00:00:00",
          "2022-05-24T00:00:00",
          "2022-05-25T00:00:00",
          "2022-05-26T00:00:00",
          "2022-05-27T00:00:00",
          "2022-05-30T00:00:00",
          "2022-05-31T00:00:00",
          "2022-06-01T00:00:00",
          "2022-06-02T00:00:00",
          "2022-06-03T00:00:00",
          "2022-06-06T00:00:00",
          "2022-06-07T00:00:00",
          "2022-06-08T00:00:00",
          "2022-06-09T00:00:00",
          "2022-06-10T00:00:00",
          "2022-06-13T00:00:00",
          "2022-06-14T00:00:00",
          "2022-06-15T00:00:00",
          "2022-06-16T00:00:00",
          "2022-06-17T00:00:00",
          "2022-06-20T00:00:00",
          "2022-06-21T00:00:00",
          "2022-06-22T00:00:00",
          "2022-06-23T00:00:00",
          "2022-06-24T00:00:00",
          "2022-06-27T00:00:00",
          "2022-06-28T00:00:00",
          "2022-06-29T00:00:00",
          "2022-06-30T00:00:00",
          "2022-07-01T00:00:00",
          "2022-07-04T00:00:00",
          "2022-07-05T00:00:00",
          "2022-07-06T00:00:00",
          "2022-07-07T00:00:00",
          "2022-07-08T00:00:00",
          "2022-07-11T00:00:00",
          "2022-07-12T00:00:00",
          "2022-07-13T00:00:00",
          "2022-07-14T00:00:00",
          "2022-07-15T00:00:00",
          "2022-07-18T00:00:00",
          "2022-07-19T00:00:00",
          "2022-07-20T00:00:00",
          "2022-07-21T00:00:00",
          "2022-07-22T00:00:00",
          "2022-07-25T00:00:00",
          "2022-07-27T00:00:00",
          "2022-07-28T00:00:00",
          "2022-07-29T00:00:00",
          "2022-08-01T00:00:00",
          "2022-08-02T00:00:00",
          "2022-08-03T00:00:00",
          "2022-08-04T00:00:00",
          "2022-08-05T00:00:00",
          "2022-08-08T00:00:00",
          "2022-08-09T00:00:00",
          "2022-08-10T00:00:00",
          "2022-08-11T00:00:00",
          "2022-08-12T00:00:00",
          "2022-08-15T00:00:00",
          "2022-08-16T00:00:00",
          "2022-08-17T00:00:00",
          "2022-08-18T00:00:00",
          "2022-08-19T00:00:00",
          "2022-08-22T00:00:00",
          "2022-08-23T00:00:00",
          "2022-08-24T00:00:00",
          "2022-08-25T00:00:00",
          "2022-08-26T00:00:00",
          "2022-08-29T00:00:00",
          "2022-08-30T00:00:00",
          "2022-08-31T00:00:00",
          "2022-09-01T00:00:00",
          "2022-09-02T00:00:00",
          "2022-09-05T00:00:00",
          "2022-09-06T00:00:00",
          "2022-09-07T00:00:00",
          "2022-09-08T00:00:00",
          "2022-09-09T00:00:00",
          "2022-09-13T00:00:00",
          "2022-09-14T00:00:00",
          "2022-09-15T00:00:00",
          "2022-09-16T00:00:00",
          "2022-09-19T00:00:00",
          "2022-09-20T00:00:00",
          "2022-09-21T00:00:00",
          "2022-09-22T00:00:00",
          "2022-09-23T00:00:00",
          "2022-09-26T00:00:00",
          "2022-09-27T00:00:00",
          "2022-09-28T00:00:00",
          "2022-09-29T00:00:00",
          "2022-09-30T00:00:00",
          "2022-10-03T00:00:00",
          "2022-10-04T00:00:00",
          "2022-10-05T00:00:00",
          "2022-10-06T00:00:00",
          "2022-10-07T00:00:00",
          "2022-10-10T00:00:00",
          "2022-10-11T00:00:00",
          "2022-10-12T00:00:00",
          "2022-10-13T00:00:00",
          "2022-10-14T00:00:00",
          "2022-10-17T00:00:00",
          "2022-10-18T00:00:00",
          "2022-10-19T00:00:00",
          "2022-10-20T00:00:00",
          "2022-10-21T00:00:00",
          "2022-10-24T00:00:00",
          "2022-10-25T00:00:00",
          "2022-10-26T00:00:00",
          "2022-10-27T00:00:00",
          "2022-10-28T00:00:00",
          "2022-10-31T00:00:00",
          "2022-11-01T00:00:00",
          "2022-11-02T00:00:00",
          "2022-11-03T00:00:00",
          "2022-11-04T00:00:00",
          "2022-11-07T00:00:00",
          "2022-11-08T00:00:00",
          "2022-11-09T00:00:00",
          "2022-11-10T00:00:00",
          "2022-11-11T00:00:00",
          "2022-11-14T00:00:00",
          "2022-11-15T00:00:00",
          "2022-11-16T00:00:00",
          "2022-11-17T00:00:00",
          "2022-11-18T00:00:00",
          "2022-11-21T00:00:00",
          "2022-11-22T00:00:00",
          "2022-11-23T00:00:00",
          "2022-11-24T00:00:00",
          "2022-11-25T00:00:00",
          "2022-11-28T00:00:00",
          "2022-11-29T00:00:00",
          "2022-11-30T00:00:00",
          "2022-12-01T00:00:00",
          "2022-12-02T00:00:00",
          "2022-12-05T00:00:00",
          "2022-12-06T00:00:00",
          "2022-12-07T00:00:00",
          "2022-12-08T00:00:00",
          "2022-12-09T00:00:00",
          "2022-12-12T00:00:00",
          "2022-12-13T00:00:00",
          "2022-12-14T00:00:00",
          "2022-12-15T00:00:00",
          "2022-12-16T00:00:00",
          "2022-12-19T00:00:00",
          "2022-12-20T00:00:00",
          "2022-12-21T00:00:00",
          "2022-12-22T00:00:00",
          "2022-12-23T00:00:00"
         ],
         "y": [
          0,
          5.406722127027579,
          -8.906406330737195,
          -2.8906959942384005,
          8.48469758247233,
          4.804969764170823,
          8.651742785634626,
          19.745406519889887,
          -20.792536506619413,
          -1.5218186248015622,
          -5.590182340497955,
          -5.556985115481088,
          5.064373281875493,
          -0.2472189145389148,
          -1.0950831186751515,
          6.865914880739819,
          -4.540803953899502,
          -4.654330150386432,
          0.9179054758996391,
          4.83066051658123,
          -1.3390340059584411,
          -11.686434013931098,
          0,
          -0.8298802814695065,
          1.379332213233577,
          0.927195079866026,
          12.63121281436044,
          -5.40672212702757,
          -2.4541108916117658,
          -7.076907088820726,
          -1.6807118316381289,
          -7.323916236840251,
          1.2084739215071827,
          -1.512888159630009,
          3.593200922606337,
          -3.4713240031933856,
          -3.218099479809645,
          -0.12586534071961775,
          2.1800925707510257,
          -2.1800925707510195,
          0,
          3.1000622605933685,
          -1.414102875625788,
          -1.560094044247955,
          3.582841525513979,
          1.3859818125976726,
          -0.7810192900153548,
          4.539535668571956,
          2.5605950905171277,
          2.222313678471004,
          1.7429635135283597,
          -0.6500564603093428,
          -2.4760549680651995,
          2.094894691732563,
          -1.262712357983341,
          -3.2568852763534806,
          5.712670354519879,
          0,
          1.6043124840575684,
          -2.5521868795119467,
          0.13596195160394303,
          0.2713705871596326,
          2.197890671877517,
          1.5259438421343525,
          0.17217545275458018,
          0,
          0,
          5.066754477126204,
          -1.3972283195016257,
          -2.0305266160745568,
          -1.2903404835907841,
          6.291382541056918,
          -0.48899852941919036,
          -0.49140148024289293,
          2.014063642564418,
          0.7071927099240316,
          2.7424886629975043,
          -0.23348131082870202,
          -0.1403509002320198,
          1.4870162479451408,
          -7.318588817875349,
          1.7220597751670557,
          4.995093040539434,
          1.0845843019648558,
          4.99152509907884,
          2.3733584332094515,
          2.941388520629319,
          -3.15483577349259,
          4.797583187687389,
          2.6132140276847906,
          -4.962384491800937,
          5.555858043782403,
          1.9531870917246068,
          2.2945557349870107,
          -0.18921481520379266,
          2.2472855852058577,
          -0.557104504945536,
          -6.064789955477089,
          -7.9877835366764325,
          6.231251348673675,
          -0.8087387387628644,
          0.16227184088189736,
          6.5121042966952505,
          1.5526389684255781,
          -5.4245899178890005,
          -1.9131711470946025,
          1.7946643190836824,
          3.304479477745717,
          -2.5170738346551444,
          0.3913899321136315,
          0.5376147585956305,
          3.2942716716180342,
          5.1293294387550485,
          1.1540296738866158,
          0.9661910911736891,
          -2.6573751452513905,
          4.733574290094306,
          -3.130690462504402,
          -0.3646215342917909,
          0.36462153429178656,
          3.472571137382971,
          2.4442851943025596,
          3.0342631164557794,
          3.3362903669121446,
          0.23410077019736666,
          0.14019785768607396,
          0.3263659746690229,
          4.029431459243963,
          4.231119807172305,
          4.1141943331175215,
          -2.2740857960283964,
          6.51519374473899,
          -10.609081584364738,
          -5.157017912835554,
          2.551778798695615,
          9.329036308467263,
          -4.61297717275013,
          1.7021687569430524,
          -2.4200469296436227,
          -2.6870775573159515,
          3.118422582687898,
          2.968415828770021,
          -1.4025475354504433,
          2.2347298691996618,
          0.1931834463085603,
          -2.0613543261875362,
          3.7834141013545706,
          2.197890671877517,
          5.417884087079347,
          3.0421537262387,
          -0.9791999904617651,
          3.623584845404481,
          -2.2796428092383683,
          1.44580831752297,
          1.4252022707201413,
          0.4705891037412714,
          -0.11743982559416691,
          4.368510694053048,
          3.1010236742560218,
          -0.32769008023147983,
          -3.4505370850190036,
          7.586988776280011,
          -1.7579611889168025,
          -2.817087696669622,
          -12.459187758571385,
          3.7380680433564897,
          0,
          7.237642936259229,
          0.6004688341284637,
          1.3216051391526462,
          3.6523930800871685,
          3.4217957310341247,
          1.8182319083190548,
          1.0455659104338708,
          2.339917810019197,
          -0.7576529686678639,
          1.8739078232505701,
          2.55091772318359,
          2.760064808211255,
          1.8876965025583428,
          2.636356553061588,
          6.3019588438028835,
          6.768909033746808,
          7.26391836399717,
          -11.143380797772473,
          2.268380406505476,
          13.97955676882975,
          -1.4905425008987327,
          -3.430177297985941,
          -3.4203650288812497,
          -1.102547001170771,
          10.31407589195134,
          2.5017762975287945,
          8.53302941935774,
          12.076366379452134,
          -4.879016416943205,
          -0.11117288526904293,
          22.492172471006068,
          -6.018057207556822,
          -12.761898625876903,
          -12.788209139491558,
          2.1449189575336667,
          0.8783439258202383,
          8.350923019714445,
          9.49246881246886,
          -10.376898882845916,
          -0.9698114362355696,
          -6.0486203932623255,
          5.993234072267385,
          -2.184348960307601,
          -2.7556278619704573,
          2.4152985487996648,
          -0.5698021114637779,
          -2.312241742085426,
          -12.969581717262557,
          -17.56858323785563,
          2.197890671877538,
          3.9578986280657937,
          12.076366379452114,
          -3.49968420370961,
          -0.48060511320991717,
          8.189392339275523,
          -9.994996948620196,
          -2.483277658247144,
          6.534638438333948,
          0.40295554860016425,
          6.763359241087265,
          15.711724561420922,
          2.5371339742017893,
          -1.8840251280132874,
          -7.866440142533548,
          4.180654996262273,
          3.646420721627244,
          -0.7851975282685355,
          -5.670428122542261,
          6.055785054141251,
          -0.6430890330290403,
          2.7573326904099553,
          -0.8930976094819777,
          -7.050173635262139,
          1.6844867698239558,
          6.415565275260139,
          6.225131216792391,
          -1.1349739401886862,
          5.173984479314508,
          9.093079879787352,
          10.21712701842701,
          3.421748208039546,
          6.412546091878448,
          -4.302512385376802,
          9.282081852521868,
          20.604680754965305,
          -4.974481817988266,
          -27.95016786931489,
          -23.323599154446732,
          0,
          0,
          -13.284809912339005,
          -11.512264321445281,
          -15.272108701766385,
          8.512865339635505,
          14.371291903249226,
          3.3522692038643642,
          5.0881121543905365,
          -9.01018346971866,
          -3.252319170555995,
          -7.601697686964595,
          -4.561051125205229,
          13.1028262406404,
          1.289890640023888,
          -12.80538196503528,
          2.718614030415678,
          -3.3769442553354234,
          -0.9290046907092642,
          4.688358589885025,
          17.412435328493785,
          0.4266673139375699,
          -1.9887782598213277,
          0.21691982475453134,
          -0.37991904584763453,
          -9.042815220701652,
          -10.008345855698252,
          1.30720815673527,
          3.06929463994062,
          3.4656933809044186,
          -4.034056136048311,
          -0.8714236361464891,
          -4.829517393937394,
          0.03351768089027651,
          3.4258949821015343,
          4.185772739378713,
          -13.264447460629473,
          -1.8611847194599,
          6.976328754971098,
          -0.13486178712936403,
          -2.251886353534975,
          9.411742408364576,
          10.993546175032295,
          41.83252238377692,
          -36.304439222421216,
          6.792734128491324,
          22.21480310727081,
          27.27302109459014,
          -1.128576871097769,
          15.852322723986745,
          16.958812459286186,
          -6.174378518600825,
          -33.26253562908049,
          -21.50641830906011,
          3.5688136526403196,
          -13.858616328614668,
          1.7415041601678072,
          -13.435383913278107,
          3.238140950303978,
          -5.284248137437993,
          -0.25873235649509124,
          0.25873235649509546,
          15.658404016965516,
          -4.196419909903219,
          -8.208011203410518,
          2.275073397650198,
          6.39270873062326,
          8.440860433448139,
          5.255725073867599,
          -10.981486600720656,
          -1.3483350337286988,
          -1.5044733277251119,
          -2.1825802531076555,
          -1.466093888283775,
          -0.42969748617762754,
          -3.8034813739226974,
          1.6757415291941906,
          2.605067719994255,
          -9.378753010016782,
          0,
          0,
          -3.1074071020559644,
          0.6185309487129059,
          4.50810085451952,
          -4.02668778247436,
          -1.830961219533618,
          11.536465479210177,
          3.5675602620763978,
          -7.036230004812952,
          -1.2409986235733443,
          -3.093030069135861,
          3.093030069135856,
          3.785312477953758,
          2.700260492532462,
          -12.123809359988408,
          -7.700400661337389,
          3.7568447611162146,
          -7.84146110236374,
          14.852417721066406,
          -5.899834076195576,
          1.643872634315994,
          0.9196710749674409,
          -4.234891806657486,
          -8.19171224678867,
          -5.001042057466142,
          0.4477142112438082,
          4.55332784622233,
          0.8500354765392525,
          1.7381318607169312,
          4.35988840543164,
          3.0364777542837946,
          -14.34659574456065,
          -0.638979809877101,
          1.273902577742971,
          -0.380469704366386,
          -1.924369839262708,
          0.32331098321471624,
          7.041213499852477,
          -4.052119740563944,
          2.719574280849008,
          15.814964195031258,
          14.421076016403738,
          9.903138060617875,
          -8.072321127244116,
          2.6202372394024116,
          5.452083887841711,
          2.5787085611420153,
          3.7475111166546267,
          -3.5091319811270063,
          2.3530497410194036,
          -0.4662013105811301,
          8.291421000555955,
          3.866914115915412,
          1.709443335930004,
          10.313770806740203,
          2.102792856947863,
          2.950066439669784,
          6.716950473733026,
          -7.008071494478867,
          -3.712378787419895,
          4.119711326183473,
          4.430025889658002,
          -3.390155167568134,
          -10.919929196499197,
          0.5115100666770409,
          -2.7806511868841257,
          0.9788006366162944,
          0.8084118399959058,
          1.7558312213378735,
          11.918851726511836,
          14.609261849749588,
          -3.6835211212320584,
          -3.7982497434838676,
          4.313164538944074,
          2.2909800198702683,
          -3.843747442124922,
          0.9118604216434338,
          -1.4220656100329858,
          -2.197890671877523,
          -0.36668453867759615,
          6.6242657356498285,
          1.6561508589001523,
          -3.565220861898507,
          7.473355866145619,
          5.3149874173562495,
          -0.88496152769825,
          6.973333801467514,
          0.2070394114308495,
          14.144210916977984,
          -3.4634863901344377,
          8.101449727183665,
          8.317589700360491,
          1.5649771667127597,
          -19.105523676270924,
          -4.22327636232729,
          -8.167803101426724,
          -3.4635496662756338,
          -21.273534998677775,
          19.495710396549377,
          1.1148387482614202,
          -7.9580877895781015,
          1.784699362506035,
          -9.001760643855613,
          2.4220431893788636,
          9.140975040149378,
          -7.988946271116457,
          -22.401544524750364,
          2.765153133050995,
          7.020425867324856,
          -2.112553585226867,
          -0.7529719908107371,
          -0.2911210207458442,
          -2.0619287202735705,
          12.56882151634967,
          5.861550283444914,
          -10.949446118955453,
          -11.73688712271873,
          -21.38699145288806,
          -37.32958251747727,
          7.010956618702653,
          30.318625898774627,
          -24.747565197374037,
          0,
          -0.49382816405825664,
          5.30244683082204,
          -10.119601198158614,
          -39.25617032722565,
          -9.684982598991766,
          1.8472397635442481,
          11.90763383770675,
          -7.8320901812176515,
          -34.12760889338583,
          -43.685142192883504,
          30.49238788862869,
          14.310084364067324,
          -43.93666597838457,
          11.394425934921768,
          6.693948267510931,
          -44.89885900885802,
          72.9450414566874,
          41.81380887767608,
          -25.317649284528688,
          11.151664296949011,
          50.005055059803226,
          -15.082288973458366,
          -3.249916739295447,
          -37.87968610260031,
          61.090908232297316,
          8.355302281828122,
          -10.278438474616886,
          1.4458083175229917,
          7.376615023960909,
          0.88496152769826,
          1.31292914417928,
          8.3381608939051,
          -3.998900821636328,
          1.5286395575991611,
          0.897965217513546,
          8.52490231138465,
          6.43052849849103,
          -2.372212495349055,
          -6.2462569212677135,
          2.931438766877531,
          2.919915469226235,
          7.449330386486694,
          -6.625395938476146,
          -0.7520178681400106,
          -0.6129458526953023,
          0.03615982682684424,
          -4.662331608434175,
          1.8762276455523035,
          -17.384015367423,
          -5.39610679139608,
          -1.7424504891212222,
          -9.72122250758062,
          -5.377639678080418,
          -9.255155736524513
         ]
        }
       ],
       "layout": {
        "autosize": false,
        "height": 400,
        "template": {
         "data": {
          "bar": [
           {
            "error_x": {
             "color": "#2a3f5f"
            },
            "error_y": {
             "color": "#2a3f5f"
            },
            "marker": {
             "line": {
              "color": "#E5ECF6",
              "width": 0.5
             },
             "pattern": {
              "fillmode": "overlay",
              "size": 10,
              "solidity": 0.2
             }
            },
            "type": "bar"
           }
          ],
          "barpolar": [
           {
            "marker": {
             "line": {
              "color": "#E5ECF6",
              "width": 0.5
             },
             "pattern": {
              "fillmode": "overlay",
              "size": 10,
              "solidity": 0.2
             }
            },
            "type": "barpolar"
           }
          ],
          "carpet": [
           {
            "aaxis": {
             "endlinecolor": "#2a3f5f",
             "gridcolor": "white",
             "linecolor": "white",
             "minorgridcolor": "white",
             "startlinecolor": "#2a3f5f"
            },
            "baxis": {
             "endlinecolor": "#2a3f5f",
             "gridcolor": "white",
             "linecolor": "white",
             "minorgridcolor": "white",
             "startlinecolor": "#2a3f5f"
            },
            "type": "carpet"
           }
          ],
          "choropleth": [
           {
            "colorbar": {
             "outlinewidth": 0,
             "ticks": ""
            },
            "type": "choropleth"
           }
          ],
          "contour": [
           {
            "colorbar": {
             "outlinewidth": 0,
             "ticks": ""
            },
            "colorscale": [
             [
              0,
              "#0d0887"
             ],
             [
              0.1111111111111111,
              "#46039f"
             ],
             [
              0.2222222222222222,
              "#7201a8"
             ],
             [
              0.3333333333333333,
              "#9c179e"
             ],
             [
              0.4444444444444444,
              "#bd3786"
             ],
             [
              0.5555555555555556,
              "#d8576b"
             ],
             [
              0.6666666666666666,
              "#ed7953"
             ],
             [
              0.7777777777777778,
              "#fb9f3a"
             ],
             [
              0.8888888888888888,
              "#fdca26"
             ],
             [
              1,
              "#f0f921"
             ]
            ],
            "type": "contour"
           }
          ],
          "contourcarpet": [
           {
            "colorbar": {
             "outlinewidth": 0,
             "ticks": ""
            },
            "type": "contourcarpet"
           }
          ],
          "heatmap": [
           {
            "colorbar": {
             "outlinewidth": 0,
             "ticks": ""
            },
            "colorscale": [
             [
              0,
              "#0d0887"
             ],
             [
              0.1111111111111111,
              "#46039f"
             ],
             [
              0.2222222222222222,
              "#7201a8"
             ],
             [
              0.3333333333333333,
              "#9c179e"
             ],
             [
              0.4444444444444444,
              "#bd3786"
             ],
             [
              0.5555555555555556,
              "#d8576b"
             ],
             [
              0.6666666666666666,
              "#ed7953"
             ],
             [
              0.7777777777777778,
              "#fb9f3a"
             ],
             [
              0.8888888888888888,
              "#fdca26"
             ],
             [
              1,
              "#f0f921"
             ]
            ],
            "type": "heatmap"
           }
          ],
          "heatmapgl": [
           {
            "colorbar": {
             "outlinewidth": 0,
             "ticks": ""
            },
            "colorscale": [
             [
              0,
              "#0d0887"
             ],
             [
              0.1111111111111111,
              "#46039f"
             ],
             [
              0.2222222222222222,
              "#7201a8"
             ],
             [
              0.3333333333333333,
              "#9c179e"
             ],
             [
              0.4444444444444444,
              "#bd3786"
             ],
             [
              0.5555555555555556,
              "#d8576b"
             ],
             [
              0.6666666666666666,
              "#ed7953"
             ],
             [
              0.7777777777777778,
              "#fb9f3a"
             ],
             [
              0.8888888888888888,
              "#fdca26"
             ],
             [
              1,
              "#f0f921"
             ]
            ],
            "type": "heatmapgl"
           }
          ],
          "histogram": [
           {
            "marker": {
             "pattern": {
              "fillmode": "overlay",
              "size": 10,
              "solidity": 0.2
             }
            },
            "type": "histogram"
           }
          ],
          "histogram2d": [
           {
            "colorbar": {
             "outlinewidth": 0,
             "ticks": ""
            },
            "colorscale": [
             [
              0,
              "#0d0887"
             ],
             [
              0.1111111111111111,
              "#46039f"
             ],
             [
              0.2222222222222222,
              "#7201a8"
             ],
             [
              0.3333333333333333,
              "#9c179e"
             ],
             [
              0.4444444444444444,
              "#bd3786"
             ],
             [
              0.5555555555555556,
              "#d8576b"
             ],
             [
              0.6666666666666666,
              "#ed7953"
             ],
             [
              0.7777777777777778,
              "#fb9f3a"
             ],
             [
              0.8888888888888888,
              "#fdca26"
             ],
             [
              1,
              "#f0f921"
             ]
            ],
            "type": "histogram2d"
           }
          ],
          "histogram2dcontour": [
           {
            "colorbar": {
             "outlinewidth": 0,
             "ticks": ""
            },
            "colorscale": [
             [
              0,
              "#0d0887"
             ],
             [
              0.1111111111111111,
              "#46039f"
             ],
             [
              0.2222222222222222,
              "#7201a8"
             ],
             [
              0.3333333333333333,
              "#9c179e"
             ],
             [
              0.4444444444444444,
              "#bd3786"
             ],
             [
              0.5555555555555556,
              "#d8576b"
             ],
             [
              0.6666666666666666,
              "#ed7953"
             ],
             [
              0.7777777777777778,
              "#fb9f3a"
             ],
             [
              0.8888888888888888,
              "#fdca26"
             ],
             [
              1,
              "#f0f921"
             ]
            ],
            "type": "histogram2dcontour"
           }
          ],
          "mesh3d": [
           {
            "colorbar": {
             "outlinewidth": 0,
             "ticks": ""
            },
            "type": "mesh3d"
           }
          ],
          "parcoords": [
           {
            "line": {
             "colorbar": {
              "outlinewidth": 0,
              "ticks": ""
             }
            },
            "type": "parcoords"
           }
          ],
          "pie": [
           {
            "automargin": true,
            "type": "pie"
           }
          ],
          "scatter": [
           {
            "fillpattern": {
             "fillmode": "overlay",
             "size": 10,
             "solidity": 0.2
            },
            "type": "scatter"
           }
          ],
          "scatter3d": [
           {
            "line": {
             "colorbar": {
              "outlinewidth": 0,
              "ticks": ""
             }
            },
            "marker": {
             "colorbar": {
              "outlinewidth": 0,
              "ticks": ""
             }
            },
            "type": "scatter3d"
           }
          ],
          "scattercarpet": [
           {
            "marker": {
             "colorbar": {
              "outlinewidth": 0,
              "ticks": ""
             }
            },
            "type": "scattercarpet"
           }
          ],
          "scattergeo": [
           {
            "marker": {
             "colorbar": {
              "outlinewidth": 0,
              "ticks": ""
             }
            },
            "type": "scattergeo"
           }
          ],
          "scattergl": [
           {
            "marker": {
             "colorbar": {
              "outlinewidth": 0,
              "ticks": ""
             }
            },
            "type": "scattergl"
           }
          ],
          "scattermapbox": [
           {
            "marker": {
             "colorbar": {
              "outlinewidth": 0,
              "ticks": ""
             }
            },
            "type": "scattermapbox"
           }
          ],
          "scatterpolar": [
           {
            "marker": {
             "colorbar": {
              "outlinewidth": 0,
              "ticks": ""
             }
            },
            "type": "scatterpolar"
           }
          ],
          "scatterpolargl": [
           {
            "marker": {
             "colorbar": {
              "outlinewidth": 0,
              "ticks": ""
             }
            },
            "type": "scatterpolargl"
           }
          ],
          "scatterternary": [
           {
            "marker": {
             "colorbar": {
              "outlinewidth": 0,
              "ticks": ""
             }
            },
            "type": "scatterternary"
           }
          ],
          "surface": [
           {
            "colorbar": {
             "outlinewidth": 0,
             "ticks": ""
            },
            "colorscale": [
             [
              0,
              "#0d0887"
             ],
             [
              0.1111111111111111,
              "#46039f"
             ],
             [
              0.2222222222222222,
              "#7201a8"
             ],
             [
              0.3333333333333333,
              "#9c179e"
             ],
             [
              0.4444444444444444,
              "#bd3786"
             ],
             [
              0.5555555555555556,
              "#d8576b"
             ],
             [
              0.6666666666666666,
              "#ed7953"
             ],
             [
              0.7777777777777778,
              "#fb9f3a"
             ],
             [
              0.8888888888888888,
              "#fdca26"
             ],
             [
              1,
              "#f0f921"
             ]
            ],
            "type": "surface"
           }
          ],
          "table": [
           {
            "cells": {
             "fill": {
              "color": "#EBF0F8"
             },
             "line": {
              "color": "white"
             }
            },
            "header": {
             "fill": {
              "color": "#C8D4E3"
             },
             "line": {
              "color": "white"
             }
            },
            "type": "table"
           }
          ]
         },
         "layout": {
          "annotationdefaults": {
           "arrowcolor": "#2a3f5f",
           "arrowhead": 0,
           "arrowwidth": 1
          },
          "autotypenumbers": "strict",
          "coloraxis": {
           "colorbar": {
            "outlinewidth": 0,
            "ticks": ""
           }
          },
          "colorscale": {
           "diverging": [
            [
             0,
             "#8e0152"
            ],
            [
             0.1,
             "#c51b7d"
            ],
            [
             0.2,
             "#de77ae"
            ],
            [
             0.3,
             "#f1b6da"
            ],
            [
             0.4,
             "#fde0ef"
            ],
            [
             0.5,
             "#f7f7f7"
            ],
            [
             0.6,
             "#e6f5d0"
            ],
            [
             0.7,
             "#b8e186"
            ],
            [
             0.8,
             "#7fbc41"
            ],
            [
             0.9,
             "#4d9221"
            ],
            [
             1,
             "#276419"
            ]
           ],
           "sequential": [
            [
             0,
             "#0d0887"
            ],
            [
             0.1111111111111111,
             "#46039f"
            ],
            [
             0.2222222222222222,
             "#7201a8"
            ],
            [
             0.3333333333333333,
             "#9c179e"
            ],
            [
             0.4444444444444444,
             "#bd3786"
            ],
            [
             0.5555555555555556,
             "#d8576b"
            ],
            [
             0.6666666666666666,
             "#ed7953"
            ],
            [
             0.7777777777777778,
             "#fb9f3a"
            ],
            [
             0.8888888888888888,
             "#fdca26"
            ],
            [
             1,
             "#f0f921"
            ]
           ],
           "sequentialminus": [
            [
             0,
             "#0d0887"
            ],
            [
             0.1111111111111111,
             "#46039f"
            ],
            [
             0.2222222222222222,
             "#7201a8"
            ],
            [
             0.3333333333333333,
             "#9c179e"
            ],
            [
             0.4444444444444444,
             "#bd3786"
            ],
            [
             0.5555555555555556,
             "#d8576b"
            ],
            [
             0.6666666666666666,
             "#ed7953"
            ],
            [
             0.7777777777777778,
             "#fb9f3a"
            ],
            [
             0.8888888888888888,
             "#fdca26"
            ],
            [
             1,
             "#f0f921"
            ]
           ]
          },
          "colorway": [
           "#636efa",
           "#EF553B",
           "#00cc96",
           "#ab63fa",
           "#FFA15A",
           "#19d3f3",
           "#FF6692",
           "#B6E880",
           "#FF97FF",
           "#FECB52"
          ],
          "font": {
           "color": "#2a3f5f"
          },
          "geo": {
           "bgcolor": "white",
           "lakecolor": "white",
           "landcolor": "#E5ECF6",
           "showlakes": true,
           "showland": true,
           "subunitcolor": "white"
          },
          "hoverlabel": {
           "align": "left"
          },
          "hovermode": "closest",
          "mapbox": {
           "style": "light"
          },
          "paper_bgcolor": "white",
          "plot_bgcolor": "#E5ECF6",
          "polar": {
           "angularaxis": {
            "gridcolor": "white",
            "linecolor": "white",
            "ticks": ""
           },
           "bgcolor": "#E5ECF6",
           "radialaxis": {
            "gridcolor": "white",
            "linecolor": "white",
            "ticks": ""
           }
          },
          "scene": {
           "xaxis": {
            "backgroundcolor": "#E5ECF6",
            "gridcolor": "white",
            "gridwidth": 2,
            "linecolor": "white",
            "showbackground": true,
            "ticks": "",
            "zerolinecolor": "white"
           },
           "yaxis": {
            "backgroundcolor": "#E5ECF6",
            "gridcolor": "white",
            "gridwidth": 2,
            "linecolor": "white",
            "showbackground": true,
            "ticks": "",
            "zerolinecolor": "white"
           },
           "zaxis": {
            "backgroundcolor": "#E5ECF6",
            "gridcolor": "white",
            "gridwidth": 2,
            "linecolor": "white",
            "showbackground": true,
            "ticks": "",
            "zerolinecolor": "white"
           }
          },
          "shapedefaults": {
           "line": {
            "color": "#2a3f5f"
           }
          },
          "ternary": {
           "aaxis": {
            "gridcolor": "white",
            "linecolor": "white",
            "ticks": ""
           },
           "baxis": {
            "gridcolor": "white",
            "linecolor": "white",
            "ticks": ""
           },
           "bgcolor": "#E5ECF6",
           "caxis": {
            "gridcolor": "white",
            "linecolor": "white",
            "ticks": ""
           }
          },
          "title": {
           "x": 0.05
          },
          "xaxis": {
           "automargin": true,
           "gridcolor": "white",
           "linecolor": "white",
           "ticks": "",
           "title": {
            "standoff": 15
           },
           "zerolinecolor": "white",
           "zerolinewidth": 2
          },
          "yaxis": {
           "automargin": true,
           "gridcolor": "white",
           "linecolor": "white",
           "ticks": "",
           "title": {
            "standoff": 15
           },
           "zerolinecolor": "white",
           "zerolinewidth": 2
          }
         }
        },
        "title": {
         "text": "Daily returns of power and gas prices in 2021-2022"
        },
        "width": 1400,
        "xaxis": {
         "title": {
          "text": "Time"
         }
        },
        "yaxis": {
         "title": {
          "text": "Daily returns"
         }
        }
       }
      }
     },
     "metadata": {},
     "output_type": "display_data"
    }
   ],
   "source": [
    "fig3 = go.Figure()\n",
    "\n",
    "fig3.add_trace(go.Scatter(x = energy_price_df[\"time\"], y = energy_price_df[\"logReturn_power\"], name = \"Daily return power\"))\n",
    "fig3.add_trace(go.Scatter(x = energy_price_df[\"time\"], y = energy_price_df[\"logReturn_gas\"], name = \"Daily return gas\"))\n",
    "fig3.update_layout(\n",
    "        autosize= False, width= 1400, height=400,\n",
    "        title=\"Daily returns of power and gas prices in 2021-2022\",\n",
    "        xaxis_title=\"Time\", yaxis_title=\"Daily returns\")"
   ]
  },
  {
   "attachments": {},
   "cell_type": "markdown",
   "metadata": {},
   "source": [
    "##### 3. Evaluation\n",
    "\n",
    "The figure (fig 2) created with the model depicts there is no clear positive nor negative correlation between power and gas price development through 2021-current.</br>\n",
    "However, it is different from the expectation I got from the figure 1 above (showing the pure price developments).</br>\n",
    "Looking at daily returns in fig 3, I could see some data points do not have similarity in their movement compared to another.\n",
    "\n",
    "We easily see phrases, however, such as \"Electricity prices, tied to the price of gas\", \"Natural gas is the driver for the European electricity price\", [5]</br>\n",
    "saying how correlated the prices of two commodities.\n",
    "\n",
    "Then, what could be the reasons for this result given from my model?</br>\n",
    "1. Natural gas is certainly influential in electricity prices, but there are other contributing factors, </br>\n",
    "   such as seasonality, weather, availavility in other power generation sources and geopolitical situation, </br>\n",
    "   which could make power price independantly move from the gas price development. \n",
    "   \n",
    "2. Correlation analysis couldn't be appropriate to answer my third question as \"Correlation doesn’t equal causality\". </br> \n",
    "   In addition, simple correlation coefficient compares two different variables across the same data point.</br> \n",
    "   Other methods, such as autocorrelation or cross-correlation function could be more reasonable to find the relationship.\n"
   ]
  },
  {
   "attachments": {},
   "cell_type": "markdown",
   "metadata": {},
   "source": [
    "#### 4. Conclusion\n",
    "In this project, I conducted a small experiment to observe the price developments of two different commodities, electricity and gas, </br>\n",
    "and check the correlation in the price movements. With eyeball test, I found a similartiy in the price movements when I saw the pure price values.</br>\n",
    "However, looking at the rolling correlation coefficient results, it was found that there was no clear correlation between the prices of the two commodities.</br>\n",
    "\n",
    "It can be assumed that the relationship of two commdities cannot be fully explained with the simple correlation analysis as it involves a number of </br>\n",
    "influencing factors, such as weather and geopolitical tensions across the world. Furthermore, more suitable method to deal with timeseries data should </br>\n",
    "be used for the case."
   ]
  },
  {
   "attachments": {},
   "cell_type": "markdown",
   "metadata": {},
   "source": [
    "Reference </br>\n",
    "[1] https://www.euronews.com/my-europe/2021/10/28/why-europe-s-energy-prices-are-soaring-and-could-get-much-worse</br>\n",
    "[2] https://www.statista.com/statistics/1267202/weekly-dutch-ttf-gas-futures/</br>\n",
    "[3] https://www.aa.com.tr/en/world/highlights-of-global-energy-market-in-2022/2773628 </br>\n",
    "[4] https://energy.ec.europa.eu/data-and-analysis/market-analysis_en</br>\n",
    "[5] https://www.nytimes.com/2022/08/25/business/europe-electricity-prices.html"
   ]
  },
  {
   "cell_type": "code",
   "execution_count": null,
   "metadata": {},
   "outputs": [],
   "source": []
  }
 ],
 "metadata": {
  "kernelspec": {
   "display_name": "projectenv",
   "language": "python",
   "name": "python3"
  },
  "language_info": {
   "codemirror_mode": {
    "name": "ipython",
    "version": 3
   },
   "file_extension": ".py",
   "mimetype": "text/x-python",
   "name": "python",
   "nbconvert_exporter": "python",
   "pygments_lexer": "ipython3",
   "version": "3.9.12"
  },
  "orig_nbformat": 4,
  "vscode": {
   "interpreter": {
    "hash": "baa3c436c684aef191600de451be4fde4999622330e1fcc25227113ae18c5737"
   }
  }
 },
 "nbformat": 4,
 "nbformat_minor": 2
}
